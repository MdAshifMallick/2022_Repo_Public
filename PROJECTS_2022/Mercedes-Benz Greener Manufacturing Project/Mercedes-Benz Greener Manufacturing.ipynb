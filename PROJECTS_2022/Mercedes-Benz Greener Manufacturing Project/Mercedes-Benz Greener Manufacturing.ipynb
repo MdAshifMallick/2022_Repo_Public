{
 "cells": [
  {
   "cell_type": "markdown",
   "metadata": {},
   "source": [
    "DESCRIPTION\n",
    "\n",
    "Reduce the time a Mercedes-Benz spends on the test bench.\n",
    "\n",
    "Problem Statement Scenario:\n",
    "Since the first automobile, the Benz Patent Motor Car in 1886, Mercedes-Benz has stood for important automotive innovations. These include the passenger safety cell with a crumple zone, the airbag, and intelligent assistance systems. Mercedes-Benz applies for nearly 2000 patents per year, making the brand the European leader among premium carmakers. Mercedes-Benz is the leader in the premium car industry. With a huge selection of features and options, customers can choose the customized Mercedes-Benz of their dreams.\n",
    "\n",
    "To ensure the safety and reliability of every unique car configuration before they hit the road, the company’s engineers have developed a robust testing system. As one of the world’s biggest manufacturers of premium cars, safety and efficiency are paramount on Mercedes-Benz’s production lines. However, optimizing the speed of their testing system for many possible feature combinations is complex and time-consuming without a powerful algorithmic approach.\n",
    "\n",
    "You are required to reduce the time that cars spend on the test bench. Others will work with a dataset representing different permutations of features in a Mercedes-Benz car to predict the time it takes to pass testing. Optimal algorithms will contribute to faster testing, resulting in lower carbon dioxide emissions without reducing Mercedes-Benz’s standards.\n",
    "\n",
    "Following actions should be performed:\n",
    "\n",
    "1. If for any column(s), the variance is equal to zero, then you need to remove those variable(s).\n",
    "2. Check for null and unique values for test and train sets.\n",
    "3. Apply label encoder.\n",
    "4. Perform dimensionality reduction.\n",
    "5. Predict your test_df values using XGBoost."
   ]
  },
  {
   "cell_type": "code",
   "execution_count": 153,
   "metadata": {},
   "outputs": [],
   "source": [
    "import pandas as pd\n",
    "import numpy as np\n",
    "import matplotlib.pyplot as plt"
   ]
  },
  {
   "cell_type": "code",
   "execution_count": 154,
   "metadata": {},
   "outputs": [],
   "source": [
    "# Data Importing"
   ]
  },
  {
   "cell_type": "code",
   "execution_count": 155,
   "metadata": {},
   "outputs": [
    {
     "data": {
      "text/html": [
       "<div>\n",
       "<style scoped>\n",
       "    .dataframe tbody tr th:only-of-type {\n",
       "        vertical-align: middle;\n",
       "    }\n",
       "\n",
       "    .dataframe tbody tr th {\n",
       "        vertical-align: top;\n",
       "    }\n",
       "\n",
       "    .dataframe thead th {\n",
       "        text-align: right;\n",
       "    }\n",
       "</style>\n",
       "<table border=\"1\" class=\"dataframe\">\n",
       "  <thead>\n",
       "    <tr style=\"text-align: right;\">\n",
       "      <th></th>\n",
       "      <th>ID</th>\n",
       "      <th>y</th>\n",
       "      <th>X0</th>\n",
       "      <th>X1</th>\n",
       "      <th>X2</th>\n",
       "      <th>X3</th>\n",
       "      <th>X4</th>\n",
       "      <th>X5</th>\n",
       "      <th>X6</th>\n",
       "      <th>X8</th>\n",
       "      <th>...</th>\n",
       "      <th>X375</th>\n",
       "      <th>X376</th>\n",
       "      <th>X377</th>\n",
       "      <th>X378</th>\n",
       "      <th>X379</th>\n",
       "      <th>X380</th>\n",
       "      <th>X382</th>\n",
       "      <th>X383</th>\n",
       "      <th>X384</th>\n",
       "      <th>X385</th>\n",
       "    </tr>\n",
       "  </thead>\n",
       "  <tbody>\n",
       "    <tr>\n",
       "      <th>0</th>\n",
       "      <td>0</td>\n",
       "      <td>130.81</td>\n",
       "      <td>k</td>\n",
       "      <td>v</td>\n",
       "      <td>at</td>\n",
       "      <td>a</td>\n",
       "      <td>d</td>\n",
       "      <td>u</td>\n",
       "      <td>j</td>\n",
       "      <td>o</td>\n",
       "      <td>...</td>\n",
       "      <td>0</td>\n",
       "      <td>0</td>\n",
       "      <td>1</td>\n",
       "      <td>0</td>\n",
       "      <td>0</td>\n",
       "      <td>0</td>\n",
       "      <td>0</td>\n",
       "      <td>0</td>\n",
       "      <td>0</td>\n",
       "      <td>0</td>\n",
       "    </tr>\n",
       "    <tr>\n",
       "      <th>1</th>\n",
       "      <td>6</td>\n",
       "      <td>88.53</td>\n",
       "      <td>k</td>\n",
       "      <td>t</td>\n",
       "      <td>av</td>\n",
       "      <td>e</td>\n",
       "      <td>d</td>\n",
       "      <td>y</td>\n",
       "      <td>l</td>\n",
       "      <td>o</td>\n",
       "      <td>...</td>\n",
       "      <td>1</td>\n",
       "      <td>0</td>\n",
       "      <td>0</td>\n",
       "      <td>0</td>\n",
       "      <td>0</td>\n",
       "      <td>0</td>\n",
       "      <td>0</td>\n",
       "      <td>0</td>\n",
       "      <td>0</td>\n",
       "      <td>0</td>\n",
       "    </tr>\n",
       "    <tr>\n",
       "      <th>2</th>\n",
       "      <td>7</td>\n",
       "      <td>76.26</td>\n",
       "      <td>az</td>\n",
       "      <td>w</td>\n",
       "      <td>n</td>\n",
       "      <td>c</td>\n",
       "      <td>d</td>\n",
       "      <td>x</td>\n",
       "      <td>j</td>\n",
       "      <td>x</td>\n",
       "      <td>...</td>\n",
       "      <td>0</td>\n",
       "      <td>0</td>\n",
       "      <td>0</td>\n",
       "      <td>0</td>\n",
       "      <td>0</td>\n",
       "      <td>0</td>\n",
       "      <td>1</td>\n",
       "      <td>0</td>\n",
       "      <td>0</td>\n",
       "      <td>0</td>\n",
       "    </tr>\n",
       "    <tr>\n",
       "      <th>3</th>\n",
       "      <td>9</td>\n",
       "      <td>80.62</td>\n",
       "      <td>az</td>\n",
       "      <td>t</td>\n",
       "      <td>n</td>\n",
       "      <td>f</td>\n",
       "      <td>d</td>\n",
       "      <td>x</td>\n",
       "      <td>l</td>\n",
       "      <td>e</td>\n",
       "      <td>...</td>\n",
       "      <td>0</td>\n",
       "      <td>0</td>\n",
       "      <td>0</td>\n",
       "      <td>0</td>\n",
       "      <td>0</td>\n",
       "      <td>0</td>\n",
       "      <td>0</td>\n",
       "      <td>0</td>\n",
       "      <td>0</td>\n",
       "      <td>0</td>\n",
       "    </tr>\n",
       "    <tr>\n",
       "      <th>4</th>\n",
       "      <td>13</td>\n",
       "      <td>78.02</td>\n",
       "      <td>az</td>\n",
       "      <td>v</td>\n",
       "      <td>n</td>\n",
       "      <td>f</td>\n",
       "      <td>d</td>\n",
       "      <td>h</td>\n",
       "      <td>d</td>\n",
       "      <td>n</td>\n",
       "      <td>...</td>\n",
       "      <td>0</td>\n",
       "      <td>0</td>\n",
       "      <td>0</td>\n",
       "      <td>0</td>\n",
       "      <td>0</td>\n",
       "      <td>0</td>\n",
       "      <td>0</td>\n",
       "      <td>0</td>\n",
       "      <td>0</td>\n",
       "      <td>0</td>\n",
       "    </tr>\n",
       "    <tr>\n",
       "      <th>...</th>\n",
       "      <td>...</td>\n",
       "      <td>...</td>\n",
       "      <td>...</td>\n",
       "      <td>...</td>\n",
       "      <td>...</td>\n",
       "      <td>...</td>\n",
       "      <td>...</td>\n",
       "      <td>...</td>\n",
       "      <td>...</td>\n",
       "      <td>...</td>\n",
       "      <td>...</td>\n",
       "      <td>...</td>\n",
       "      <td>...</td>\n",
       "      <td>...</td>\n",
       "      <td>...</td>\n",
       "      <td>...</td>\n",
       "      <td>...</td>\n",
       "      <td>...</td>\n",
       "      <td>...</td>\n",
       "      <td>...</td>\n",
       "      <td>...</td>\n",
       "    </tr>\n",
       "    <tr>\n",
       "      <th>4204</th>\n",
       "      <td>8405</td>\n",
       "      <td>107.39</td>\n",
       "      <td>ak</td>\n",
       "      <td>s</td>\n",
       "      <td>as</td>\n",
       "      <td>c</td>\n",
       "      <td>d</td>\n",
       "      <td>aa</td>\n",
       "      <td>d</td>\n",
       "      <td>q</td>\n",
       "      <td>...</td>\n",
       "      <td>1</td>\n",
       "      <td>0</td>\n",
       "      <td>0</td>\n",
       "      <td>0</td>\n",
       "      <td>0</td>\n",
       "      <td>0</td>\n",
       "      <td>0</td>\n",
       "      <td>0</td>\n",
       "      <td>0</td>\n",
       "      <td>0</td>\n",
       "    </tr>\n",
       "    <tr>\n",
       "      <th>4205</th>\n",
       "      <td>8406</td>\n",
       "      <td>108.77</td>\n",
       "      <td>j</td>\n",
       "      <td>o</td>\n",
       "      <td>t</td>\n",
       "      <td>d</td>\n",
       "      <td>d</td>\n",
       "      <td>aa</td>\n",
       "      <td>h</td>\n",
       "      <td>h</td>\n",
       "      <td>...</td>\n",
       "      <td>0</td>\n",
       "      <td>1</td>\n",
       "      <td>0</td>\n",
       "      <td>0</td>\n",
       "      <td>0</td>\n",
       "      <td>0</td>\n",
       "      <td>0</td>\n",
       "      <td>0</td>\n",
       "      <td>0</td>\n",
       "      <td>0</td>\n",
       "    </tr>\n",
       "    <tr>\n",
       "      <th>4206</th>\n",
       "      <td>8412</td>\n",
       "      <td>109.22</td>\n",
       "      <td>ak</td>\n",
       "      <td>v</td>\n",
       "      <td>r</td>\n",
       "      <td>a</td>\n",
       "      <td>d</td>\n",
       "      <td>aa</td>\n",
       "      <td>g</td>\n",
       "      <td>e</td>\n",
       "      <td>...</td>\n",
       "      <td>0</td>\n",
       "      <td>0</td>\n",
       "      <td>1</td>\n",
       "      <td>0</td>\n",
       "      <td>0</td>\n",
       "      <td>0</td>\n",
       "      <td>0</td>\n",
       "      <td>0</td>\n",
       "      <td>0</td>\n",
       "      <td>0</td>\n",
       "    </tr>\n",
       "    <tr>\n",
       "      <th>4207</th>\n",
       "      <td>8415</td>\n",
       "      <td>87.48</td>\n",
       "      <td>al</td>\n",
       "      <td>r</td>\n",
       "      <td>e</td>\n",
       "      <td>f</td>\n",
       "      <td>d</td>\n",
       "      <td>aa</td>\n",
       "      <td>l</td>\n",
       "      <td>u</td>\n",
       "      <td>...</td>\n",
       "      <td>0</td>\n",
       "      <td>0</td>\n",
       "      <td>0</td>\n",
       "      <td>0</td>\n",
       "      <td>0</td>\n",
       "      <td>0</td>\n",
       "      <td>0</td>\n",
       "      <td>0</td>\n",
       "      <td>0</td>\n",
       "      <td>0</td>\n",
       "    </tr>\n",
       "    <tr>\n",
       "      <th>4208</th>\n",
       "      <td>8417</td>\n",
       "      <td>110.85</td>\n",
       "      <td>z</td>\n",
       "      <td>r</td>\n",
       "      <td>ae</td>\n",
       "      <td>c</td>\n",
       "      <td>d</td>\n",
       "      <td>aa</td>\n",
       "      <td>g</td>\n",
       "      <td>w</td>\n",
       "      <td>...</td>\n",
       "      <td>1</td>\n",
       "      <td>0</td>\n",
       "      <td>0</td>\n",
       "      <td>0</td>\n",
       "      <td>0</td>\n",
       "      <td>0</td>\n",
       "      <td>0</td>\n",
       "      <td>0</td>\n",
       "      <td>0</td>\n",
       "      <td>0</td>\n",
       "    </tr>\n",
       "  </tbody>\n",
       "</table>\n",
       "<p>4209 rows × 378 columns</p>\n",
       "</div>"
      ],
      "text/plain": [
       "        ID       y  X0 X1  X2 X3 X4  X5 X6 X8  ...  X375  X376  X377  X378  \\\n",
       "0        0  130.81   k  v  at  a  d   u  j  o  ...     0     0     1     0   \n",
       "1        6   88.53   k  t  av  e  d   y  l  o  ...     1     0     0     0   \n",
       "2        7   76.26  az  w   n  c  d   x  j  x  ...     0     0     0     0   \n",
       "3        9   80.62  az  t   n  f  d   x  l  e  ...     0     0     0     0   \n",
       "4       13   78.02  az  v   n  f  d   h  d  n  ...     0     0     0     0   \n",
       "...    ...     ...  .. ..  .. .. ..  .. .. ..  ...   ...   ...   ...   ...   \n",
       "4204  8405  107.39  ak  s  as  c  d  aa  d  q  ...     1     0     0     0   \n",
       "4205  8406  108.77   j  o   t  d  d  aa  h  h  ...     0     1     0     0   \n",
       "4206  8412  109.22  ak  v   r  a  d  aa  g  e  ...     0     0     1     0   \n",
       "4207  8415   87.48  al  r   e  f  d  aa  l  u  ...     0     0     0     0   \n",
       "4208  8417  110.85   z  r  ae  c  d  aa  g  w  ...     1     0     0     0   \n",
       "\n",
       "      X379  X380  X382  X383  X384  X385  \n",
       "0        0     0     0     0     0     0  \n",
       "1        0     0     0     0     0     0  \n",
       "2        0     0     1     0     0     0  \n",
       "3        0     0     0     0     0     0  \n",
       "4        0     0     0     0     0     0  \n",
       "...    ...   ...   ...   ...   ...   ...  \n",
       "4204     0     0     0     0     0     0  \n",
       "4205     0     0     0     0     0     0  \n",
       "4206     0     0     0     0     0     0  \n",
       "4207     0     0     0     0     0     0  \n",
       "4208     0     0     0     0     0     0  \n",
       "\n",
       "[4209 rows x 378 columns]"
      ]
     },
     "execution_count": 155,
     "metadata": {},
     "output_type": "execute_result"
    }
   ],
   "source": [
    "train_data=pd.read_csv('train.csv')\n",
    "train_data"
   ]
  },
  {
   "cell_type": "code",
   "execution_count": 156,
   "metadata": {},
   "outputs": [
    {
     "data": {
      "text/html": [
       "<div>\n",
       "<style scoped>\n",
       "    .dataframe tbody tr th:only-of-type {\n",
       "        vertical-align: middle;\n",
       "    }\n",
       "\n",
       "    .dataframe tbody tr th {\n",
       "        vertical-align: top;\n",
       "    }\n",
       "\n",
       "    .dataframe thead th {\n",
       "        text-align: right;\n",
       "    }\n",
       "</style>\n",
       "<table border=\"1\" class=\"dataframe\">\n",
       "  <thead>\n",
       "    <tr style=\"text-align: right;\">\n",
       "      <th></th>\n",
       "      <th>ID</th>\n",
       "      <th>X0</th>\n",
       "      <th>X1</th>\n",
       "      <th>X2</th>\n",
       "      <th>X3</th>\n",
       "      <th>X4</th>\n",
       "      <th>X5</th>\n",
       "      <th>X6</th>\n",
       "      <th>X8</th>\n",
       "      <th>X10</th>\n",
       "      <th>...</th>\n",
       "      <th>X375</th>\n",
       "      <th>X376</th>\n",
       "      <th>X377</th>\n",
       "      <th>X378</th>\n",
       "      <th>X379</th>\n",
       "      <th>X380</th>\n",
       "      <th>X382</th>\n",
       "      <th>X383</th>\n",
       "      <th>X384</th>\n",
       "      <th>X385</th>\n",
       "    </tr>\n",
       "  </thead>\n",
       "  <tbody>\n",
       "    <tr>\n",
       "      <th>0</th>\n",
       "      <td>1</td>\n",
       "      <td>az</td>\n",
       "      <td>v</td>\n",
       "      <td>n</td>\n",
       "      <td>f</td>\n",
       "      <td>d</td>\n",
       "      <td>t</td>\n",
       "      <td>a</td>\n",
       "      <td>w</td>\n",
       "      <td>0</td>\n",
       "      <td>...</td>\n",
       "      <td>0</td>\n",
       "      <td>0</td>\n",
       "      <td>0</td>\n",
       "      <td>1</td>\n",
       "      <td>0</td>\n",
       "      <td>0</td>\n",
       "      <td>0</td>\n",
       "      <td>0</td>\n",
       "      <td>0</td>\n",
       "      <td>0</td>\n",
       "    </tr>\n",
       "    <tr>\n",
       "      <th>1</th>\n",
       "      <td>2</td>\n",
       "      <td>t</td>\n",
       "      <td>b</td>\n",
       "      <td>ai</td>\n",
       "      <td>a</td>\n",
       "      <td>d</td>\n",
       "      <td>b</td>\n",
       "      <td>g</td>\n",
       "      <td>y</td>\n",
       "      <td>0</td>\n",
       "      <td>...</td>\n",
       "      <td>0</td>\n",
       "      <td>0</td>\n",
       "      <td>1</td>\n",
       "      <td>0</td>\n",
       "      <td>0</td>\n",
       "      <td>0</td>\n",
       "      <td>0</td>\n",
       "      <td>0</td>\n",
       "      <td>0</td>\n",
       "      <td>0</td>\n",
       "    </tr>\n",
       "    <tr>\n",
       "      <th>2</th>\n",
       "      <td>3</td>\n",
       "      <td>az</td>\n",
       "      <td>v</td>\n",
       "      <td>as</td>\n",
       "      <td>f</td>\n",
       "      <td>d</td>\n",
       "      <td>a</td>\n",
       "      <td>j</td>\n",
       "      <td>j</td>\n",
       "      <td>0</td>\n",
       "      <td>...</td>\n",
       "      <td>0</td>\n",
       "      <td>0</td>\n",
       "      <td>0</td>\n",
       "      <td>1</td>\n",
       "      <td>0</td>\n",
       "      <td>0</td>\n",
       "      <td>0</td>\n",
       "      <td>0</td>\n",
       "      <td>0</td>\n",
       "      <td>0</td>\n",
       "    </tr>\n",
       "    <tr>\n",
       "      <th>3</th>\n",
       "      <td>4</td>\n",
       "      <td>az</td>\n",
       "      <td>l</td>\n",
       "      <td>n</td>\n",
       "      <td>f</td>\n",
       "      <td>d</td>\n",
       "      <td>z</td>\n",
       "      <td>l</td>\n",
       "      <td>n</td>\n",
       "      <td>0</td>\n",
       "      <td>...</td>\n",
       "      <td>0</td>\n",
       "      <td>0</td>\n",
       "      <td>0</td>\n",
       "      <td>1</td>\n",
       "      <td>0</td>\n",
       "      <td>0</td>\n",
       "      <td>0</td>\n",
       "      <td>0</td>\n",
       "      <td>0</td>\n",
       "      <td>0</td>\n",
       "    </tr>\n",
       "    <tr>\n",
       "      <th>4</th>\n",
       "      <td>5</td>\n",
       "      <td>w</td>\n",
       "      <td>s</td>\n",
       "      <td>as</td>\n",
       "      <td>c</td>\n",
       "      <td>d</td>\n",
       "      <td>y</td>\n",
       "      <td>i</td>\n",
       "      <td>m</td>\n",
       "      <td>0</td>\n",
       "      <td>...</td>\n",
       "      <td>1</td>\n",
       "      <td>0</td>\n",
       "      <td>0</td>\n",
       "      <td>0</td>\n",
       "      <td>0</td>\n",
       "      <td>0</td>\n",
       "      <td>0</td>\n",
       "      <td>0</td>\n",
       "      <td>0</td>\n",
       "      <td>0</td>\n",
       "    </tr>\n",
       "    <tr>\n",
       "      <th>...</th>\n",
       "      <td>...</td>\n",
       "      <td>...</td>\n",
       "      <td>...</td>\n",
       "      <td>...</td>\n",
       "      <td>...</td>\n",
       "      <td>...</td>\n",
       "      <td>...</td>\n",
       "      <td>...</td>\n",
       "      <td>...</td>\n",
       "      <td>...</td>\n",
       "      <td>...</td>\n",
       "      <td>...</td>\n",
       "      <td>...</td>\n",
       "      <td>...</td>\n",
       "      <td>...</td>\n",
       "      <td>...</td>\n",
       "      <td>...</td>\n",
       "      <td>...</td>\n",
       "      <td>...</td>\n",
       "      <td>...</td>\n",
       "      <td>...</td>\n",
       "    </tr>\n",
       "    <tr>\n",
       "      <th>4204</th>\n",
       "      <td>8410</td>\n",
       "      <td>aj</td>\n",
       "      <td>h</td>\n",
       "      <td>as</td>\n",
       "      <td>f</td>\n",
       "      <td>d</td>\n",
       "      <td>aa</td>\n",
       "      <td>j</td>\n",
       "      <td>e</td>\n",
       "      <td>0</td>\n",
       "      <td>...</td>\n",
       "      <td>0</td>\n",
       "      <td>0</td>\n",
       "      <td>0</td>\n",
       "      <td>0</td>\n",
       "      <td>0</td>\n",
       "      <td>0</td>\n",
       "      <td>0</td>\n",
       "      <td>0</td>\n",
       "      <td>0</td>\n",
       "      <td>0</td>\n",
       "    </tr>\n",
       "    <tr>\n",
       "      <th>4205</th>\n",
       "      <td>8411</td>\n",
       "      <td>t</td>\n",
       "      <td>aa</td>\n",
       "      <td>ai</td>\n",
       "      <td>d</td>\n",
       "      <td>d</td>\n",
       "      <td>aa</td>\n",
       "      <td>j</td>\n",
       "      <td>y</td>\n",
       "      <td>0</td>\n",
       "      <td>...</td>\n",
       "      <td>0</td>\n",
       "      <td>1</td>\n",
       "      <td>0</td>\n",
       "      <td>0</td>\n",
       "      <td>0</td>\n",
       "      <td>0</td>\n",
       "      <td>0</td>\n",
       "      <td>0</td>\n",
       "      <td>0</td>\n",
       "      <td>0</td>\n",
       "    </tr>\n",
       "    <tr>\n",
       "      <th>4206</th>\n",
       "      <td>8413</td>\n",
       "      <td>y</td>\n",
       "      <td>v</td>\n",
       "      <td>as</td>\n",
       "      <td>f</td>\n",
       "      <td>d</td>\n",
       "      <td>aa</td>\n",
       "      <td>d</td>\n",
       "      <td>w</td>\n",
       "      <td>0</td>\n",
       "      <td>...</td>\n",
       "      <td>0</td>\n",
       "      <td>0</td>\n",
       "      <td>0</td>\n",
       "      <td>0</td>\n",
       "      <td>0</td>\n",
       "      <td>0</td>\n",
       "      <td>0</td>\n",
       "      <td>0</td>\n",
       "      <td>0</td>\n",
       "      <td>0</td>\n",
       "    </tr>\n",
       "    <tr>\n",
       "      <th>4207</th>\n",
       "      <td>8414</td>\n",
       "      <td>ak</td>\n",
       "      <td>v</td>\n",
       "      <td>as</td>\n",
       "      <td>a</td>\n",
       "      <td>d</td>\n",
       "      <td>aa</td>\n",
       "      <td>c</td>\n",
       "      <td>q</td>\n",
       "      <td>0</td>\n",
       "      <td>...</td>\n",
       "      <td>0</td>\n",
       "      <td>0</td>\n",
       "      <td>1</td>\n",
       "      <td>0</td>\n",
       "      <td>0</td>\n",
       "      <td>0</td>\n",
       "      <td>0</td>\n",
       "      <td>0</td>\n",
       "      <td>0</td>\n",
       "      <td>0</td>\n",
       "    </tr>\n",
       "    <tr>\n",
       "      <th>4208</th>\n",
       "      <td>8416</td>\n",
       "      <td>t</td>\n",
       "      <td>aa</td>\n",
       "      <td>ai</td>\n",
       "      <td>c</td>\n",
       "      <td>d</td>\n",
       "      <td>aa</td>\n",
       "      <td>g</td>\n",
       "      <td>r</td>\n",
       "      <td>0</td>\n",
       "      <td>...</td>\n",
       "      <td>1</td>\n",
       "      <td>0</td>\n",
       "      <td>0</td>\n",
       "      <td>0</td>\n",
       "      <td>0</td>\n",
       "      <td>0</td>\n",
       "      <td>0</td>\n",
       "      <td>0</td>\n",
       "      <td>0</td>\n",
       "      <td>0</td>\n",
       "    </tr>\n",
       "  </tbody>\n",
       "</table>\n",
       "<p>4209 rows × 377 columns</p>\n",
       "</div>"
      ],
      "text/plain": [
       "        ID  X0  X1  X2 X3 X4  X5 X6 X8  X10  ...  X375  X376  X377  X378  \\\n",
       "0        1  az   v   n  f  d   t  a  w    0  ...     0     0     0     1   \n",
       "1        2   t   b  ai  a  d   b  g  y    0  ...     0     0     1     0   \n",
       "2        3  az   v  as  f  d   a  j  j    0  ...     0     0     0     1   \n",
       "3        4  az   l   n  f  d   z  l  n    0  ...     0     0     0     1   \n",
       "4        5   w   s  as  c  d   y  i  m    0  ...     1     0     0     0   \n",
       "...    ...  ..  ..  .. .. ..  .. .. ..  ...  ...   ...   ...   ...   ...   \n",
       "4204  8410  aj   h  as  f  d  aa  j  e    0  ...     0     0     0     0   \n",
       "4205  8411   t  aa  ai  d  d  aa  j  y    0  ...     0     1     0     0   \n",
       "4206  8413   y   v  as  f  d  aa  d  w    0  ...     0     0     0     0   \n",
       "4207  8414  ak   v  as  a  d  aa  c  q    0  ...     0     0     1     0   \n",
       "4208  8416   t  aa  ai  c  d  aa  g  r    0  ...     1     0     0     0   \n",
       "\n",
       "      X379  X380  X382  X383  X384  X385  \n",
       "0        0     0     0     0     0     0  \n",
       "1        0     0     0     0     0     0  \n",
       "2        0     0     0     0     0     0  \n",
       "3        0     0     0     0     0     0  \n",
       "4        0     0     0     0     0     0  \n",
       "...    ...   ...   ...   ...   ...   ...  \n",
       "4204     0     0     0     0     0     0  \n",
       "4205     0     0     0     0     0     0  \n",
       "4206     0     0     0     0     0     0  \n",
       "4207     0     0     0     0     0     0  \n",
       "4208     0     0     0     0     0     0  \n",
       "\n",
       "[4209 rows x 377 columns]"
      ]
     },
     "execution_count": 156,
     "metadata": {},
     "output_type": "execute_result"
    }
   ],
   "source": [
    "test_data=pd.read_csv('test.csv')\n",
    "test_data"
   ]
  },
  {
   "cell_type": "markdown",
   "metadata": {},
   "source": [
    "## task_1 - If for any column(s), the variance is equal to zero, then you need to remove those variable(s)."
   ]
  },
  {
   "cell_type": "code",
   "execution_count": 157,
   "metadata": {},
   "outputs": [
    {
     "data": {
      "text/html": [
       "<div>\n",
       "<style scoped>\n",
       "    .dataframe tbody tr th:only-of-type {\n",
       "        vertical-align: middle;\n",
       "    }\n",
       "\n",
       "    .dataframe tbody tr th {\n",
       "        vertical-align: top;\n",
       "    }\n",
       "\n",
       "    .dataframe thead th {\n",
       "        text-align: right;\n",
       "    }\n",
       "</style>\n",
       "<table border=\"1\" class=\"dataframe\">\n",
       "  <thead>\n",
       "    <tr style=\"text-align: right;\">\n",
       "      <th></th>\n",
       "      <th>features</th>\n",
       "      <th>variance</th>\n",
       "    </tr>\n",
       "  </thead>\n",
       "  <tbody>\n",
       "    <tr>\n",
       "      <th>0</th>\n",
       "      <td>ID</td>\n",
       "      <td>5.941936e+06</td>\n",
       "    </tr>\n",
       "    <tr>\n",
       "      <th>1</th>\n",
       "      <td>y</td>\n",
       "      <td>1.607667e+02</td>\n",
       "    </tr>\n",
       "    <tr>\n",
       "      <th>2</th>\n",
       "      <td>X10</td>\n",
       "      <td>1.313092e-02</td>\n",
       "    </tr>\n",
       "    <tr>\n",
       "      <th>3</th>\n",
       "      <td>X11</td>\n",
       "      <td>0.000000e+00</td>\n",
       "    </tr>\n",
       "    <tr>\n",
       "      <th>4</th>\n",
       "      <td>X12</td>\n",
       "      <td>6.945713e-02</td>\n",
       "    </tr>\n",
       "    <tr>\n",
       "      <th>...</th>\n",
       "      <td>...</td>\n",
       "      <td>...</td>\n",
       "    </tr>\n",
       "    <tr>\n",
       "      <th>365</th>\n",
       "      <td>X380</td>\n",
       "      <td>8.014579e-03</td>\n",
       "    </tr>\n",
       "    <tr>\n",
       "      <th>366</th>\n",
       "      <td>X382</td>\n",
       "      <td>7.546747e-03</td>\n",
       "    </tr>\n",
       "    <tr>\n",
       "      <th>367</th>\n",
       "      <td>X383</td>\n",
       "      <td>1.660732e-03</td>\n",
       "    </tr>\n",
       "    <tr>\n",
       "      <th>368</th>\n",
       "      <td>X384</td>\n",
       "      <td>4.750593e-04</td>\n",
       "    </tr>\n",
       "    <tr>\n",
       "      <th>369</th>\n",
       "      <td>X385</td>\n",
       "      <td>1.423823e-03</td>\n",
       "    </tr>\n",
       "  </tbody>\n",
       "</table>\n",
       "<p>370 rows × 2 columns</p>\n",
       "</div>"
      ],
      "text/plain": [
       "    features      variance\n",
       "0         ID  5.941936e+06\n",
       "1          y  1.607667e+02\n",
       "2        X10  1.313092e-02\n",
       "3        X11  0.000000e+00\n",
       "4        X12  6.945713e-02\n",
       "..       ...           ...\n",
       "365     X380  8.014579e-03\n",
       "366     X382  7.546747e-03\n",
       "367     X383  1.660732e-03\n",
       "368     X384  4.750593e-04\n",
       "369     X385  1.423823e-03\n",
       "\n",
       "[370 rows x 2 columns]"
      ]
     },
     "execution_count": 157,
     "metadata": {},
     "output_type": "execute_result"
    }
   ],
   "source": [
    "var=train_data.var().to_frame().reset_index().rename(columns={0:'variance','index':'features'})\n",
    "var"
   ]
  },
  {
   "cell_type": "code",
   "execution_count": 158,
   "metadata": {},
   "outputs": [
    {
     "data": {
      "text/html": [
       "<div>\n",
       "<style scoped>\n",
       "    .dataframe tbody tr th:only-of-type {\n",
       "        vertical-align: middle;\n",
       "    }\n",
       "\n",
       "    .dataframe tbody tr th {\n",
       "        vertical-align: top;\n",
       "    }\n",
       "\n",
       "    .dataframe thead th {\n",
       "        text-align: right;\n",
       "    }\n",
       "</style>\n",
       "<table border=\"1\" class=\"dataframe\">\n",
       "  <thead>\n",
       "    <tr style=\"text-align: right;\">\n",
       "      <th></th>\n",
       "      <th>features</th>\n",
       "      <th>variance</th>\n",
       "    </tr>\n",
       "  </thead>\n",
       "  <tbody>\n",
       "    <tr>\n",
       "      <th>3</th>\n",
       "      <td>X11</td>\n",
       "      <td>0.0</td>\n",
       "    </tr>\n",
       "    <tr>\n",
       "      <th>83</th>\n",
       "      <td>X93</td>\n",
       "      <td>0.0</td>\n",
       "    </tr>\n",
       "    <tr>\n",
       "      <th>97</th>\n",
       "      <td>X107</td>\n",
       "      <td>0.0</td>\n",
       "    </tr>\n",
       "    <tr>\n",
       "      <th>219</th>\n",
       "      <td>X233</td>\n",
       "      <td>0.0</td>\n",
       "    </tr>\n",
       "    <tr>\n",
       "      <th>221</th>\n",
       "      <td>X235</td>\n",
       "      <td>0.0</td>\n",
       "    </tr>\n",
       "    <tr>\n",
       "      <th>254</th>\n",
       "      <td>X268</td>\n",
       "      <td>0.0</td>\n",
       "    </tr>\n",
       "    <tr>\n",
       "      <th>275</th>\n",
       "      <td>X289</td>\n",
       "      <td>0.0</td>\n",
       "    </tr>\n",
       "    <tr>\n",
       "      <th>276</th>\n",
       "      <td>X290</td>\n",
       "      <td>0.0</td>\n",
       "    </tr>\n",
       "    <tr>\n",
       "      <th>279</th>\n",
       "      <td>X293</td>\n",
       "      <td>0.0</td>\n",
       "    </tr>\n",
       "    <tr>\n",
       "      <th>283</th>\n",
       "      <td>X297</td>\n",
       "      <td>0.0</td>\n",
       "    </tr>\n",
       "    <tr>\n",
       "      <th>315</th>\n",
       "      <td>X330</td>\n",
       "      <td>0.0</td>\n",
       "    </tr>\n",
       "    <tr>\n",
       "      <th>332</th>\n",
       "      <td>X347</td>\n",
       "      <td>0.0</td>\n",
       "    </tr>\n",
       "  </tbody>\n",
       "</table>\n",
       "</div>"
      ],
      "text/plain": [
       "    features  variance\n",
       "3        X11       0.0\n",
       "83       X93       0.0\n",
       "97      X107       0.0\n",
       "219     X233       0.0\n",
       "221     X235       0.0\n",
       "254     X268       0.0\n",
       "275     X289       0.0\n",
       "276     X290       0.0\n",
       "279     X293       0.0\n",
       "283     X297       0.0\n",
       "315     X330       0.0\n",
       "332     X347       0.0"
      ]
     },
     "execution_count": 158,
     "metadata": {},
     "output_type": "execute_result"
    }
   ],
   "source": [
    "var_zero = var[var.variance==0]\n",
    "var_zero"
   ]
  },
  {
   "cell_type": "code",
   "execution_count": 159,
   "metadata": {},
   "outputs": [
    {
     "data": {
      "text/plain": [
       "['X11',\n",
       " 'X93',\n",
       " 'X107',\n",
       " 'X233',\n",
       " 'X235',\n",
       " 'X268',\n",
       " 'X289',\n",
       " 'X290',\n",
       " 'X293',\n",
       " 'X297',\n",
       " 'X330',\n",
       " 'X347']"
      ]
     },
     "execution_count": 159,
     "metadata": {},
     "output_type": "execute_result"
    }
   ],
   "source": [
    "features_to_remove=list(var_zero.features.values)\n",
    "features_to_remove"
   ]
  },
  {
   "cell_type": "code",
   "execution_count": 160,
   "metadata": {},
   "outputs": [],
   "source": [
    "train_data.drop(features_to_remove,axis=1,inplace=True)\n",
    "test_data.drop(features_to_remove,axis=1,inplace=True)"
   ]
  },
  {
   "cell_type": "code",
   "execution_count": 161,
   "metadata": {},
   "outputs": [
    {
     "data": {
      "text/html": [
       "<div>\n",
       "<style scoped>\n",
       "    .dataframe tbody tr th:only-of-type {\n",
       "        vertical-align: middle;\n",
       "    }\n",
       "\n",
       "    .dataframe tbody tr th {\n",
       "        vertical-align: top;\n",
       "    }\n",
       "\n",
       "    .dataframe thead th {\n",
       "        text-align: right;\n",
       "    }\n",
       "</style>\n",
       "<table border=\"1\" class=\"dataframe\">\n",
       "  <thead>\n",
       "    <tr style=\"text-align: right;\">\n",
       "      <th></th>\n",
       "      <th>ID</th>\n",
       "      <th>y</th>\n",
       "      <th>X0</th>\n",
       "      <th>X1</th>\n",
       "      <th>X2</th>\n",
       "      <th>X3</th>\n",
       "      <th>X4</th>\n",
       "      <th>X5</th>\n",
       "      <th>X6</th>\n",
       "      <th>X8</th>\n",
       "      <th>...</th>\n",
       "      <th>X375</th>\n",
       "      <th>X376</th>\n",
       "      <th>X377</th>\n",
       "      <th>X378</th>\n",
       "      <th>X379</th>\n",
       "      <th>X380</th>\n",
       "      <th>X382</th>\n",
       "      <th>X383</th>\n",
       "      <th>X384</th>\n",
       "      <th>X385</th>\n",
       "    </tr>\n",
       "  </thead>\n",
       "  <tbody>\n",
       "    <tr>\n",
       "      <th>0</th>\n",
       "      <td>0</td>\n",
       "      <td>130.81</td>\n",
       "      <td>k</td>\n",
       "      <td>v</td>\n",
       "      <td>at</td>\n",
       "      <td>a</td>\n",
       "      <td>d</td>\n",
       "      <td>u</td>\n",
       "      <td>j</td>\n",
       "      <td>o</td>\n",
       "      <td>...</td>\n",
       "      <td>0</td>\n",
       "      <td>0</td>\n",
       "      <td>1</td>\n",
       "      <td>0</td>\n",
       "      <td>0</td>\n",
       "      <td>0</td>\n",
       "      <td>0</td>\n",
       "      <td>0</td>\n",
       "      <td>0</td>\n",
       "      <td>0</td>\n",
       "    </tr>\n",
       "    <tr>\n",
       "      <th>1</th>\n",
       "      <td>6</td>\n",
       "      <td>88.53</td>\n",
       "      <td>k</td>\n",
       "      <td>t</td>\n",
       "      <td>av</td>\n",
       "      <td>e</td>\n",
       "      <td>d</td>\n",
       "      <td>y</td>\n",
       "      <td>l</td>\n",
       "      <td>o</td>\n",
       "      <td>...</td>\n",
       "      <td>1</td>\n",
       "      <td>0</td>\n",
       "      <td>0</td>\n",
       "      <td>0</td>\n",
       "      <td>0</td>\n",
       "      <td>0</td>\n",
       "      <td>0</td>\n",
       "      <td>0</td>\n",
       "      <td>0</td>\n",
       "      <td>0</td>\n",
       "    </tr>\n",
       "    <tr>\n",
       "      <th>2</th>\n",
       "      <td>7</td>\n",
       "      <td>76.26</td>\n",
       "      <td>az</td>\n",
       "      <td>w</td>\n",
       "      <td>n</td>\n",
       "      <td>c</td>\n",
       "      <td>d</td>\n",
       "      <td>x</td>\n",
       "      <td>j</td>\n",
       "      <td>x</td>\n",
       "      <td>...</td>\n",
       "      <td>0</td>\n",
       "      <td>0</td>\n",
       "      <td>0</td>\n",
       "      <td>0</td>\n",
       "      <td>0</td>\n",
       "      <td>0</td>\n",
       "      <td>1</td>\n",
       "      <td>0</td>\n",
       "      <td>0</td>\n",
       "      <td>0</td>\n",
       "    </tr>\n",
       "    <tr>\n",
       "      <th>3</th>\n",
       "      <td>9</td>\n",
       "      <td>80.62</td>\n",
       "      <td>az</td>\n",
       "      <td>t</td>\n",
       "      <td>n</td>\n",
       "      <td>f</td>\n",
       "      <td>d</td>\n",
       "      <td>x</td>\n",
       "      <td>l</td>\n",
       "      <td>e</td>\n",
       "      <td>...</td>\n",
       "      <td>0</td>\n",
       "      <td>0</td>\n",
       "      <td>0</td>\n",
       "      <td>0</td>\n",
       "      <td>0</td>\n",
       "      <td>0</td>\n",
       "      <td>0</td>\n",
       "      <td>0</td>\n",
       "      <td>0</td>\n",
       "      <td>0</td>\n",
       "    </tr>\n",
       "    <tr>\n",
       "      <th>4</th>\n",
       "      <td>13</td>\n",
       "      <td>78.02</td>\n",
       "      <td>az</td>\n",
       "      <td>v</td>\n",
       "      <td>n</td>\n",
       "      <td>f</td>\n",
       "      <td>d</td>\n",
       "      <td>h</td>\n",
       "      <td>d</td>\n",
       "      <td>n</td>\n",
       "      <td>...</td>\n",
       "      <td>0</td>\n",
       "      <td>0</td>\n",
       "      <td>0</td>\n",
       "      <td>0</td>\n",
       "      <td>0</td>\n",
       "      <td>0</td>\n",
       "      <td>0</td>\n",
       "      <td>0</td>\n",
       "      <td>0</td>\n",
       "      <td>0</td>\n",
       "    </tr>\n",
       "  </tbody>\n",
       "</table>\n",
       "<p>5 rows × 366 columns</p>\n",
       "</div>"
      ],
      "text/plain": [
       "   ID       y  X0 X1  X2 X3 X4 X5 X6 X8  ...  X375  X376  X377  X378  X379  \\\n",
       "0   0  130.81   k  v  at  a  d  u  j  o  ...     0     0     1     0     0   \n",
       "1   6   88.53   k  t  av  e  d  y  l  o  ...     1     0     0     0     0   \n",
       "2   7   76.26  az  w   n  c  d  x  j  x  ...     0     0     0     0     0   \n",
       "3   9   80.62  az  t   n  f  d  x  l  e  ...     0     0     0     0     0   \n",
       "4  13   78.02  az  v   n  f  d  h  d  n  ...     0     0     0     0     0   \n",
       "\n",
       "   X380  X382  X383  X384  X385  \n",
       "0     0     0     0     0     0  \n",
       "1     0     0     0     0     0  \n",
       "2     0     1     0     0     0  \n",
       "3     0     0     0     0     0  \n",
       "4     0     0     0     0     0  \n",
       "\n",
       "[5 rows x 366 columns]"
      ]
     },
     "execution_count": 161,
     "metadata": {},
     "output_type": "execute_result"
    }
   ],
   "source": [
    "train_data.head()"
   ]
  },
  {
   "cell_type": "code",
   "execution_count": 162,
   "metadata": {},
   "outputs": [
    {
     "data": {
      "text/html": [
       "<div>\n",
       "<style scoped>\n",
       "    .dataframe tbody tr th:only-of-type {\n",
       "        vertical-align: middle;\n",
       "    }\n",
       "\n",
       "    .dataframe tbody tr th {\n",
       "        vertical-align: top;\n",
       "    }\n",
       "\n",
       "    .dataframe thead th {\n",
       "        text-align: right;\n",
       "    }\n",
       "</style>\n",
       "<table border=\"1\" class=\"dataframe\">\n",
       "  <thead>\n",
       "    <tr style=\"text-align: right;\">\n",
       "      <th></th>\n",
       "      <th>ID</th>\n",
       "      <th>X0</th>\n",
       "      <th>X1</th>\n",
       "      <th>X2</th>\n",
       "      <th>X3</th>\n",
       "      <th>X4</th>\n",
       "      <th>X5</th>\n",
       "      <th>X6</th>\n",
       "      <th>X8</th>\n",
       "      <th>X10</th>\n",
       "      <th>...</th>\n",
       "      <th>X375</th>\n",
       "      <th>X376</th>\n",
       "      <th>X377</th>\n",
       "      <th>X378</th>\n",
       "      <th>X379</th>\n",
       "      <th>X380</th>\n",
       "      <th>X382</th>\n",
       "      <th>X383</th>\n",
       "      <th>X384</th>\n",
       "      <th>X385</th>\n",
       "    </tr>\n",
       "  </thead>\n",
       "  <tbody>\n",
       "    <tr>\n",
       "      <th>0</th>\n",
       "      <td>1</td>\n",
       "      <td>az</td>\n",
       "      <td>v</td>\n",
       "      <td>n</td>\n",
       "      <td>f</td>\n",
       "      <td>d</td>\n",
       "      <td>t</td>\n",
       "      <td>a</td>\n",
       "      <td>w</td>\n",
       "      <td>0</td>\n",
       "      <td>...</td>\n",
       "      <td>0</td>\n",
       "      <td>0</td>\n",
       "      <td>0</td>\n",
       "      <td>1</td>\n",
       "      <td>0</td>\n",
       "      <td>0</td>\n",
       "      <td>0</td>\n",
       "      <td>0</td>\n",
       "      <td>0</td>\n",
       "      <td>0</td>\n",
       "    </tr>\n",
       "    <tr>\n",
       "      <th>1</th>\n",
       "      <td>2</td>\n",
       "      <td>t</td>\n",
       "      <td>b</td>\n",
       "      <td>ai</td>\n",
       "      <td>a</td>\n",
       "      <td>d</td>\n",
       "      <td>b</td>\n",
       "      <td>g</td>\n",
       "      <td>y</td>\n",
       "      <td>0</td>\n",
       "      <td>...</td>\n",
       "      <td>0</td>\n",
       "      <td>0</td>\n",
       "      <td>1</td>\n",
       "      <td>0</td>\n",
       "      <td>0</td>\n",
       "      <td>0</td>\n",
       "      <td>0</td>\n",
       "      <td>0</td>\n",
       "      <td>0</td>\n",
       "      <td>0</td>\n",
       "    </tr>\n",
       "    <tr>\n",
       "      <th>2</th>\n",
       "      <td>3</td>\n",
       "      <td>az</td>\n",
       "      <td>v</td>\n",
       "      <td>as</td>\n",
       "      <td>f</td>\n",
       "      <td>d</td>\n",
       "      <td>a</td>\n",
       "      <td>j</td>\n",
       "      <td>j</td>\n",
       "      <td>0</td>\n",
       "      <td>...</td>\n",
       "      <td>0</td>\n",
       "      <td>0</td>\n",
       "      <td>0</td>\n",
       "      <td>1</td>\n",
       "      <td>0</td>\n",
       "      <td>0</td>\n",
       "      <td>0</td>\n",
       "      <td>0</td>\n",
       "      <td>0</td>\n",
       "      <td>0</td>\n",
       "    </tr>\n",
       "    <tr>\n",
       "      <th>3</th>\n",
       "      <td>4</td>\n",
       "      <td>az</td>\n",
       "      <td>l</td>\n",
       "      <td>n</td>\n",
       "      <td>f</td>\n",
       "      <td>d</td>\n",
       "      <td>z</td>\n",
       "      <td>l</td>\n",
       "      <td>n</td>\n",
       "      <td>0</td>\n",
       "      <td>...</td>\n",
       "      <td>0</td>\n",
       "      <td>0</td>\n",
       "      <td>0</td>\n",
       "      <td>1</td>\n",
       "      <td>0</td>\n",
       "      <td>0</td>\n",
       "      <td>0</td>\n",
       "      <td>0</td>\n",
       "      <td>0</td>\n",
       "      <td>0</td>\n",
       "    </tr>\n",
       "    <tr>\n",
       "      <th>4</th>\n",
       "      <td>5</td>\n",
       "      <td>w</td>\n",
       "      <td>s</td>\n",
       "      <td>as</td>\n",
       "      <td>c</td>\n",
       "      <td>d</td>\n",
       "      <td>y</td>\n",
       "      <td>i</td>\n",
       "      <td>m</td>\n",
       "      <td>0</td>\n",
       "      <td>...</td>\n",
       "      <td>1</td>\n",
       "      <td>0</td>\n",
       "      <td>0</td>\n",
       "      <td>0</td>\n",
       "      <td>0</td>\n",
       "      <td>0</td>\n",
       "      <td>0</td>\n",
       "      <td>0</td>\n",
       "      <td>0</td>\n",
       "      <td>0</td>\n",
       "    </tr>\n",
       "  </tbody>\n",
       "</table>\n",
       "<p>5 rows × 365 columns</p>\n",
       "</div>"
      ],
      "text/plain": [
       "   ID  X0 X1  X2 X3 X4 X5 X6 X8  X10  ...  X375  X376  X377  X378  X379  X380  \\\n",
       "0   1  az  v   n  f  d  t  a  w    0  ...     0     0     0     1     0     0   \n",
       "1   2   t  b  ai  a  d  b  g  y    0  ...     0     0     1     0     0     0   \n",
       "2   3  az  v  as  f  d  a  j  j    0  ...     0     0     0     1     0     0   \n",
       "3   4  az  l   n  f  d  z  l  n    0  ...     0     0     0     1     0     0   \n",
       "4   5   w  s  as  c  d  y  i  m    0  ...     1     0     0     0     0     0   \n",
       "\n",
       "   X382  X383  X384  X385  \n",
       "0     0     0     0     0  \n",
       "1     0     0     0     0  \n",
       "2     0     0     0     0  \n",
       "3     0     0     0     0  \n",
       "4     0     0     0     0  \n",
       "\n",
       "[5 rows x 365 columns]"
      ]
     },
     "execution_count": 162,
     "metadata": {},
     "output_type": "execute_result"
    }
   ],
   "source": [
    "test_data.head()"
   ]
  },
  {
   "cell_type": "markdown",
   "metadata": {},
   "source": [
    "## task_2 - Check for null and unique values for test and train sets."
   ]
  },
  {
   "cell_type": "code",
   "execution_count": 163,
   "metadata": {},
   "outputs": [
    {
     "data": {
      "text/plain": [
       "False"
      ]
     },
     "execution_count": 163,
     "metadata": {},
     "output_type": "execute_result"
    }
   ],
   "source": [
    "train_data.isnull().sum().any()"
   ]
  },
  {
   "cell_type": "code",
   "execution_count": 164,
   "metadata": {},
   "outputs": [
    {
     "data": {
      "text/plain": [
       "False"
      ]
     },
     "execution_count": 164,
     "metadata": {},
     "output_type": "execute_result"
    }
   ],
   "source": [
    "test_data.isnull().sum().any()"
   ]
  },
  {
   "cell_type": "code",
   "execution_count": 165,
   "metadata": {},
   "outputs": [
    {
     "name": "stdout",
     "output_type": "stream",
     "text": [
      "<class 'pandas.core.frame.DataFrame'>\n",
      "RangeIndex: 4209 entries, 0 to 4208\n",
      "Columns: 366 entries, ID to X385\n",
      "dtypes: float64(1), int64(357), object(8)\n",
      "memory usage: 11.8+ MB\n"
     ]
    }
   ],
   "source": [
    "train_data.info()"
   ]
  },
  {
   "cell_type": "code",
   "execution_count": 166,
   "metadata": {},
   "outputs": [
    {
     "data": {
      "text/plain": [
       "['X0', 'X1', 'X2', 'X3', 'X4', 'X5', 'X6', 'X8']"
      ]
     },
     "execution_count": 166,
     "metadata": {},
     "output_type": "execute_result"
    }
   ],
   "source": [
    "train_data.select_dtypes(include='object').columns.tolist()"
   ]
  },
  {
   "cell_type": "code",
   "execution_count": 167,
   "metadata": {},
   "outputs": [
    {
     "data": {
      "text/plain": [
       "array(['k', 'az', 't', 'al', 'o', 'w', 'j', 'h', 's', 'n', 'ay', 'f', 'x',\n",
       "       'y', 'aj', 'ak', 'am', 'z', 'q', 'at', 'ap', 'v', 'af', 'a', 'e',\n",
       "       'ai', 'd', 'aq', 'c', 'aa', 'ba', 'as', 'i', 'r', 'b', 'ax', 'bc',\n",
       "       'u', 'ad', 'au', 'm', 'l', 'aw', 'ao', 'ac', 'g', 'ab'],\n",
       "      dtype=object)"
      ]
     },
     "execution_count": 167,
     "metadata": {},
     "output_type": "execute_result"
    }
   ],
   "source": [
    "train_data.X0.unique()"
   ]
  },
  {
   "cell_type": "code",
   "execution_count": 168,
   "metadata": {},
   "outputs": [
    {
     "data": {
      "text/plain": [
       "array(['v', 't', 'w', 'b', 'r', 'l', 's', 'aa', 'c', 'a', 'e', 'h', 'z',\n",
       "       'j', 'o', 'u', 'p', 'n', 'i', 'y', 'd', 'f', 'm', 'k', 'g', 'q',\n",
       "       'ab'], dtype=object)"
      ]
     },
     "execution_count": 168,
     "metadata": {},
     "output_type": "execute_result"
    }
   ],
   "source": [
    "train_data.X1.unique()"
   ]
  },
  {
   "cell_type": "code",
   "execution_count": 169,
   "metadata": {},
   "outputs": [
    {
     "data": {
      "text/plain": [
       "array(['at', 'av', 'n', 'e', 'as', 'aq', 'r', 'ai', 'ak', 'm', 'a', 'k',\n",
       "       'ae', 's', 'f', 'd', 'ag', 'ay', 'ac', 'ap', 'g', 'i', 'aw', 'y',\n",
       "       'b', 'ao', 'al', 'h', 'x', 'au', 't', 'an', 'z', 'ah', 'p', 'am',\n",
       "       'j', 'q', 'af', 'l', 'aa', 'c', 'o', 'ar'], dtype=object)"
      ]
     },
     "execution_count": 169,
     "metadata": {},
     "output_type": "execute_result"
    }
   ],
   "source": [
    "train_data.X2.unique()"
   ]
  },
  {
   "cell_type": "code",
   "execution_count": 170,
   "metadata": {},
   "outputs": [
    {
     "data": {
      "text/plain": [
       "array(['a', 'e', 'c', 'f', 'd', 'b', 'g'], dtype=object)"
      ]
     },
     "execution_count": 170,
     "metadata": {},
     "output_type": "execute_result"
    }
   ],
   "source": [
    "train_data.X3.unique()"
   ]
  },
  {
   "cell_type": "code",
   "execution_count": 171,
   "metadata": {},
   "outputs": [
    {
     "data": {
      "text/plain": [
       "array(['d', 'b', 'c', 'a'], dtype=object)"
      ]
     },
     "execution_count": 171,
     "metadata": {},
     "output_type": "execute_result"
    }
   ],
   "source": [
    "train_data.X4.unique()"
   ]
  },
  {
   "cell_type": "code",
   "execution_count": 172,
   "metadata": {},
   "outputs": [
    {
     "data": {
      "text/plain": [
       "array(['u', 'y', 'x', 'h', 'g', 'f', 'j', 'i', 'd', 'c', 'af', 'ag', 'ab',\n",
       "       'ac', 'ad', 'ae', 'ah', 'l', 'k', 'n', 'm', 'p', 'q', 's', 'r',\n",
       "       'v', 'w', 'o', 'aa'], dtype=object)"
      ]
     },
     "execution_count": 172,
     "metadata": {},
     "output_type": "execute_result"
    }
   ],
   "source": [
    "train_data.X5.unique()"
   ]
  },
  {
   "cell_type": "code",
   "execution_count": 173,
   "metadata": {},
   "outputs": [
    {
     "data": {
      "text/plain": [
       "array(['j', 'l', 'd', 'h', 'i', 'a', 'g', 'c', 'k', 'e', 'f', 'b'],\n",
       "      dtype=object)"
      ]
     },
     "execution_count": 173,
     "metadata": {},
     "output_type": "execute_result"
    }
   ],
   "source": [
    "train_data.X6.unique()"
   ]
  },
  {
   "cell_type": "code",
   "execution_count": 174,
   "metadata": {},
   "outputs": [
    {
     "data": {
      "text/plain": [
       "array(['o', 'x', 'e', 'n', 's', 'a', 'h', 'p', 'm', 'k', 'd', 'i', 'v',\n",
       "       'j', 'b', 'q', 'w', 'g', 'y', 'l', 'f', 'u', 'r', 't', 'c'],\n",
       "      dtype=object)"
      ]
     },
     "execution_count": 174,
     "metadata": {},
     "output_type": "execute_result"
    }
   ],
   "source": [
    "train_data.X8.unique()"
   ]
  },
  {
   "cell_type": "code",
   "execution_count": 175,
   "metadata": {},
   "outputs": [
    {
     "name": "stdout",
     "output_type": "stream",
     "text": [
      "<class 'pandas.core.frame.DataFrame'>\n",
      "RangeIndex: 4209 entries, 0 to 4208\n",
      "Columns: 365 entries, ID to X385\n",
      "dtypes: int64(357), object(8)\n",
      "memory usage: 11.7+ MB\n"
     ]
    }
   ],
   "source": [
    "test_data.info()"
   ]
  },
  {
   "cell_type": "code",
   "execution_count": 176,
   "metadata": {},
   "outputs": [
    {
     "data": {
      "text/plain": [
       "['X0', 'X1', 'X2', 'X3', 'X4', 'X5', 'X6', 'X8']"
      ]
     },
     "execution_count": 176,
     "metadata": {},
     "output_type": "execute_result"
    }
   ],
   "source": [
    "test_data.select_dtypes(include='object').columns.tolist()"
   ]
  },
  {
   "cell_type": "code",
   "execution_count": 177,
   "metadata": {},
   "outputs": [
    {
     "data": {
      "text/plain": [
       "array(['az', 't', 'w', 'y', 'x', 'f', 'ap', 'o', 'ay', 'al', 'h', 'z',\n",
       "       'aj', 'd', 'v', 'ak', 'ba', 'n', 'j', 's', 'af', 'ax', 'at', 'aq',\n",
       "       'av', 'm', 'k', 'a', 'e', 'ai', 'i', 'ag', 'b', 'am', 'aw', 'as',\n",
       "       'r', 'ao', 'u', 'l', 'c', 'ad', 'au', 'bc', 'g', 'an', 'ae', 'p',\n",
       "       'bb'], dtype=object)"
      ]
     },
     "execution_count": 177,
     "metadata": {},
     "output_type": "execute_result"
    }
   ],
   "source": [
    "test_data.X0.unique()"
   ]
  },
  {
   "cell_type": "code",
   "execution_count": 178,
   "metadata": {},
   "outputs": [
    {
     "data": {
      "text/plain": [
       "array(['v', 'b', 'l', 's', 'aa', 'r', 'a', 'i', 'p', 'c', 'o', 'm', 'z',\n",
       "       'e', 'h', 'w', 'g', 'k', 'y', 't', 'u', 'd', 'j', 'q', 'n', 'f',\n",
       "       'ab'], dtype=object)"
      ]
     },
     "execution_count": 178,
     "metadata": {},
     "output_type": "execute_result"
    }
   ],
   "source": [
    "test_data.X1.unique()"
   ]
  },
  {
   "cell_type": "code",
   "execution_count": 179,
   "metadata": {},
   "outputs": [
    {
     "data": {
      "text/plain": [
       "array(['n', 'ai', 'as', 'ae', 's', 'b', 'e', 'ak', 'm', 'a', 'aq', 'ag',\n",
       "       'r', 'k', 'aj', 'ay', 'ao', 'an', 'ac', 'af', 'ax', 'h', 'i', 'f',\n",
       "       'ap', 'p', 'au', 't', 'z', 'y', 'aw', 'd', 'at', 'g', 'am', 'j',\n",
       "       'x', 'ab', 'w', 'q', 'ah', 'ad', 'al', 'av', 'u'], dtype=object)"
      ]
     },
     "execution_count": 179,
     "metadata": {},
     "output_type": "execute_result"
    }
   ],
   "source": [
    "test_data.X2.unique()"
   ]
  },
  {
   "cell_type": "code",
   "execution_count": 180,
   "metadata": {},
   "outputs": [
    {
     "data": {
      "text/plain": [
       "array(['f', 'a', 'c', 'e', 'd', 'g', 'b'], dtype=object)"
      ]
     },
     "execution_count": 180,
     "metadata": {},
     "output_type": "execute_result"
    }
   ],
   "source": [
    "test_data.X3.unique()"
   ]
  },
  {
   "cell_type": "code",
   "execution_count": 181,
   "metadata": {},
   "outputs": [
    {
     "data": {
      "text/plain": [
       "array(['d', 'b', 'a', 'c'], dtype=object)"
      ]
     },
     "execution_count": 181,
     "metadata": {},
     "output_type": "execute_result"
    }
   ],
   "source": [
    "test_data.X4.unique()"
   ]
  },
  {
   "cell_type": "code",
   "execution_count": 182,
   "metadata": {},
   "outputs": [
    {
     "data": {
      "text/plain": [
       "array(['t', 'b', 'a', 'z', 'y', 'x', 'h', 'g', 'f', 'j', 'i', 'd', 'c',\n",
       "       'af', 'ag', 'ab', 'ac', 'ad', 'ae', 'ah', 'l', 'k', 'n', 'm', 'p',\n",
       "       'q', 's', 'r', 'v', 'w', 'o', 'aa'], dtype=object)"
      ]
     },
     "execution_count": 182,
     "metadata": {},
     "output_type": "execute_result"
    }
   ],
   "source": [
    "test_data.X5.unique()"
   ]
  },
  {
   "cell_type": "code",
   "execution_count": 183,
   "metadata": {},
   "outputs": [
    {
     "data": {
      "text/plain": [
       "array(['a', 'g', 'j', 'l', 'i', 'd', 'f', 'h', 'c', 'k', 'e', 'b'],\n",
       "      dtype=object)"
      ]
     },
     "execution_count": 183,
     "metadata": {},
     "output_type": "execute_result"
    }
   ],
   "source": [
    "test_data.X6.unique()"
   ]
  },
  {
   "cell_type": "code",
   "execution_count": 184,
   "metadata": {},
   "outputs": [
    {
     "data": {
      "text/plain": [
       "array(['w', 'y', 'j', 'n', 'm', 's', 'a', 'v', 'r', 'o', 't', 'h', 'c',\n",
       "       'k', 'p', 'u', 'd', 'g', 'b', 'q', 'e', 'l', 'f', 'i', 'x'],\n",
       "      dtype=object)"
      ]
     },
     "execution_count": 184,
     "metadata": {},
     "output_type": "execute_result"
    }
   ],
   "source": [
    "test_data.X8.unique()"
   ]
  },
  {
   "cell_type": "markdown",
   "metadata": {},
   "source": [
    "## task_3 - Apply label encoder."
   ]
  },
  {
   "cell_type": "code",
   "execution_count": 185,
   "metadata": {},
   "outputs": [],
   "source": [
    "from sklearn.preprocessing import LabelEncoder\n",
    "encoder=LabelEncoder()"
   ]
  },
  {
   "cell_type": "code",
   "execution_count": 186,
   "metadata": {},
   "outputs": [
    {
     "data": {
      "text/plain": [
       "array(['a', 'aa', 'ab', 'ac', 'ad', 'ae', 'af', 'ag', 'ai', 'aj', 'ak',\n",
       "       'al', 'am', 'an', 'ao', 'ap', 'aq', 'as', 'at', 'au', 'av', 'aw',\n",
       "       'ax', 'ay', 'az', 'b', 'ba', 'bb', 'bc', 'c', 'd', 'e', 'f', 'g',\n",
       "       'h', 'i', 'j', 'k', 'l', 'm', 'n', 'o', 'p', 'q', 'r', 's', 't',\n",
       "       'u', 'v', 'w', 'x', 'y', 'z'], dtype=object)"
      ]
     },
     "execution_count": 186,
     "metadata": {},
     "output_type": "execute_result"
    }
   ],
   "source": [
    "X0_key=np.union1d(train_data.X0.unique(),test_data.X0.unique())\n",
    "X0_key"
   ]
  },
  {
   "cell_type": "code",
   "execution_count": 187,
   "metadata": {},
   "outputs": [
    {
     "data": {
      "text/plain": [
       "array([ 0,  1,  2,  3,  4,  5,  6,  7,  8,  9, 10, 11, 12, 13, 14, 15, 16,\n",
       "       17, 18, 19, 20, 21, 22, 23, 24, 25, 26, 27, 28, 29, 30, 31, 32, 33,\n",
       "       34, 35, 36, 37, 38, 39, 40, 41, 42, 43, 44, 45, 46, 47, 48, 49, 50,\n",
       "       51, 52])"
      ]
     },
     "execution_count": 187,
     "metadata": {},
     "output_type": "execute_result"
    }
   ],
   "source": [
    "X0_val=encoder.fit_transform(X0_key)\n",
    "X0_val"
   ]
  },
  {
   "cell_type": "code",
   "execution_count": 188,
   "metadata": {},
   "outputs": [
    {
     "name": "stdout",
     "output_type": "stream",
     "text": [
      "{'a': 0, 'aa': 1, 'ab': 2, 'ac': 3, 'ad': 4, 'ae': 5, 'af': 6, 'ag': 7, 'ai': 8, 'aj': 9, 'ak': 10, 'al': 11, 'am': 12, 'an': 13, 'ao': 14, 'ap': 15, 'aq': 16, 'as': 17, 'at': 18, 'au': 19, 'av': 20, 'aw': 21, 'ax': 22, 'ay': 23, 'az': 24, 'b': 25, 'ba': 26, 'bb': 27, 'bc': 28, 'c': 29, 'd': 30, 'e': 31, 'f': 32, 'g': 33, 'h': 34, 'i': 35, 'j': 36, 'k': 37, 'l': 38, 'm': 39, 'n': 40, 'o': 41, 'p': 42, 'q': 43, 'r': 44, 's': 45, 't': 46, 'u': 47, 'v': 48, 'w': 49, 'x': 50, 'y': 51, 'z': 52}\n"
     ]
    }
   ],
   "source": [
    "X0_dic=dict(zip(X0_key,X0_val))\n",
    "print(X0_dic)"
   ]
  },
  {
   "cell_type": "code",
   "execution_count": 189,
   "metadata": {},
   "outputs": [],
   "source": [
    "for i in X0_dic.keys():\n",
    "    if i in train_data.X0.values:\n",
    "        train_data.X0.replace(to_replace=i,value=X0_dic[i],inplace=True)"
   ]
  },
  {
   "cell_type": "code",
   "execution_count": 190,
   "metadata": {},
   "outputs": [],
   "source": [
    "for i in X0_dic.keys():\n",
    "    if i in test_data.X0.values:\n",
    "        test_data.X0.replace(to_replace=i,value=X0_dic[i],inplace=True)"
   ]
  },
  {
   "cell_type": "code",
   "execution_count": 191,
   "metadata": {},
   "outputs": [
    {
     "name": "stdout",
     "output_type": "stream",
     "text": [
      "{'a': 0, 'aa': 1, 'ab': 2, 'b': 3, 'c': 4, 'd': 5, 'e': 6, 'f': 7, 'g': 8, 'h': 9, 'i': 10, 'j': 11, 'k': 12, 'l': 13, 'm': 14, 'n': 15, 'o': 16, 'p': 17, 'q': 18, 'r': 19, 's': 20, 't': 21, 'u': 22, 'v': 23, 'w': 24, 'y': 25, 'z': 26}\n"
     ]
    }
   ],
   "source": [
    "X1_key=np.union1d(train_data.X1.unique(),test_data.X1.unique())\n",
    "X1_val=encoder.fit_transform(X1_key)\n",
    "X1_dic=dict(zip(X1_key,X1_val))\n",
    "print(X1_dic)"
   ]
  },
  {
   "cell_type": "code",
   "execution_count": 192,
   "metadata": {},
   "outputs": [],
   "source": [
    "for i in X1_dic.keys():\n",
    "    if i in train_data.X1.values:\n",
    "        train_data.X1.replace(to_replace=i,value=X1_dic[i],inplace=True)\n",
    "\n",
    "for i in X1_dic.keys():\n",
    "    if i in test_data.X1.values:\n",
    "        test_data.X1.replace(to_replace=i,value=X1_dic[i],inplace=True)"
   ]
  },
  {
   "cell_type": "code",
   "execution_count": 193,
   "metadata": {},
   "outputs": [
    {
     "name": "stdout",
     "output_type": "stream",
     "text": [
      "{'a': 0, 'aa': 1, 'ab': 2, 'ac': 3, 'ad': 4, 'ae': 5, 'af': 6, 'ag': 7, 'ah': 8, 'ai': 9, 'aj': 10, 'ak': 11, 'al': 12, 'am': 13, 'an': 14, 'ao': 15, 'ap': 16, 'aq': 17, 'ar': 18, 'as': 19, 'at': 20, 'au': 21, 'av': 22, 'aw': 23, 'ax': 24, 'ay': 25, 'b': 26, 'c': 27, 'd': 28, 'e': 29, 'f': 30, 'g': 31, 'h': 32, 'i': 33, 'j': 34, 'k': 35, 'l': 36, 'm': 37, 'n': 38, 'o': 39, 'p': 40, 'q': 41, 'r': 42, 's': 43, 't': 44, 'u': 45, 'w': 46, 'x': 47, 'y': 48, 'z': 49}\n"
     ]
    }
   ],
   "source": [
    "X2_key=np.union1d(train_data.X2.unique(),test_data.X2.unique())\n",
    "X2_val=encoder.fit_transform(X2_key)\n",
    "X2_dic=dict(zip(X2_key,X2_val))\n",
    "print(X2_dic)"
   ]
  },
  {
   "cell_type": "code",
   "execution_count": 194,
   "metadata": {},
   "outputs": [],
   "source": [
    "for i in X2_dic.keys():\n",
    "    if i in train_data.X2.values:\n",
    "        train_data.X2.replace(to_replace=i,value=X2_dic[i],inplace=True)\n",
    "\n",
    "for i in X2_dic.keys():\n",
    "    if i in test_data.X2.values:\n",
    "        test_data.X2.replace(to_replace=i,value=X2_dic[i],inplace=True)"
   ]
  },
  {
   "cell_type": "code",
   "execution_count": 195,
   "metadata": {},
   "outputs": [
    {
     "name": "stdout",
     "output_type": "stream",
     "text": [
      "{'a': 0, 'b': 1, 'c': 2, 'd': 3, 'e': 4, 'f': 5, 'g': 6}\n"
     ]
    }
   ],
   "source": [
    "X3_key=np.union1d(train_data.X3.unique(),test_data.X3.unique())\n",
    "X3_val=encoder.fit_transform(X3_key)\n",
    "X3_dic=dict(zip(X3_key,X3_val))\n",
    "print(X3_dic)"
   ]
  },
  {
   "cell_type": "code",
   "execution_count": 196,
   "metadata": {},
   "outputs": [],
   "source": [
    "for i in X3_dic.keys():\n",
    "    if i in train_data.X3.values:\n",
    "        train_data.X3.replace(to_replace=i,value=X3_dic[i],inplace=True)\n",
    "\n",
    "for i in X3_dic.keys():\n",
    "    if i in test_data.X3.values:\n",
    "        test_data.X3.replace(to_replace=i,value=X3_dic[i],inplace=True)"
   ]
  },
  {
   "cell_type": "code",
   "execution_count": 197,
   "metadata": {},
   "outputs": [
    {
     "name": "stdout",
     "output_type": "stream",
     "text": [
      "{'a': 0, 'b': 1, 'c': 2, 'd': 3}\n"
     ]
    }
   ],
   "source": [
    "X4_key=np.union1d(train_data.X4.unique(),test_data.X4.unique())\n",
    "X4_val=encoder.fit_transform(X4_key)\n",
    "X4_dic=dict(zip(X4_key,X4_val))\n",
    "print(X4_dic)"
   ]
  },
  {
   "cell_type": "code",
   "execution_count": 198,
   "metadata": {},
   "outputs": [],
   "source": [
    "for i in X4_dic.keys():\n",
    "    if i in train_data.X4.values:\n",
    "        train_data.X4.replace(to_replace=i,value=X4_dic[i],inplace=True)\n",
    "\n",
    "for i in X4_dic.keys():\n",
    "    if i in test_data.X4.values:\n",
    "        test_data.X4.replace(to_replace=i,value=X4_dic[i],inplace=True)"
   ]
  },
  {
   "cell_type": "code",
   "execution_count": 199,
   "metadata": {},
   "outputs": [
    {
     "name": "stdout",
     "output_type": "stream",
     "text": [
      "{'a': 0, 'aa': 1, 'ab': 2, 'ac': 3, 'ad': 4, 'ae': 5, 'af': 6, 'ag': 7, 'ah': 8, 'b': 9, 'c': 10, 'd': 11, 'f': 12, 'g': 13, 'h': 14, 'i': 15, 'j': 16, 'k': 17, 'l': 18, 'm': 19, 'n': 20, 'o': 21, 'p': 22, 'q': 23, 'r': 24, 's': 25, 't': 26, 'u': 27, 'v': 28, 'w': 29, 'x': 30, 'y': 31, 'z': 32}\n"
     ]
    }
   ],
   "source": [
    "X5_key=np.union1d(train_data.X5.unique(),test_data.X5.unique())\n",
    "X5_val=encoder.fit_transform(X5_key)\n",
    "X5_dic=dict(zip(X5_key,X5_val))\n",
    "print(X5_dic)"
   ]
  },
  {
   "cell_type": "code",
   "execution_count": 200,
   "metadata": {},
   "outputs": [
    {
     "name": "stderr",
     "output_type": "stream",
     "text": [
      "/usr/local/lib/python3.7/site-packages/ipykernel_launcher.py:2: FutureWarning: elementwise comparison failed; returning scalar instead, but in the future will perform elementwise comparison\n",
      "  \n"
     ]
    }
   ],
   "source": [
    "for i in X5_dic.keys():\n",
    "    if i in train_data.X5.values:\n",
    "        train_data.X5.replace(to_replace=i,value=X5_dic[i],inplace=True)\n",
    "\n",
    "for i in X5_dic.keys():\n",
    "    if i in test_data.X5.values:\n",
    "        test_data.X5.replace(to_replace=i,value=X5_dic[i],inplace=True)"
   ]
  },
  {
   "cell_type": "code",
   "execution_count": 201,
   "metadata": {},
   "outputs": [
    {
     "name": "stdout",
     "output_type": "stream",
     "text": [
      "{'a': 0, 'b': 1, 'c': 2, 'd': 3, 'e': 4, 'f': 5, 'g': 6, 'h': 7, 'i': 8, 'j': 9, 'k': 10, 'l': 11}\n"
     ]
    }
   ],
   "source": [
    "X6_key=np.union1d(train_data.X6.unique(),test_data.X6.unique())\n",
    "X6_val=encoder.fit_transform(X6_key)\n",
    "X6_dic=dict(zip(X6_key,X6_val))\n",
    "print(X6_dic)"
   ]
  },
  {
   "cell_type": "code",
   "execution_count": 202,
   "metadata": {},
   "outputs": [],
   "source": [
    "for i in X6_dic.keys():\n",
    "    if i in train_data.X6.values:\n",
    "        train_data.X6.replace(to_replace=i,value=X6_dic[i],inplace=True)\n",
    "\n",
    "for i in X6_dic.keys():\n",
    "    if i in test_data.X6.values:\n",
    "        test_data.X6.replace(to_replace=i,value=X6_dic[i],inplace=True)"
   ]
  },
  {
   "cell_type": "code",
   "execution_count": 203,
   "metadata": {},
   "outputs": [
    {
     "name": "stdout",
     "output_type": "stream",
     "text": [
      "{'a': 0, 'b': 1, 'c': 2, 'd': 3, 'e': 4, 'f': 5, 'g': 6, 'h': 7, 'i': 8, 'j': 9, 'k': 10, 'l': 11, 'm': 12, 'n': 13, 'o': 14, 'p': 15, 'q': 16, 'r': 17, 's': 18, 't': 19, 'u': 20, 'v': 21, 'w': 22, 'x': 23, 'y': 24}\n"
     ]
    }
   ],
   "source": [
    "X8_key=np.union1d(train_data.X8.unique(),test_data.X8.unique())\n",
    "X8_val=encoder.fit_transform(X8_key)\n",
    "X8_dic=dict(zip(X8_key,X8_val))\n",
    "print(X8_dic)"
   ]
  },
  {
   "cell_type": "code",
   "execution_count": 204,
   "metadata": {},
   "outputs": [],
   "source": [
    "for i in X8_dic.keys():\n",
    "    if i in train_data.X8.values:\n",
    "        train_data.X8.replace(to_replace=i,value=X8_dic[i],inplace=True)\n",
    "\n",
    "for i in X8_dic.keys():\n",
    "    if i in test_data.X8.values:\n",
    "        test_data.X8.replace(to_replace=i,value=X8_dic[i],inplace=True)"
   ]
  },
  {
   "cell_type": "code",
   "execution_count": 205,
   "metadata": {},
   "outputs": [
    {
     "data": {
      "text/html": [
       "<div>\n",
       "<style scoped>\n",
       "    .dataframe tbody tr th:only-of-type {\n",
       "        vertical-align: middle;\n",
       "    }\n",
       "\n",
       "    .dataframe tbody tr th {\n",
       "        vertical-align: top;\n",
       "    }\n",
       "\n",
       "    .dataframe thead th {\n",
       "        text-align: right;\n",
       "    }\n",
       "</style>\n",
       "<table border=\"1\" class=\"dataframe\">\n",
       "  <thead>\n",
       "    <tr style=\"text-align: right;\">\n",
       "      <th></th>\n",
       "      <th>X0</th>\n",
       "      <th>X1</th>\n",
       "      <th>X2</th>\n",
       "      <th>X3</th>\n",
       "      <th>X4</th>\n",
       "      <th>X5</th>\n",
       "      <th>X6</th>\n",
       "      <th>X8</th>\n",
       "    </tr>\n",
       "  </thead>\n",
       "  <tbody>\n",
       "    <tr>\n",
       "      <th>0</th>\n",
       "      <td>37</td>\n",
       "      <td>23</td>\n",
       "      <td>20</td>\n",
       "      <td>0</td>\n",
       "      <td>3</td>\n",
       "      <td>27</td>\n",
       "      <td>9</td>\n",
       "      <td>14</td>\n",
       "    </tr>\n",
       "    <tr>\n",
       "      <th>1</th>\n",
       "      <td>37</td>\n",
       "      <td>21</td>\n",
       "      <td>22</td>\n",
       "      <td>4</td>\n",
       "      <td>3</td>\n",
       "      <td>31</td>\n",
       "      <td>11</td>\n",
       "      <td>14</td>\n",
       "    </tr>\n",
       "    <tr>\n",
       "      <th>2</th>\n",
       "      <td>24</td>\n",
       "      <td>24</td>\n",
       "      <td>38</td>\n",
       "      <td>2</td>\n",
       "      <td>3</td>\n",
       "      <td>30</td>\n",
       "      <td>9</td>\n",
       "      <td>23</td>\n",
       "    </tr>\n",
       "    <tr>\n",
       "      <th>3</th>\n",
       "      <td>24</td>\n",
       "      <td>21</td>\n",
       "      <td>38</td>\n",
       "      <td>5</td>\n",
       "      <td>3</td>\n",
       "      <td>30</td>\n",
       "      <td>11</td>\n",
       "      <td>4</td>\n",
       "    </tr>\n",
       "    <tr>\n",
       "      <th>4</th>\n",
       "      <td>24</td>\n",
       "      <td>23</td>\n",
       "      <td>38</td>\n",
       "      <td>5</td>\n",
       "      <td>3</td>\n",
       "      <td>14</td>\n",
       "      <td>3</td>\n",
       "      <td>13</td>\n",
       "    </tr>\n",
       "    <tr>\n",
       "      <th>...</th>\n",
       "      <td>...</td>\n",
       "      <td>...</td>\n",
       "      <td>...</td>\n",
       "      <td>...</td>\n",
       "      <td>...</td>\n",
       "      <td>...</td>\n",
       "      <td>...</td>\n",
       "      <td>...</td>\n",
       "    </tr>\n",
       "    <tr>\n",
       "      <th>4204</th>\n",
       "      <td>10</td>\n",
       "      <td>20</td>\n",
       "      <td>19</td>\n",
       "      <td>2</td>\n",
       "      <td>3</td>\n",
       "      <td>1</td>\n",
       "      <td>3</td>\n",
       "      <td>16</td>\n",
       "    </tr>\n",
       "    <tr>\n",
       "      <th>4205</th>\n",
       "      <td>36</td>\n",
       "      <td>16</td>\n",
       "      <td>44</td>\n",
       "      <td>3</td>\n",
       "      <td>3</td>\n",
       "      <td>1</td>\n",
       "      <td>7</td>\n",
       "      <td>7</td>\n",
       "    </tr>\n",
       "    <tr>\n",
       "      <th>4206</th>\n",
       "      <td>10</td>\n",
       "      <td>23</td>\n",
       "      <td>42</td>\n",
       "      <td>0</td>\n",
       "      <td>3</td>\n",
       "      <td>1</td>\n",
       "      <td>6</td>\n",
       "      <td>4</td>\n",
       "    </tr>\n",
       "    <tr>\n",
       "      <th>4207</th>\n",
       "      <td>11</td>\n",
       "      <td>19</td>\n",
       "      <td>29</td>\n",
       "      <td>5</td>\n",
       "      <td>3</td>\n",
       "      <td>1</td>\n",
       "      <td>11</td>\n",
       "      <td>20</td>\n",
       "    </tr>\n",
       "    <tr>\n",
       "      <th>4208</th>\n",
       "      <td>52</td>\n",
       "      <td>19</td>\n",
       "      <td>5</td>\n",
       "      <td>2</td>\n",
       "      <td>3</td>\n",
       "      <td>1</td>\n",
       "      <td>6</td>\n",
       "      <td>22</td>\n",
       "    </tr>\n",
       "  </tbody>\n",
       "</table>\n",
       "<p>4209 rows × 8 columns</p>\n",
       "</div>"
      ],
      "text/plain": [
       "      X0  X1  X2  X3  X4  X5  X6  X8\n",
       "0     37  23  20   0   3  27   9  14\n",
       "1     37  21  22   4   3  31  11  14\n",
       "2     24  24  38   2   3  30   9  23\n",
       "3     24  21  38   5   3  30  11   4\n",
       "4     24  23  38   5   3  14   3  13\n",
       "...   ..  ..  ..  ..  ..  ..  ..  ..\n",
       "4204  10  20  19   2   3   1   3  16\n",
       "4205  36  16  44   3   3   1   7   7\n",
       "4206  10  23  42   0   3   1   6   4\n",
       "4207  11  19  29   5   3   1  11  20\n",
       "4208  52  19   5   2   3   1   6  22\n",
       "\n",
       "[4209 rows x 8 columns]"
      ]
     },
     "execution_count": 205,
     "metadata": {},
     "output_type": "execute_result"
    }
   ],
   "source": [
    "train_data[['X0', 'X1', 'X2', 'X3', 'X4', 'X5', 'X6', 'X8']]"
   ]
  },
  {
   "cell_type": "code",
   "execution_count": 206,
   "metadata": {},
   "outputs": [
    {
     "data": {
      "text/html": [
       "<div>\n",
       "<style scoped>\n",
       "    .dataframe tbody tr th:only-of-type {\n",
       "        vertical-align: middle;\n",
       "    }\n",
       "\n",
       "    .dataframe tbody tr th {\n",
       "        vertical-align: top;\n",
       "    }\n",
       "\n",
       "    .dataframe thead th {\n",
       "        text-align: right;\n",
       "    }\n",
       "</style>\n",
       "<table border=\"1\" class=\"dataframe\">\n",
       "  <thead>\n",
       "    <tr style=\"text-align: right;\">\n",
       "      <th></th>\n",
       "      <th>X0</th>\n",
       "      <th>X1</th>\n",
       "      <th>X2</th>\n",
       "      <th>X3</th>\n",
       "      <th>X4</th>\n",
       "      <th>X5</th>\n",
       "      <th>X6</th>\n",
       "      <th>X8</th>\n",
       "    </tr>\n",
       "  </thead>\n",
       "  <tbody>\n",
       "    <tr>\n",
       "      <th>0</th>\n",
       "      <td>24</td>\n",
       "      <td>23</td>\n",
       "      <td>38</td>\n",
       "      <td>5</td>\n",
       "      <td>3</td>\n",
       "      <td>26</td>\n",
       "      <td>0</td>\n",
       "      <td>22</td>\n",
       "    </tr>\n",
       "    <tr>\n",
       "      <th>1</th>\n",
       "      <td>46</td>\n",
       "      <td>3</td>\n",
       "      <td>9</td>\n",
       "      <td>0</td>\n",
       "      <td>3</td>\n",
       "      <td>9</td>\n",
       "      <td>6</td>\n",
       "      <td>24</td>\n",
       "    </tr>\n",
       "    <tr>\n",
       "      <th>2</th>\n",
       "      <td>24</td>\n",
       "      <td>23</td>\n",
       "      <td>19</td>\n",
       "      <td>5</td>\n",
       "      <td>3</td>\n",
       "      <td>0</td>\n",
       "      <td>9</td>\n",
       "      <td>9</td>\n",
       "    </tr>\n",
       "    <tr>\n",
       "      <th>3</th>\n",
       "      <td>24</td>\n",
       "      <td>13</td>\n",
       "      <td>38</td>\n",
       "      <td>5</td>\n",
       "      <td>3</td>\n",
       "      <td>32</td>\n",
       "      <td>11</td>\n",
       "      <td>13</td>\n",
       "    </tr>\n",
       "    <tr>\n",
       "      <th>4</th>\n",
       "      <td>49</td>\n",
       "      <td>20</td>\n",
       "      <td>19</td>\n",
       "      <td>2</td>\n",
       "      <td>3</td>\n",
       "      <td>31</td>\n",
       "      <td>8</td>\n",
       "      <td>12</td>\n",
       "    </tr>\n",
       "    <tr>\n",
       "      <th>...</th>\n",
       "      <td>...</td>\n",
       "      <td>...</td>\n",
       "      <td>...</td>\n",
       "      <td>...</td>\n",
       "      <td>...</td>\n",
       "      <td>...</td>\n",
       "      <td>...</td>\n",
       "      <td>...</td>\n",
       "    </tr>\n",
       "    <tr>\n",
       "      <th>4204</th>\n",
       "      <td>9</td>\n",
       "      <td>9</td>\n",
       "      <td>19</td>\n",
       "      <td>5</td>\n",
       "      <td>3</td>\n",
       "      <td>1</td>\n",
       "      <td>9</td>\n",
       "      <td>4</td>\n",
       "    </tr>\n",
       "    <tr>\n",
       "      <th>4205</th>\n",
       "      <td>46</td>\n",
       "      <td>1</td>\n",
       "      <td>9</td>\n",
       "      <td>3</td>\n",
       "      <td>3</td>\n",
       "      <td>1</td>\n",
       "      <td>9</td>\n",
       "      <td>24</td>\n",
       "    </tr>\n",
       "    <tr>\n",
       "      <th>4206</th>\n",
       "      <td>51</td>\n",
       "      <td>23</td>\n",
       "      <td>19</td>\n",
       "      <td>5</td>\n",
       "      <td>3</td>\n",
       "      <td>1</td>\n",
       "      <td>3</td>\n",
       "      <td>22</td>\n",
       "    </tr>\n",
       "    <tr>\n",
       "      <th>4207</th>\n",
       "      <td>10</td>\n",
       "      <td>23</td>\n",
       "      <td>19</td>\n",
       "      <td>0</td>\n",
       "      <td>3</td>\n",
       "      <td>1</td>\n",
       "      <td>2</td>\n",
       "      <td>16</td>\n",
       "    </tr>\n",
       "    <tr>\n",
       "      <th>4208</th>\n",
       "      <td>46</td>\n",
       "      <td>1</td>\n",
       "      <td>9</td>\n",
       "      <td>2</td>\n",
       "      <td>3</td>\n",
       "      <td>1</td>\n",
       "      <td>6</td>\n",
       "      <td>17</td>\n",
       "    </tr>\n",
       "  </tbody>\n",
       "</table>\n",
       "<p>4209 rows × 8 columns</p>\n",
       "</div>"
      ],
      "text/plain": [
       "      X0  X1  X2  X3  X4  X5  X6  X8\n",
       "0     24  23  38   5   3  26   0  22\n",
       "1     46   3   9   0   3   9   6  24\n",
       "2     24  23  19   5   3   0   9   9\n",
       "3     24  13  38   5   3  32  11  13\n",
       "4     49  20  19   2   3  31   8  12\n",
       "...   ..  ..  ..  ..  ..  ..  ..  ..\n",
       "4204   9   9  19   5   3   1   9   4\n",
       "4205  46   1   9   3   3   1   9  24\n",
       "4206  51  23  19   5   3   1   3  22\n",
       "4207  10  23  19   0   3   1   2  16\n",
       "4208  46   1   9   2   3   1   6  17\n",
       "\n",
       "[4209 rows x 8 columns]"
      ]
     },
     "execution_count": 206,
     "metadata": {},
     "output_type": "execute_result"
    }
   ],
   "source": [
    "test_data[['X0', 'X1', 'X2', 'X3', 'X4', 'X5', 'X6', 'X8']]"
   ]
  },
  {
   "cell_type": "code",
   "execution_count": 207,
   "metadata": {},
   "outputs": [
    {
     "name": "stdout",
     "output_type": "stream",
     "text": [
      "<class 'pandas.core.frame.DataFrame'>\n",
      "RangeIndex: 4209 entries, 0 to 4208\n",
      "Columns: 366 entries, ID to X385\n",
      "dtypes: float64(1), int64(365)\n",
      "memory usage: 11.8 MB\n"
     ]
    }
   ],
   "source": [
    "train_data.info()"
   ]
  },
  {
   "cell_type": "code",
   "execution_count": 208,
   "metadata": {},
   "outputs": [
    {
     "name": "stdout",
     "output_type": "stream",
     "text": [
      "<class 'pandas.core.frame.DataFrame'>\n",
      "RangeIndex: 4209 entries, 0 to 4208\n",
      "Columns: 365 entries, ID to X385\n",
      "dtypes: int64(365)\n",
      "memory usage: 11.7 MB\n"
     ]
    }
   ],
   "source": [
    "test_data.info()"
   ]
  },
  {
   "cell_type": "markdown",
   "metadata": {},
   "source": [
    "## task_4 - Perform dimensionality reduction."
   ]
  },
  {
   "cell_type": "code",
   "execution_count": 209,
   "metadata": {},
   "outputs": [
    {
     "data": {
      "text/html": [
       "<div>\n",
       "<style scoped>\n",
       "    .dataframe tbody tr th:only-of-type {\n",
       "        vertical-align: middle;\n",
       "    }\n",
       "\n",
       "    .dataframe tbody tr th {\n",
       "        vertical-align: top;\n",
       "    }\n",
       "\n",
       "    .dataframe thead th {\n",
       "        text-align: right;\n",
       "    }\n",
       "</style>\n",
       "<table border=\"1\" class=\"dataframe\">\n",
       "  <thead>\n",
       "    <tr style=\"text-align: right;\">\n",
       "      <th></th>\n",
       "      <th>ID</th>\n",
       "      <th>y</th>\n",
       "      <th>X0</th>\n",
       "      <th>X1</th>\n",
       "      <th>X2</th>\n",
       "      <th>X3</th>\n",
       "      <th>X4</th>\n",
       "      <th>X5</th>\n",
       "      <th>X6</th>\n",
       "      <th>X8</th>\n",
       "      <th>...</th>\n",
       "      <th>X375</th>\n",
       "      <th>X376</th>\n",
       "      <th>X377</th>\n",
       "      <th>X378</th>\n",
       "      <th>X379</th>\n",
       "      <th>X380</th>\n",
       "      <th>X382</th>\n",
       "      <th>X383</th>\n",
       "      <th>X384</th>\n",
       "      <th>X385</th>\n",
       "    </tr>\n",
       "  </thead>\n",
       "  <tbody>\n",
       "    <tr>\n",
       "      <th>0</th>\n",
       "      <td>0</td>\n",
       "      <td>130.81</td>\n",
       "      <td>37</td>\n",
       "      <td>23</td>\n",
       "      <td>20</td>\n",
       "      <td>0</td>\n",
       "      <td>3</td>\n",
       "      <td>27</td>\n",
       "      <td>9</td>\n",
       "      <td>14</td>\n",
       "      <td>...</td>\n",
       "      <td>0</td>\n",
       "      <td>0</td>\n",
       "      <td>1</td>\n",
       "      <td>0</td>\n",
       "      <td>0</td>\n",
       "      <td>0</td>\n",
       "      <td>0</td>\n",
       "      <td>0</td>\n",
       "      <td>0</td>\n",
       "      <td>0</td>\n",
       "    </tr>\n",
       "    <tr>\n",
       "      <th>1</th>\n",
       "      <td>6</td>\n",
       "      <td>88.53</td>\n",
       "      <td>37</td>\n",
       "      <td>21</td>\n",
       "      <td>22</td>\n",
       "      <td>4</td>\n",
       "      <td>3</td>\n",
       "      <td>31</td>\n",
       "      <td>11</td>\n",
       "      <td>14</td>\n",
       "      <td>...</td>\n",
       "      <td>1</td>\n",
       "      <td>0</td>\n",
       "      <td>0</td>\n",
       "      <td>0</td>\n",
       "      <td>0</td>\n",
       "      <td>0</td>\n",
       "      <td>0</td>\n",
       "      <td>0</td>\n",
       "      <td>0</td>\n",
       "      <td>0</td>\n",
       "    </tr>\n",
       "    <tr>\n",
       "      <th>2</th>\n",
       "      <td>7</td>\n",
       "      <td>76.26</td>\n",
       "      <td>24</td>\n",
       "      <td>24</td>\n",
       "      <td>38</td>\n",
       "      <td>2</td>\n",
       "      <td>3</td>\n",
       "      <td>30</td>\n",
       "      <td>9</td>\n",
       "      <td>23</td>\n",
       "      <td>...</td>\n",
       "      <td>0</td>\n",
       "      <td>0</td>\n",
       "      <td>0</td>\n",
       "      <td>0</td>\n",
       "      <td>0</td>\n",
       "      <td>0</td>\n",
       "      <td>1</td>\n",
       "      <td>0</td>\n",
       "      <td>0</td>\n",
       "      <td>0</td>\n",
       "    </tr>\n",
       "    <tr>\n",
       "      <th>3</th>\n",
       "      <td>9</td>\n",
       "      <td>80.62</td>\n",
       "      <td>24</td>\n",
       "      <td>21</td>\n",
       "      <td>38</td>\n",
       "      <td>5</td>\n",
       "      <td>3</td>\n",
       "      <td>30</td>\n",
       "      <td>11</td>\n",
       "      <td>4</td>\n",
       "      <td>...</td>\n",
       "      <td>0</td>\n",
       "      <td>0</td>\n",
       "      <td>0</td>\n",
       "      <td>0</td>\n",
       "      <td>0</td>\n",
       "      <td>0</td>\n",
       "      <td>0</td>\n",
       "      <td>0</td>\n",
       "      <td>0</td>\n",
       "      <td>0</td>\n",
       "    </tr>\n",
       "    <tr>\n",
       "      <th>4</th>\n",
       "      <td>13</td>\n",
       "      <td>78.02</td>\n",
       "      <td>24</td>\n",
       "      <td>23</td>\n",
       "      <td>38</td>\n",
       "      <td>5</td>\n",
       "      <td>3</td>\n",
       "      <td>14</td>\n",
       "      <td>3</td>\n",
       "      <td>13</td>\n",
       "      <td>...</td>\n",
       "      <td>0</td>\n",
       "      <td>0</td>\n",
       "      <td>0</td>\n",
       "      <td>0</td>\n",
       "      <td>0</td>\n",
       "      <td>0</td>\n",
       "      <td>0</td>\n",
       "      <td>0</td>\n",
       "      <td>0</td>\n",
       "      <td>0</td>\n",
       "    </tr>\n",
       "  </tbody>\n",
       "</table>\n",
       "<p>5 rows × 366 columns</p>\n",
       "</div>"
      ],
      "text/plain": [
       "   ID       y  X0  X1  X2  X3  X4  X5  X6  X8  ...  X375  X376  X377  X378  \\\n",
       "0   0  130.81  37  23  20   0   3  27   9  14  ...     0     0     1     0   \n",
       "1   6   88.53  37  21  22   4   3  31  11  14  ...     1     0     0     0   \n",
       "2   7   76.26  24  24  38   2   3  30   9  23  ...     0     0     0     0   \n",
       "3   9   80.62  24  21  38   5   3  30  11   4  ...     0     0     0     0   \n",
       "4  13   78.02  24  23  38   5   3  14   3  13  ...     0     0     0     0   \n",
       "\n",
       "   X379  X380  X382  X383  X384  X385  \n",
       "0     0     0     0     0     0     0  \n",
       "1     0     0     0     0     0     0  \n",
       "2     0     0     1     0     0     0  \n",
       "3     0     0     0     0     0     0  \n",
       "4     0     0     0     0     0     0  \n",
       "\n",
       "[5 rows x 366 columns]"
      ]
     },
     "execution_count": 209,
     "metadata": {},
     "output_type": "execute_result"
    }
   ],
   "source": [
    "train_data.head()"
   ]
  },
  {
   "cell_type": "code",
   "execution_count": 210,
   "metadata": {},
   "outputs": [
    {
     "data": {
      "text/html": [
       "<div>\n",
       "<style scoped>\n",
       "    .dataframe tbody tr th:only-of-type {\n",
       "        vertical-align: middle;\n",
       "    }\n",
       "\n",
       "    .dataframe tbody tr th {\n",
       "        vertical-align: top;\n",
       "    }\n",
       "\n",
       "    .dataframe thead th {\n",
       "        text-align: right;\n",
       "    }\n",
       "</style>\n",
       "<table border=\"1\" class=\"dataframe\">\n",
       "  <thead>\n",
       "    <tr style=\"text-align: right;\">\n",
       "      <th></th>\n",
       "      <th>ID</th>\n",
       "      <th>X0</th>\n",
       "      <th>X1</th>\n",
       "      <th>X2</th>\n",
       "      <th>X3</th>\n",
       "      <th>X4</th>\n",
       "      <th>X5</th>\n",
       "      <th>X6</th>\n",
       "      <th>X8</th>\n",
       "      <th>X10</th>\n",
       "      <th>...</th>\n",
       "      <th>X375</th>\n",
       "      <th>X376</th>\n",
       "      <th>X377</th>\n",
       "      <th>X378</th>\n",
       "      <th>X379</th>\n",
       "      <th>X380</th>\n",
       "      <th>X382</th>\n",
       "      <th>X383</th>\n",
       "      <th>X384</th>\n",
       "      <th>X385</th>\n",
       "    </tr>\n",
       "  </thead>\n",
       "  <tbody>\n",
       "    <tr>\n",
       "      <th>0</th>\n",
       "      <td>1</td>\n",
       "      <td>24</td>\n",
       "      <td>23</td>\n",
       "      <td>38</td>\n",
       "      <td>5</td>\n",
       "      <td>3</td>\n",
       "      <td>26</td>\n",
       "      <td>0</td>\n",
       "      <td>22</td>\n",
       "      <td>0</td>\n",
       "      <td>...</td>\n",
       "      <td>0</td>\n",
       "      <td>0</td>\n",
       "      <td>0</td>\n",
       "      <td>1</td>\n",
       "      <td>0</td>\n",
       "      <td>0</td>\n",
       "      <td>0</td>\n",
       "      <td>0</td>\n",
       "      <td>0</td>\n",
       "      <td>0</td>\n",
       "    </tr>\n",
       "    <tr>\n",
       "      <th>1</th>\n",
       "      <td>2</td>\n",
       "      <td>46</td>\n",
       "      <td>3</td>\n",
       "      <td>9</td>\n",
       "      <td>0</td>\n",
       "      <td>3</td>\n",
       "      <td>9</td>\n",
       "      <td>6</td>\n",
       "      <td>24</td>\n",
       "      <td>0</td>\n",
       "      <td>...</td>\n",
       "      <td>0</td>\n",
       "      <td>0</td>\n",
       "      <td>1</td>\n",
       "      <td>0</td>\n",
       "      <td>0</td>\n",
       "      <td>0</td>\n",
       "      <td>0</td>\n",
       "      <td>0</td>\n",
       "      <td>0</td>\n",
       "      <td>0</td>\n",
       "    </tr>\n",
       "    <tr>\n",
       "      <th>2</th>\n",
       "      <td>3</td>\n",
       "      <td>24</td>\n",
       "      <td>23</td>\n",
       "      <td>19</td>\n",
       "      <td>5</td>\n",
       "      <td>3</td>\n",
       "      <td>0</td>\n",
       "      <td>9</td>\n",
       "      <td>9</td>\n",
       "      <td>0</td>\n",
       "      <td>...</td>\n",
       "      <td>0</td>\n",
       "      <td>0</td>\n",
       "      <td>0</td>\n",
       "      <td>1</td>\n",
       "      <td>0</td>\n",
       "      <td>0</td>\n",
       "      <td>0</td>\n",
       "      <td>0</td>\n",
       "      <td>0</td>\n",
       "      <td>0</td>\n",
       "    </tr>\n",
       "    <tr>\n",
       "      <th>3</th>\n",
       "      <td>4</td>\n",
       "      <td>24</td>\n",
       "      <td>13</td>\n",
       "      <td>38</td>\n",
       "      <td>5</td>\n",
       "      <td>3</td>\n",
       "      <td>32</td>\n",
       "      <td>11</td>\n",
       "      <td>13</td>\n",
       "      <td>0</td>\n",
       "      <td>...</td>\n",
       "      <td>0</td>\n",
       "      <td>0</td>\n",
       "      <td>0</td>\n",
       "      <td>1</td>\n",
       "      <td>0</td>\n",
       "      <td>0</td>\n",
       "      <td>0</td>\n",
       "      <td>0</td>\n",
       "      <td>0</td>\n",
       "      <td>0</td>\n",
       "    </tr>\n",
       "    <tr>\n",
       "      <th>4</th>\n",
       "      <td>5</td>\n",
       "      <td>49</td>\n",
       "      <td>20</td>\n",
       "      <td>19</td>\n",
       "      <td>2</td>\n",
       "      <td>3</td>\n",
       "      <td>31</td>\n",
       "      <td>8</td>\n",
       "      <td>12</td>\n",
       "      <td>0</td>\n",
       "      <td>...</td>\n",
       "      <td>1</td>\n",
       "      <td>0</td>\n",
       "      <td>0</td>\n",
       "      <td>0</td>\n",
       "      <td>0</td>\n",
       "      <td>0</td>\n",
       "      <td>0</td>\n",
       "      <td>0</td>\n",
       "      <td>0</td>\n",
       "      <td>0</td>\n",
       "    </tr>\n",
       "  </tbody>\n",
       "</table>\n",
       "<p>5 rows × 365 columns</p>\n",
       "</div>"
      ],
      "text/plain": [
       "   ID  X0  X1  X2  X3  X4  X5  X6  X8  X10  ...  X375  X376  X377  X378  X379  \\\n",
       "0   1  24  23  38   5   3  26   0  22    0  ...     0     0     0     1     0   \n",
       "1   2  46   3   9   0   3   9   6  24    0  ...     0     0     1     0     0   \n",
       "2   3  24  23  19   5   3   0   9   9    0  ...     0     0     0     1     0   \n",
       "3   4  24  13  38   5   3  32  11  13    0  ...     0     0     0     1     0   \n",
       "4   5  49  20  19   2   3  31   8  12    0  ...     1     0     0     0     0   \n",
       "\n",
       "   X380  X382  X383  X384  X385  \n",
       "0     0     0     0     0     0  \n",
       "1     0     0     0     0     0  \n",
       "2     0     0     0     0     0  \n",
       "3     0     0     0     0     0  \n",
       "4     0     0     0     0     0  \n",
       "\n",
       "[5 rows x 365 columns]"
      ]
     },
     "execution_count": 210,
     "metadata": {},
     "output_type": "execute_result"
    }
   ],
   "source": [
    "test_data.head()"
   ]
  },
  {
   "cell_type": "code",
   "execution_count": 213,
   "metadata": {},
   "outputs": [],
   "source": [
    "from sklearn.decomposition import PCA\n",
    "sklearn_pca = PCA(n_components=0.95)\n",
    "train_data_transformed = sklearn_pca.fit_transform(train_data.iloc[:,2:])"
   ]
  },
  {
   "cell_type": "code",
   "execution_count": 214,
   "metadata": {},
   "outputs": [
    {
     "data": {
      "text/plain": [
       "array([[-2.07635904e-01,  2.44432248e-02,  1.48645082e+01,\n",
       "         8.13169611e+00,  1.41492014e+00, -2.69553445e+00],\n",
       "       [-2.44087570e-01,  1.73167468e+00,  1.82110804e+01,\n",
       "         5.24020209e+00,  1.58050529e+00, -4.44292138e+00],\n",
       "       [ 1.62731508e+01,  1.37845266e+01,  1.79269909e+01,\n",
       "         5.59819968e+00,  1.17681847e+01, -2.17044852e+00],\n",
       "       ...,\n",
       "       [ 3.10773913e+01,  1.60215078e+01, -1.14345977e+01,\n",
       "         8.79781740e+00, -6.05370910e+00,  7.59644602e-01],\n",
       "       [ 2.56465558e+01,  2.81245083e+00, -1.22524179e+01,\n",
       "         6.83081698e+00,  9.40804103e+00, -4.35568932e+00],\n",
       "       [-1.88429811e+01, -1.09969233e+01, -1.01931362e+01,\n",
       "         1.62230308e+01,  8.55271936e+00,  5.15990654e-01]])"
      ]
     },
     "execution_count": 214,
     "metadata": {},
     "output_type": "execute_result"
    }
   ],
   "source": [
    "train_data_transformed"
   ]
  },
  {
   "cell_type": "code",
   "execution_count": 242,
   "metadata": {},
   "outputs": [
    {
     "data": {
      "text/plain": [
       "array([[ 16.18289407,  13.73001303,  13.920663  ,   6.08128722,\n",
       "         10.74846711,   6.77561707],\n",
       "       [-15.79832676,  -8.61091793,  -7.33675658,  -2.53004456,\n",
       "         11.91055829,   0.93630604],\n",
       "       [ 12.38273372,  -3.22768676, -11.81372649,  13.35138779,\n",
       "         -2.80484337,  -2.57898401],\n",
       "       ...,\n",
       "       [-13.69358207,   2.20806502,  -8.83150969,  19.30657641,\n",
       "          9.14437898,   3.58731248],\n",
       "       [ 25.43442203,  -7.03546588, -11.37025294,  10.70249133,\n",
       "          4.47744729,   4.35457924],\n",
       "       [-15.89064222,  -8.12461623, -15.70919773,  -2.2325433 ,\n",
       "          5.16889426,   1.14249311]])"
      ]
     },
     "execution_count": 242,
     "metadata": {},
     "output_type": "execute_result"
    }
   ],
   "source": [
    "test_data_transformed=sklearn_pca.transform(test_data.iloc[:,1:])\n",
    "test_data_transformed"
   ]
  },
  {
   "cell_type": "markdown",
   "metadata": {},
   "source": [
    "## task_5 - Predict your test_df values using XGBoost."
   ]
  },
  {
   "cell_type": "code",
   "execution_count": 217,
   "metadata": {},
   "outputs": [],
   "source": [
    "from xgboost import XGBRegressor"
   ]
  },
  {
   "cell_type": "code",
   "execution_count": 220,
   "metadata": {},
   "outputs": [
    {
     "data": {
      "text/plain": [
       "XGBRegressor(base_score=0.5, booster=None, colsample_bylevel=1,\n",
       "             colsample_bynode=1, colsample_bytree=1, gamma=0, gpu_id=-1,\n",
       "             importance_type='gain', interaction_constraints=None,\n",
       "             learning_rate=0.300000012, max_delta_step=0, max_depth=6,\n",
       "             min_child_weight=1, missing=nan, monotone_constraints=None,\n",
       "             n_estimators=100, n_jobs=0, num_parallel_tree=1, random_state=0,\n",
       "             reg_alpha=0, reg_lambda=1, scale_pos_weight=1, subsample=1,\n",
       "             tree_method=None, validate_parameters=False, verbosity=None)"
      ]
     },
     "execution_count": 220,
     "metadata": {},
     "output_type": "execute_result"
    }
   ],
   "source": [
    "model=XGBRegressor()\n",
    "model.fit(train_data_transformed,train_data.y.values)"
   ]
  },
  {
   "cell_type": "code",
   "execution_count": 239,
   "metadata": {},
   "outputs": [
    {
     "data": {
      "text/plain": [
       "array([111.002045,  89.44172 ,  75.86413 , ..., 109.067116,  89.82897 ,\n",
       "       105.6298  ], dtype=float32)"
      ]
     },
     "execution_count": 239,
     "metadata": {},
     "output_type": "execute_result"
    }
   ],
   "source": [
    "#train_data_prediction\n",
    "train_data_prediction=model.predict(train_data_transformed)\n",
    "train_data_prediction"
   ]
  },
  {
   "cell_type": "code",
   "execution_count": 235,
   "metadata": {},
   "outputs": [
    {
     "name": "stdout",
     "output_type": "stream",
     "text": [
      "0.8625708898735756\n"
     ]
    }
   ],
   "source": [
    "# accuracy\n",
    "from sklearn import metrics\n",
    "print(metrics.r2_score(train_data.y.values,train_data_prediction))"
   ]
  },
  {
   "cell_type": "code",
   "execution_count": 238,
   "metadata": {},
   "outputs": [
    {
     "name": "stdout",
     "output_type": "stream",
     "text": [
      "4.699869850921633\n"
     ]
    }
   ],
   "source": [
    "# RMSE\n",
    "print(np.sqrt(metrics.mean_squared_error(train_data.y.values,train_data_prediction)))"
   ]
  },
  {
   "cell_type": "code",
   "execution_count": 234,
   "metadata": {},
   "outputs": [
    {
     "data": {
      "image/png": "[encoded data removed]",
      "text/plain": [
       "<Figure size 432x288 with 2 Axes>"
      ]
     },
     "metadata": {
      "needs_background": "light"
     },
     "output_type": "display_data"
    },
    {
     "data": {
      "image/png": "[encoded data removed]",
      "text/plain": [
       "<Figure size 432x288 with 2 Axes>"
      ]
     },
     "metadata": {
      "needs_background": "light"
     },
     "output_type": "display_data"
    },
    {
     "data": {
      "image/png": "[encoded data removed]",
      "text/plain": [
       "<Figure size 432x288 with 2 Axes>"
      ]
     },
     "metadata": {
      "needs_background": "light"
     },
     "output_type": "display_data"
    },
    {
     "data": {
      "image/png": "[encoded data removed]",
      "text/plain": [
       "<Figure size 432x288 with 2 Axes>"
      ]
     },
     "metadata": {
      "needs_background": "light"
     },
     "output_type": "display_data"
    },
    {
     "data": {
      "image/png": "[encoded data removed]",
      "text/plain": [
       "<Figure size 432x288 with 2 Axes>"
      ]
     },
     "metadata": {
      "needs_background": "light"
     },
     "output_type": "display_data"
    },
    {
     "data": {
      "image/png": "[encoded data removed]",
      "text/plain": [
       "<Figure size 432x288 with 2 Axes>"
      ]
     },
     "metadata": {
      "needs_background": "light"
     },
     "output_type": "display_data"
    },
    {
     "data": {
      "image/png": "[encoded data removed]",
      "text/plain": [
       "<Figure size 432x288 with 2 Axes>"
      ]
     },
     "metadata": {
      "needs_background": "light"
     },
     "output_type": "display_data"
    },
    {
     "data": {
      "image/png": "[encoded data removed]",
      "text/plain": [
       "<Figure size 432x288 with 2 Axes>"
      ]
     },
     "metadata": {
      "needs_background": "light"
     },
     "output_type": "display_data"
    }
   ],
   "source": [
    "for i in ['X0', 'X1', 'X2', 'X3', 'X4', 'X5', 'X6', 'X8']:\n",
    "    fig,ax=plt.subplots(1,2)\n",
    "    ax[0].scatter(train_data[i],train_data.y.values)\n",
    "    ax[1].scatter(train_data[i],train_data_prediction,c='red')\n",
    "    plt.title(i,loc='center')\n",
    "    plt.show()"
   ]
  },
  {
   "cell_type": "code",
   "execution_count": 243,
   "metadata": {},
   "outputs": [
    {
     "data": {
      "text/plain": [
       "array([ 75.91253 ,  91.40577 ,  86.76911 , ..., 102.24431 , 104.366135,\n",
       "        84.184845], dtype=float32)"
      ]
     },
     "execution_count": 243,
     "metadata": {},
     "output_type": "execute_result"
    }
   ],
   "source": [
    "# test_data_prediction\n",
    "test_data_prediction=model.predict(test_data_transformed)\n",
    "test_data_prediction"
   ]
  },
  {
   "cell_type": "code",
   "execution_count": 249,
   "metadata": {},
   "outputs": [
    {
     "name": "stdout",
     "output_type": "stream",
     "text": [
      "75.91253 , 91.40577 , 86.76911 , 74.962814 , 107.93848 , 93.41304 , 90.72118 , 96.077545 , 115.9718 , 89.76969 , 116.90074 , 105.099625 , 98.33863 , 97.26022 , 108.231674 , 116.05633 , 117.76024 , 98.33863 , 96.40237 , 103.76198 , 98.33863 , 98.33863 , 98.081566 , 97.811264 , 93.14013 , 114.09534 , 100.383156 , 104.46419 , 95.767586 , 96.5116 , 115.52521 , 103.6366 , 106.93517 , 98.15124 , 103.84414 , 111.37695 , 91.28922 , 103.961914 , 97.930145 , 97.83845 , 104.07816 , 98.89325 , 105.436 , 107.81124 , 112.01143 , 93.12476 , 103.961914 , 94.65653 , 105.372604 , 110.898476 , 97.811264 , 114.83867 , 93.822754 , 95.4591 , 115.724945 , 97.68365 , 104.66666 , 97.4476 , 109.64185 , 96.086044 , 103.03675 , 114.83867 , 94.04221 , 113.796745 , 101.29357 , 104.67376 , 110.928505 , 98.737 , 100.95292 , 114.83867 , 96.224365 , 109.47986 , 99.5064 , 103.50293 , 100.24479 , 95.733925 , 108.53506 , 96.58492 , 95.89205 , 97.50711 , 112.726204 , 110.107635 , 95.0621 , 98.97003 , 92.535225 , 110.490814 , 97.4476 , 116.44428 , 95.00557 , 99.45628 , 114.09534 , 110.44065 , 99.76989 , 111.41081 , 93.47614 , 114.83867 , 114.83867 , 108.99914 , 94.26214 , 95.79517 , 95.333626 , 107.032715 , 103.20255 , 111.37695 , 90.14412 , 107.99005 , 110.15707 , 110.449196 , 103.76924 , 92.45193 , 108.57916 , 107.0489 , 91.18083 , 103.03675 , 110.91881 , 115.9718 , 90.04216 , 111.45725 , 111.41081 , 97.74506 , 110.27356 , 109.60873 , 97.4476 , 117.7786 , 93.615616 , 107.07052 , 107.4916 , 94.08599 , 83.0063 , 111.66156 , 111.832466 , 111.34452 , 91.262665 , 111.365105 , 93.615616 , 117.7786 , 98.197914 , 93.36054 , 94.978546 , 100.12507 , 98.43726 , 103.01514 , 106.4242 , 112.53211 , 99.91987 , 114.83867 , 98.500656 , 114.95688 , 92.52896 , 103.961914 , 93.84717 , 110.81417 , 114.83867 , 120.542564 , 104.72122 , 95.48328 , 105.113976 , 111.99855 , 100.06443 , 112.018005 , 114.89581 , 94.48267 , 95.27368 , 96.622665 , 98.22804 , 109.6538 , 105.19707 , 111.864716 , 91.94981 , 103.132164 , 98.79302 , 94.288185 , 91.38487 , 112.206795 , 100.18101 , 98.798676 , 97.853 , 90.90167 , 91.85954 , 115.90307 , 91.76112 , 113.70696 , 114.36162 , 94.90022 , 107.89407 , 97.75188 , 85.013245 , 95.87898 , 104.75556 , 112.714355 , 100.273865 , 106.1246 , 86.85293 , 112.29157 , 91.66072 , 87.63566 , 93.36051 , 95.15511 , 112.73264 , 105.2388 , 113.14268 , 97.15771 , 115.72446 , 105.58251 , 94.00504 , 104.00471 , 79.87973 , 111.864716 , 111.864716 , 102.66563 , 77.99818 , 111.519005 , 89.57315 , 98.77987 , 100.299225 , 90.0413 , 110.41215 , 93.302155 , 111.20601 , 98.16265 , 89.66314 , 108.227905 , 100.435646 , 100.0531 , 93.69258 , 90.32062 , 94.697105 , 104.900505 , 109.84947 , 94.23677 , 113.54214 , 104.22942 , 107.33086 , 101.72282 , 115.9718 , 114.37563 , 106.07858 , 73.84062 , 102.53715 , 93.69258 , 97.75529 , 110.27652 , 109.6538 , 105.34623 , 83.80169 , 93.646065 , 89.26782 , 118.35667 , 92.517456 , 102.14915 , 95.31201 , 109.95105 , 87.98605 , 110.95102 , 98.679016 , 89.886505 , 92.59186 , 96.01926 , 110.72961 , 92.286575 , 112.71698 , 108.99075 , 99.043816 , 111.89579 , 96.02529 , 114.27048 , 96.3797 , 98.54144 , 106.65376 , 102.081375 , 95.157074 , 111.832466 , 93.590385 , 82.83706 , 93.51082 , 107.20649 , 102.09071 , 97.808876 , 112.29157 , 92.45722 , 103.7268 , 107.84989 , 90.16355 , 118.35667 , 98.16265 , 106.57204 , 95.684875 , 115.9718 , 107.26972 , 93.10917 , 94.40901 , 112.814835 , 98.06886 , 109.6538 , 104.05805 , 92.85515 , 102.094765 , 96.18707 , 92.72778 , 109.4447 , 111.46527 , 108.94872 , 88.13767 , 103.03675 , 94.27796 , 110.66207 , 88.9719 , 103.40353 , 104.73511 , 103.055855 , 91.43824 , 100.20416 , 112.36793 , 114.95423 , 99.14617 , 109.60873 , 93.69489 , 106.24723 , 101.521904 , 97.75529 , 110.43004 , 94.90202 , 90.26964 , 99.89525 , 118.35667 , 115.28448 , 104.72211 , 94.46344 , 104.57862 , 95.318344 , 111.92014 , 104.807396 , 111.77935 , 96.54542 , 90.881424 , 94.14931 , 92.463295 , 112.28514 , 112.53235 , 97.23676 , 109.60931 , 92.47871 , 96.19862 , 110.40906 , 108.041214 , 111.496086 , 102.077934 , 112.418625 , 115.61027 , 105.98285 , 93.27857 , 110.14423 , 93.64757 , 112.3122 , 101.07989 , 109.45449 , 90.599205 , 115.4618 , 92.69235 , 98.14054 , 90.79046 , 104.56596 , 95.92046 , 93.64289 , 110.90745 , 95.3872 , 112.480125 , 96.96975 , 79.47683 , 92.91608 , 94.23691 , 106.65753 , 103.60058 , 118.26735 , 109.39886 , 108.700165 , 92.07372 , 98.4876 , 97.35075 , 97.31674 , 112.55624 , 93.45734 , 110.79692 , 109.73792 , 96.5377 , 114.404526 , 106.68968 , 105.20529 , 97.40862 , 93.7201 , 107.21961 , 99.56598 , 94.26217 , 109.45449 , 111.97099 , 98.6297 , 94.937416 , 114.47164 , 103.48025 , 92.883484 , 95.190865 , 103.59559 , 95.7175 , 91.5079 , 98.66024 , 89.489784 , 109.51192 , 94.3081 , 91.08402 , 103.253815 , 93.92305 , 94.230064 , 105.12563 , 106.066124 , 99.04134 , 93.38389 , 92.13727 , 105.92013 , 102.25236 , 110.79692 , 92.47148 , 111.47905 , 94.3583 , 95.51476 , 95.17337 , 98.7617 , 109.45449 , 108.47562 , 93.43696 , 94.171715 , 95.63196 , 111.56556 , 107.731964 , 104.38448 , 95.424515 , 104.46305 , 92.758026 , 110.65266 , 115.88078 , 108.938324 , 90.57875 , 94.10964 , 112.19577 , 97.67169 , 109.3187 , 92.758026 , 109.01282 , 82.61606 , 95.64246 , 100.10909 , 109.47543 , 106.43446 , 91.82622 , 105.36157 , 109.45449 , 110.25971 , 105.81434 , 95.47087 , 104.38448 , 73.828674 , 110.58746 , 94.77838 , 110.970566 , 114.47164 , 109.45449 , 103.18467 , 94.03147 , 77.85818 , 98.11514 , 109.72686 , 106.48619 , 102.677956 , 104.54969 , 93.03954 , 116.16759 , 92.758026 , 92.07372 , 109.97062 , 103.19292 , 107.731964 , 96.10001 , 113.31798 , 106.552475 , 111.47905 , 92.07372 , 109.73792 , 92.30259 , 110.866936 , 94.68897 , 104.422424 , 105.86971 , 89.0756 , 110.28659 , 95.23726 , 115.009155 , 96.179146 , 112.58536 , 92.758026 , 103.830444 , 92.758026 , 94.92119 , 94.07591 , 116.376976 , 96.75249 , 89.269424 , 108.85232 , 94.41169 , 110.080505 , 99.01165 , 95.64246 , 100.82236 , 92.326096 , 112.56985 , 117.1155 , 93.836525 , 112.332825 , 95.325096 , 93.03954 , 92.38637 , 93.63706 , 103.733376 , 109.565994 , 93.03954 , 94.81388 , 115.80303 , 118.86453 , 102.47586 , 106.82499 , 110.1856 , 112.128395 , 91.35486 , 116.27943 , 96.70599 , 93.36288 , 90.23114 , 94.08178 , 93.21312 , 102.948166 , 110.42264 , 115.40633 , 92.1452 , 116.97848 , 99.98437 , 106.991684 , 93.94253 , 94.71543 , 99.912056 , 92.99841 , 106.69657 , 89.448586 , 117.343895 , 106.83945 , 95.99586 , 111.07724 , 110.60282 , 93.390396 , 92.27926 , 102.948166 , 94.2432 , 103.253815 , 92.4231 , 103.30181 , 97.31924 , 102.63479 , 102.337364 , 110.58746 , 97.39886 , 100.3798 , 96.47852 , 102.0468 , 116.5934 , 97.73373 , 102.0468 , 93.73354 , 89.37649 , 106.21971 , 93.39247 , 109.61997 , 97.445175 , 107.73333 , 90.74369 , 114.639984 , 96.16248 , 100.26358 , 110.210396 , 95.11343 , 79.12324 , 92.98457 , 95.179665 , 114.743744 , 107.633125 , 111.18579 , 91.291626 , 94.55015 , 90.618034 , 103.01972 , 82.291595 , 107.52589 , 114.35597 , 92.61538 , 110.60282 , 102.80677 , 92.61147 , 107.19931 , 106.534966 , 94.123215 , 114.26191 , 92.124466 , 107.30021 , 94.85627 , 102.211784 , 109.458595 , 95.27982 , 109.58863 , 77.44108 , 108.426125 , 98.22596 , 111.10961 , 102.378 , 102.337364 , 110.363785 , 96.10181 , 92.27926 , 96.1665 , 90.74369 , 110.73409 , 111.855515 , 98.24482 , 110.52902 , 92.53468 , 94.2432 , 96.60985 , 95.035255 , 93.39247 , 95.10207 , 110.363785 , 93.24164 , 116.97848 , 95.65327 , 111.47882 , 94.40025 , 97.445175 , 108.58764 , 93.495056 , 107.55632 , 95.404495 , 112.01928 , 97.83187 , 111.65564 , 91.374535 , 108.31762 , 94.27413 , 115.29665 , 94.72612 , 98.17488 , 93.559105 , 106.29874 , 93.39854 , 95.03353 , 111.7234 , 94.0506 , 111.566284 , 116.78651 , 103.24067 , 99.982544 , 97.67128 , 91.98704 , 94.33807 , 93.1523 , 114.76398 , 94.0506 , 103.13716 , 116.85819 , 100.750916 , 109.267876 , 96.11258 , 93.40911 , 94.23379 , 111.566284 , 93.97149 , 111.566284 , 101.82575 , 94.76014 , 94.90095 , 109.91514 , 111.566284 , 93.34329 , 113.677895 , 77.88143 , 111.28784 , 90.13208 , 91.33877 , 113.677895 , 109.16379 , 109.06993 , 113.677895 , 100.25675 , 77.88143 , 95.41463 , 87.638306 , 107.84092 , 92.2344 , 110.96686 , 112.24242 , 94.0574 , 103.59531 , 115.59727 , 111.765114 , 93.205635 , 101.14197 , 92.370575 , 102.393906 , 99.08059 , 93.824165 , 111.28784 , 101.36371 , 116.918335 , 111.28784 , 94.85309 , 91.99633 , 100.750916 , 109.080864 , 95.49974 , 93.824165 , 90.11156 , 108.76875 , 105.51109 , 102.0997 , 76.7272 , 98.04022 , 114.26283 , 114.92604 , 111.76259 , 119.11471 , 104.0147 , 93.47735 , 96.48632 , 94.69151 , 93.39111 , 93.39854 , 115.64282 , 100.983665 , 96.29729 , 116.79269 , 95.53963 , 118.358604 , 92.172295 , 112.00984 , 88.014534 , 93.205635 , 98.62945 , 106.53407 , 111.17778 , 120.05546 , 104.12032 , 108.77414 , 94.33807 , 102.54898 , 91.68162 , 93.123695 , 99.07386 , 105.16897 , 106.509964 , 92.84243 , 74.016495 , 96.77819 , 92.172295 , 111.7234 , 104.90015 , 106.88507 , 118.27733 , 93.39854 , 108.627335 , 102.47706 , 95.19877 , 93.39854 , 101.542534 , 97.71368 , 112.24283 , 93.51609 , 119.15358 , 104.401436 , 108.9679 , 94.220505 , 93.404015 , 111.12464 , 104.65457 , 90.13208 , 102.22305 , 117.58213 , 95.468185 , 93.96705 , 92.96662 , 108.65003 , 97.66784 , 111.57392 , 92.84732 , 108.006905 , 117.58213 , 110.03022 , 94.672195 , 97.21398 , 103.33135 , 93.10949 , 95.41463 , 96.81904 , 105.36927 , 118.91941 , 94.87254 , 109.18272 , 101.50734 , 102.47706 , 107.08813 , 103.21865 , 93.404015 , 110.96933 , 95.1035 , 90.13208 , 110.91428 , 95.07773 , 106.509964 , 107.13141 , 92.19182 , 102.22305 , 94.42327 , 109.440285 , 107.54982 , 114.26283 , 99.92224 , 113.82875 , 98.88767 , 106.481186 , 109.29724 , 110.164734 , 106.33807 , 96.27652 , 114.65919 , 110.314316 , 93.39854 , 91.44369 , 93.824165 , 110.03304 , 106.509964 , 91.139946 , 110.14499 , 99.23993 , 104.955475 , 101.124275 , 114.14869 , 101.41277 , 100.49362 , 102.233 , 111.207436 , 104.447624 , 108.627335 , 91.78412 , 88.79662 , 105.84857 , 102.13093 , 107.11042 , 110.47214 , 98.15587 , 106.50386 , 106.509964 , 93.296326 , 109.16379 , 93.96705 , 96.102844 , 107.54982 , 90.06925 , 93.44498 , 97.43327 , 79.77077 , 85.27295 , 96.94271 , 91.95854 , 104.66331 , 101.5858 , 95.42258 , 110.29468 , 108.26363 , 95.64285 , 106.13216 , 104.4145 , 94.25039 , 94.99862 , 80.68663 , 107.46585 , 99.50381 , 105.4622 , 117.13932 , 102.59409 , 113.4532 , 95.42258 , 112.31307 , 96.726036 , 93.07034 , 99.962845 , 111.06323 , 92.48755 , 91.96621 , 111.975555 , 98.00526 , 94.15971 , 114.302765 , 109.49162 , 106.45915 , 97.72198 , 93.522 , 99.40532 , 109.88259 , 93.94696 , 99.78816 , 104.74378 , 93.53723 , 102.81114 , 111.87016 , 93.03653 , 92.883156 , 101.16941 , 92.21484 , 102.87376 , 95.166306 , 89.859055 , 110.2232 , 98.49428 , 97.77334 , 92.90845 , 79.48875 , 111.80295 , 98.78731 , 108.870575 , 95.75358 , 96.102455 , 96.73764 , 94.67443 , 108.14717 , 93.20404 , 105.42173 , 95.07015 , 95.42359 , 110.32884 , 94.34261 , 96.580826 , 99.361374 , 107.96296 , 107.352715 , 92.84243 , 112.54489 , 98.02338 , 111.05489 , 106.82516 , 90.86155 , 104.742744 , 94.11411 , 106.21278 , 77.10935 , 111.26851 , 113.14225 , 94.9947 , 117.512566 , 110.012375 , 98.28505 , 113.50439 , 91.99125 , 79.07759 , 92.16237 , 106.2133 , 112.32129 , 91.95764 , 89.20737 , 117.05836 , 93.256134 , 102.239044 , 93.91969 , 119.5949 , 89.505135 , 84.04307 , 106.13216 , 99.935745 , 95.19573 , 98.86546 , 109.62414 , 94.96135 , 111.874695 , 91.097786 , 90.832634 , 106.69534 , 96.375946 , 113.22138 , 90.832634 , 113.582275 , 116.33752 , 89.62159 , 98.39451 , 97.38855 , 93.044266 , 92.90265 , 117.33758 , 95.376335 , 96.77304 , 111.7718 , 92.55593 , 110.29468 , 91.1641 , 97.8083 , 94.91203 , 101.3385 , 119.1417 , 92.19078 , 104.20445 , 109.14962 , 99.13018 , 106.82516 , 92.079445 , 106.272835 , 112.40619 , 96.41427 , 94.04637 , 106.34413 , 104.388565 , 109.30346 , 104.65248 , 109.69429 , 112.31307 , 96.04319 , 92.84243 , 104.72907 , 109.15145 , 94.34261 , 122.4673 , 103.89614 , 105.22946 , 102.18719 , 107.76566 , 95.76286 , 100.34118 , 92.84243 , 91.11451 , 97.81669 , 108.30864 , 92.72794 , 112.31307 , 95.40456 , 106.13216 , 93.00262 , 79.07759 , 103.22472 , 94.7357 , 98.6756 , 97.4623 , 94.61418 , 106.2133 , 83.21206 , 99.720566 , 104.742744 , 93.971016 , 93.76428 , 110.57244 , 94.96135 , 92.32721 , 89.95862 , 109.68487 , 108.91563 , 103.75647 , 102.40252 , 117.512566 , 103.04973 , 93.70426 , 95.108086 , 119.23483 , 106.10982 , 105.25879 , 95.908226 , 122.00022 , 87.113464 , 110.40613 , 107.6299 , 89.77466 , 101.464165 , 95.46375 , 91.991486 , 96.207596 , 114.19979 , 90.191765 , 113.59374 , 98.73712 , 112.02356 , 113.051605 , 93.845276 , 106.32169 , 91.09446 , 107.741165 , 110.07966 , 105.45596 , 89.873215 , 106.45012 , 93.35139 , 91.491196 , 104.03479 , 89.91205 , 99.10838 , 107.72527 , 107.12866 , 105.44483 , 90.984985 , 118.27304 , 108.35532 , 91.09446 , 77.471756 , 93.76883 , 114.230156 , 95.94447 , 106.17078 , 88.55365 , 107.44455 , 110.020706 , 101.864944 , 105.66416 , 85.285065 , 92.84198 , 104.05325 , 99.21928 , 91.189545 , 102.27466 , 93.49919 , 98.67381 , 93.60332 , 104.66283 , 95.19422 , 91.1243 , 91.09446 , 78.219475 , 96.207596 , 102.6097 , 91.49086 , 103.35296 , 96.44831 , 115.83482 , 91.159485 , 104.703316 , 98.67907 , 110.30234 , 90.33356 , 107.00486 , 84.22905 , 99.21928 , 92.47029 , 106.62434 , 91.6763 , 77.12384 , 103.84685 , 117.431046 , 105.51954 , 104.82335 , 93.44845 , 115.83482 , 89.830795 , 105.41024 , 114.40135 , 99.21928 , 102.41709 , 106.478775 , 107.41076 , 99.50358 , 114.40135 , 111.7188 , 96.79411 , 93.0421 , 80.18741 , 90.89931 , 109.191124 , 110.49285 , 107.12866 , 93.17963 , 98.11342 , 109.191124 , 96.118614 , 94.89837 , 110.44284 , 96.41704 , 113.589874 , 109.51764 , 95.69714 , 110.87193 , 113.79472 , 95.371796 , 93.11465 , 104.24064 , 94.0356 , 127.45349 , 108.11416 , 90.53594 , 114.40135 , 90.977936 , 103.81927 , 104.09681 , 101.31583 , 94.81712 , 108.03973 , 109.831535 , 105.282684 , 92.940315 , 99.76997 , 90.83209 , 111.45692 , 93.19029 , 100.752106 , 101.14322 , 110.62742 , 92.362946 , 121.61444 , 107.62967 , 109.43293 , 107.92 , 93.372986 , 92.96749 , 106.17078 , 90.077255 , 99.892365 , 107.87848 , 99.21928 , 108.15877 , 90.48728 , 94.34127 , 76.924255 , 90.1045 , 88.33653 , 98.07047 , 96.73261 , 114.230156 , 96.207596 , 111.329384 , 90.69202 , 99.21928 , 111.68183 , 90.69215 , 99.08525 , 99.49422 , 107.741165 , 95.604836 , 92.97239 , 90.77688 , 96.207596 , 93.11465 , 108.27207 , 93.11465 , 109.49483 , 114.310486 , 92.63605 , 108.62842 , 96.836975 , 108.0056 , 99.39132 , 100.274185 , 113.341965 , 109.63618 , 99.76827 , 90.31994 , 113.606255 , 88.37884 , 109.55195 , 95.57902 , 102.153145 , 93.00686 , 114.64072 , 113.13733 , 96.12173 , 101.669044 , 110.47537 , 91.532234 , 95.5083 , 109.94302 , 92.638374 , 108.342125 , 108.24553 , 92.76935 , 111.374084 , 88.80831 , 108.62842 , 94.61426 , 98.09475 , 102.19808 , 94.586914 , 98.65874 , 95.67231 , 96.12173 , 105.04572 , 107.91082 , 77.40312 , 103.89511 , 110.70669 , 101.76921 , 107.57171 , 112.22931 , 99.636475 , 122.03652 , 102.569435 , 110.70669 , 77.40312 , 101.53422 , 93.052345 , 95.3895 , 99.48869 , 111.284225 , 108.62842 , 103.33719 , 108.53007 , 94.33428 , 92.45995 , 104.9889 , 104.240364 , 98.43392 , 108.86115 , 113.30434 , 110.59809 , 101.983864 , 118.05538 , 96.52516 , 106.344795 , 98.40351 , 104.50293 , 101.88277 , 104.240364 , 114.81938 , 114.84875 , 109.845406 , 99.88433 , 101.08861 , 105.60091 , 90.67691 , 104.33223 , 109.95899 , 117.73413 , 91.93055 , 93.761925 , 87.62718 , 105.553604 , 95.40758 , 96.76123 , 106.64232 , 111.487885 , 95.11293 , 114.0462 , 88.87279 , 90.89676 , 101.12071 , 103.38223 , 96.90805 , 90.45847 , 91.187874 , 102.078804 , 108.461945 , 93.0108 , 99.617676 , 90.838036 , 106.8806 , 112.553185 , 92.9714 , 103.29689 , 127.37129 , 108.76693 , 97.38286 , 106.26437 , 96.14666 , 107.433235 , 120.45361 , 109.2563 , 96.535515 , 110.6368 , 109.13884 , 108.07749 , 97.98539 , 83.07997 , 106.99585 , 97.512024 , 107.775986 , 98.09609 , 96.349205 , 94.29388 , 93.30199 , 95.14297 , 90.56535 , 95.88064 , 95.34398 , 95.36369 , 87.69539 , 92.40991 , 103.37112 , 95.45777 , 115.68215 , 119.73212 , 100.70358 , 93.55344 , 96.33068 , 104.74351 , 109.39873 , 116.59069 , 91.61941 , 95.3949 , 109.55873 , 96.47661 , 90.18286 , 95.738075 , 105.652 , 87.58821 , 94.65847 , 109.22364 , 91.51773 , 113.03784 , 97.99014 , 113.930016 , 89.53264 , 94.41223 , 114.0462 , 94.31044 , 107.61536 , 108.62842 , 109.10122 , 88.89609 , 96.66084 , 118.05538 , 108.76498 , 96.91281 , 115.88268 , 108.120445 , 94.440094 , 110.70669 , 114.0719 , 80.62249 , 104.07269 , 105.12538 , 97.02389 , 95.72236 , 91.14028 , 104.905075 , 100.66146 , 91.610916 , 118.17469 , 93.83952 , 108.59605 , 97.045456 , 108.31219 , 91.71179 , 93.710785 , 110.32649 , 105.77983 , 100.40285 , 95.77005 , 96.41762 , 109.331184 , 94.95434 , 110.70669 , 94.10451 , 100.36027 , 110.59734 , 92.638374 , 112.2869 , 110.53569 , 93.9069 , 103.9505 , 106.78586 , 99.722115 , 96.5861 , 102.335396 , 109.66321 , 94.58045 , 110.02988 , 110.02213 , 101.47239 , 105.73908 , 99.1056 , 89.31078 , 93.800865 , 114.07087 , 105.15005 , 74.1534 , 94.71698 , 107.633934 , 93.495514 , 97.60366 , 93.47471 , 92.50656 , 110.71587 , 124.91348 , 115.97695 , 91.32154 , 90.134315 , 99.55636 , 113.26669 , 102.88664 , 93.47471 , 90.51393 , 108.85928 , 102.338326 , 79.55303 , 101.05221 , 97.50381 , 108.861046 , 105.433174 , 117.78351 , 96.80922 , 106.92075 , 104.8197 , 90.29356 , 96.58601 , 92.86111 , 108.75309 , 94.18194 , 104.82416 , 106.46972 , 99.30597 , 93.66756 , 96.49689 , 97.60708 , 109.59245 , 105.66423 , 92.70843 , 113.791374 , 110.52228 , 91.4993 , 111.11016 , 97.09219 , 107.50502 , 120.86273 , 97.42771 , 90.884346 , 106.46972 , 79.73277 , 98.40466 , 114.40809 , 109.83315 , 94.62565 , 92.058556 , 102.17657 , 101.05221 , 88.35605 , 104.31905 , 90.90371 , 111.55139 , 92.53238 , 106.150536 , 114.150505 , 97.673004 , 79.98074 , 116.19535 , 102.81829 , 112.29472 , 89.91324 , 117.78351 , 96.11278 , 105.13704 , 111.09185 , 102.996574 , 95.98387 , 91.24831 , 94.74453 , 102.22817 , 92.86111 , 105.355515 , 115.25211 , 98.96926 , 114.6719 , 103.54875 , 102.234 , 97.674614 , 97.83934 , 122.32145 , 103.099335 , 111.416374 , 96.708984 , 110.32071 , 96.21826 , 103.1266 , 104.15308 , 108.309296 , 112.90129 , 92.3597 , 107.2649 , 112.25139 , 95.95469 , 95.49104 , 106.840126 , 94.39571 , 105.10457 , 97.948044 , 113.05765 , 100.898994 , 93.72917 , 110.71587 , 92.67818 , 93.48296 , 104.23831 , 90.477486 , 95.13348 , 115.25211 , 97.948044 , 105.74491 , 101.43398 , 94.326996 , 95.43372 , 115.242874 , 94.326996 , 96.84159 , 92.21095 , 112.36749 , 103.690895 , 104.15177 , 91.59092 , 120.86273 , 106.103516 , 103.34041 , 107.862686 , 92.72176 , 104.77672 , 96.11278 , 102.405334 , 102.517975 , 97.85616 , 91.08295 , 78.77068 , 96.68765 , 91.91505 , 93.666046 , 114.71387 , 95.66708 , 95.49271 , 112.89523 , 88.22267 , 111.560776 , 90.92325 , 104.03914 , 94.9255 , 103.86018 , 92.942764 , 97.55943 , 105.22223 , 99.1056 , 107.01053 , 98.40412 , 92.59209 , 113.26669 , 101.43398 , 99.88641 , 104.23863 , 103.709946 , 108.61533 , 95.08357 , 97.86723 , 92.00326 , 106.46972 , 101.048 , 91.11872 , 109.47164 , 92.7022 , 100.2831 , 92.6524 , 104.03493 , 94.57906 , 95.85593 , 80.44689 , 127.1761 , 96.18089 , 96.54656 , 116.59775 , 98.039215 , 106.19644 , 90.98254 , 91.62051 , 108.52221 , 95.705315 , 115.8222 , 121.400246 , 94.22427 , 100.669395 , 92.19709 , 113.375374 , 97.207344 , 96.0219 , 90.98438 , 99.47867 , 104.5708 , 117.93 , 98.177925 , 111.50772 , 100.206985 , 101.8266 , 103.73294 , 102.90639 , 91.54061 , 103.656906 , 108.13131 , 93.01123 , 102.679985 , 93.40157 , 94.39012 , 100.62407 , 103.89992 , 95.44122 , 104.185875 , 96.17229 , 111.294624 , 93.681656 , 76.68815 , 93.58186 , 106.36139 , 109.56211 , 112.341324 , 101.99599 , 92.13789 , 94.34051 , 89.005516 , 115.4211 , 107.487465 , 92.04486 , 93.312675 , 109.70797 , 96.31097 , 94.0605 , 115.4211 , 100.04229 , 106.07581 , 94.47625 , 112.329315 , 92.04413 , 94.20188 , 96.467834 , 104.916 , 100.36314 , 92.464035 , 105.44273 , 81.61779 , 96.46041 , 100.58734 , 90.04057 , 103.34538 , 98.42201 , 109.99911 , 96.32988 , 101.33607 , 109.74882 , 111.77907 , 109.17817 , 91.56063 , 104.66135 , 95.69506 , 99.97474 , 111.4605 , 111.103676 , 97.7022 , 92.2344 , 80.98401 , 102.888115 , 99.28214 , 104.65287 , 93.59368 , 103.77135 , 95.170654 , 95.60538 , 100.86093 , 109.26928 , 96.77403 , 96.09842 , 102.673775 , 92.806465 , 117.18458 , 92.77612 , 91.90743 , 78.07931 , 93.030525 , 110.135925 , 89.972626 , 125.02927 , 112.45574 , 114.861 , 91.211525 , 108.892204 , 95.93042 , 94.012344 , 104.916 , 92.38902 , 115.18369 , 92.04413 , 91.42936 , 111.294624 , 88.29645 , 104.5708 , 94.47625 , 92.26349 , 104.5708 , 94.26111 , 93.08912 , 93.81639 , 109.85262 , 102.888115 , 102.6222 , 96.40481 , 92.46944 , 102.794716 , 109.96817 , 97.36865 , 94.34429 , 97.06111 , 96.16493 , 104.96385 , 109.99911 , 92.04413 , 97.37732 , 119.49027 , 106.40375 , 112.31773 , 98.82471 , 94.4341 , 106.10199 , 110.91422 , 106.046196 , 108.457405 , 92.163826 , 106.03117 , 102.65723 , 101.72109 , 103.066284 , 105.362686 , 98.16767 , 111.27113 , 96.86047 , 91.813644 , 108.38981 , 94.36755 , 117.336105 , 94.35299 , 92.03221 , 89.46047 , 112.01514 , 110.67555 , 101.53605 , 112.13976 , 103.68864 , 90.932144 , 115.14155 , 91.66532 , 101.09238 , 98.91882 , 95.99642 , 114.56543 , 97.05251 , 94.42608 , 110.456726 , 104.25743 , 94.89589 , 98.47111 , 115.22371 , 109.59308 , 106.3956 , 103.83735 , 78.14268 , 93.30687 , 108.798485 , 94.52051 , 94.79025 , 123.17478 , 95.12787 , 101.08139 , 78.14268 , 94.66502 , 97.25801 , 110.26386 , 107.34672 , 111.611404 , 94.83401 , 102.97454 , 108.75366 , 103.00293 , 97.13682 , 109.863655 , 96.78999 , 95.028984 , 95.28413 , 113.7526 , 94.124985 , 108.87139 , 95.96123 , 92.18842 , 122.115005 , 93.91177 , 99.08524 , 102.536766 , 97.495026 , 97.811035 , 97.68868 , 117.53729 , 102.95551 , 101.88007 , 110.06143 , 109.87339 , 99.161705 , 95.10352 , 88.83964 , 97.00899 , 108.34677 , 113.799576 , 83.71528 , 115.82884 , 111.399376 , 100.68978 , 95.10879 , 110.19999 , 100.68978 , 104.43748 , 109.72604 , 102.6416 , 114.17535 , 92.860306 , 77.55229 , 110.99854 , 88.559654 , 97.91717 , 93.70315 , 117.05836 , 109.52325 , 93.58935 , 111.47882 , 95.05504 , 77.71846 , 109.111534 , 111.47081 , 97.03058 , 93.757484 , 95.17202 , 110.13547 , 92.93451 , 111.399376 , 100.476654 , 94.95957 , 97.81128 , 97.51463 , 93.045815 , 109.73418 , 111.399376 , 105.27071 , 90.94512 , 106.120636 , 94.16263 , 99.9415 , 102.05784 , 94.32635 , 106.76685 , 104.03556 , 95.32571 , 90.536865 , 110.4576 , 103.61184 , 103.088455 , 96.64153 , 113.66046 , 94.78971 , 107.05364 , 94.30701 , 95.609764 , 92.56831 , 113.5215 , 90.227776 , 97.75929 , 92.86146 , 110.16803 , 111.1895 , 92.48949 , 112.60575 , 95.220856 , 109.73093 , 96.177795 , 103.49985 , 93.07288 , 103.875916 , 111.56691 , 93.57833 , 96.79227 , 106.28489 , 91.25713 , 111.930595 , 90.39888 , 105.697426 , 94.16362 , 112.26258 , 112.91145 , 111.762115 , 107.309 , 93.94902 , 105.49795 , 97.75929 , 92.31897 , 106.89748 , 112.36277 , 93.60964 , 105.33563 , 107.50342 , 93.201065 , 103.77155 , 103.145515 , 107.66309 , 93.917145 , 92.30263 , 104.35141 , 96.55769 , 110.50733 , 109.069145 , 93.8807 , 109.4648 , 106.71955 , 93.742096 , 94.57621 , 114.865364 , 96.3497 , 105.94014 , 96.659355 , 98.24552 , 93.66557 , 91.49501 , 95.52931 , 91.95483 , 107.05364 , 97.87996 , 108.993454 , 97.75993 , 105.06569 , 91.2465 , 93.37993 , 114.16462 , 104.562836 , 113.19557 , 113.555824 , 96.104744 , 75.462685 , 94.619225 , 112.72567 , 107.69809 , 101.64202 , 109.812256 , 101.35814 , 107.767555 , 107.05364 , 101.19524 , 95.34986 , 190.69933 , 109.4648 , 94.47085 , 76.287704 , 112.913155 , 113.82447 , 91.51379 , 109.32336 , 94.205055 , 102.65808 , 111.42106 , 94.94534 , 111.29527 , 94.11956 , 89.8169 , 91.49808 , 113.67784 , 94.613884 , 98.839134 , 115.24451 , 95.70727 , 81.86211 , 93.188545 , 113.5462 , 110.81538 , 108.34943 , 96.44365 , 99.38038 , 92.864876 , 93.97862 , 103.61184 , 97.65317 , 91.96306 , 81.69971 , 96.104744 , 91.892845 , 103.47025 , 110.50733 , 91.195724 , 114.75895 , 93.76064 , 104.97001 , 106.462364 , 94.08311 , 91.456314 , 107.05364 , 93.97862 , 103.68214 , 111.332794 , 116.087326 , 93.742096 , 107.83788 , 96.612785 , 109.15697 , 104.75747 , 104.3783 , 94.32335 , 97.54245 , 111.28501 , 109.91918 , 78.00746 , 93.742096 , 109.80221 , 91.62704 , 109.53313 , 106.409874 , 107.89256 , 118.24503 , 105.99327 , 101.3103 , 104.98659 , 96.29642 , 98.03723 , 113.5215 , 95.80585 , 105.604385 , 93.742096 , 106.45471 , 93.97862 , 101.037766 , 94.947235 , 96.27032 , 93.85383 , 107.74252 , 118.064575 , 102.96908 , 99.392624 , 98.52025 , 117.02072 , 96.542816 , 113.769196 , 111.876656 , 93.941826 , 106.90994 , 88.64619 , 96.355125 , 100.24148 , 100.04406 , 110.18007 , 100.521126 , 113.492775 , 110.2672 , 108.402504 , 97.27553 , 113.919395 , 90.768936 , 92.37877 , 95.69062 , 114.61808 , 93.311584 , 99.08496 , 104.34854 , 97.48187 , 104.03491 , 104.380844 , 103.529015 , 97.991936 , 109.3558 , 110.98622 , 112.82889 , 105.15505 , 103.32022 , 109.93785 , 99.657616 , 90.93455 , 94.756035 , 108.41787 , 92.52681 , 94.6392 , 103.59242 , 91.51192 , 103.0734 , 107.59807 , 94.11126 , 93.760414 , 104.44078 , 95.34986 , 100.81306 , 92.04202 , 92.864716 , 93.54884 , 105.12821 , 97.287315 , 93.38485 , 94.19424 , 92.22577 , 107.52094 , 93.89696 , 115.54685 , 101.12954 , 95.89986 , 91.75271 , 93.370766 , 99.369675 , 94.45851 , 97.33473 , 111.78177 , 109.17768 , 102.18261 , 91.72799 , 97.935715 , 104.42919 , 103.0734 , 88.24055 , 105.97015 , 94.19424 , 83.76793 , 110.16803 , 94.19424 , 96.674065 , 94.11782 , 104.00648 , 94.33054 , 94.419716 , 107.20095 , 116.08362 , 93.3136 , 112.45116 , 92.76359 , 105.993324 , 101.80691 , 110.759705 , 105.57959 , 110.63748 , 95.77336 , 100.87201 , 95.34986 , 115.51164 , 106.84376 , 102.27085 , 100.26493 , 86.01818 , 104.7675 , 111.14848 , 93.72966 , 92.8992 , 112.669014 , 96.178604 , 88.63743 , 91.664955 , 103.76504 , 92.783325 , 92.23734 , 104.33367 , 99.89752 , 108.27813 , 92.87368 , 102.783905 , 93.18032 , 98.08082 , 85.129555 , 93.39604 , 99.211075 , 109.74618 , 105.075226 , 93.66012 , 97.3055 , 104.380844 , 110.449196 , 96.13555 , 92.783325 , 82.417694 , 90.29747 , 98.46444 , 89.82334 , 79.42419 , 103.67154 , 109.11433 , 104.380844 , 95.77336 , 96.06198 , 102.812256 , 91.8532 , 92.88154 , 96.32953 , 111.60347 , 96.21021 , 108.82501 , 119.8784 , 108.76397 , 109.48826 , 92.82618 , 111.78177 , 93.74075 , 99.49495 , 87.84352 , 104.053566 , 111.78002 , 110.14756 , 95.915565 , 110.16803 , 88.92094 , 104.380844 , 93.20692 , 109.04882 , 96.208046 , 112.16013 , 91.735374 , 107.53794 , 97.99003 , 108.25286 , 99.04734 , 93.63043 , 108.8482 , 104.14279 , 110.9157 , 94.48985 , 96.511894 , 94.19449 , 95.34986 , 104.380844 , 96.03627 , 95.92585 , 93.76657 , 104.380844 , 111.67729 , 97.24082 , 92.117874 , 108.24897 , 103.68415 , 105.85884 , 104.380844 , 100.49055 , 74.73995 , 90.55272 , 107.39754 , 92.88154 , 104.82528 , 105.84113 , 100.59592 , 114.985466 , 92.593376 , 112.14802 , 109.01202 , 94.19344 , 95.68294 , 107.02346 , 120.10419 , 104.24433 , 106.52549 , 102.8671 , 108.81816 , 95.98989 , 94.370804 , 113.16589 , 103.0734 , 99.29907 , 109.88769 , 103.812485 , 109.67094 , 90.99867 , 95.67444 , 108.21678 , 110.6811 , 118.63504 , 92.84552 , 88.20454 , 100.96103 , 97.83571 , 93.64623 , 92.15563 , 101.86682 , 101.42434 , 108.09795 , 90.9185 , 96.41061 , 98.7949 , 106.78214 , 109.25182 , 110.48906 , 91.72005 , 107.07115 , 111.58328 , 102.41102 , 90.6102 , 106.00726 , 92.84552 , 106.66913 , 94.18931 , 108.86794 , 108.11601 , 95.4767 , 100.97004 , 101.67162 , 104.03236 , 93.69322 , 98.84565 , 96.75952 , 122.77602 , 101.45759 , 84.635666 , 103.762665 , 112.847755 , 115.95602 , 110.80948 , 99.00995 , 89.40487 , 88.49795 , 97.84691 , 77.70432 , 106.73286 , 106.66913 , 102.29319 , 94.2666 , 108.63354 , 92.02405 , 94.183525 , 96.396164 , 92.488434 , 94.72867 , 94.00485 , 105.21817 , 92.32285 , 95.066864 , 99.37578 , 111.4437 , 91.809746 , 110.758064 , 95.0316 , 96.81024 , 114.710945 , 94.954254 , 95.85555 , 109.88769 , 97.72685 , 92.01045 , 75.770325 , 91.03718 , 108.830444 , 96.367775 , 109.23859 , 92.478134 , 98.708916 , 96.8965 , 96.81024 , 104.44307 , 94.41011 , 112.974754 , 103.46948 , 100.25526 , 109.68223 , 98.00155 , 113.49893 , 110.72818 , 96.978584 , 110.00155 , 77.21113 , 114.9264 , 102.41102 , 93.826645 , 108.445175 , 94.331276 , 104.86213 , 103.87769 , 102.69863 , 102.93813 , 109.759514 , 97.48526 , 106.66913 , 94.32455 , 95.51396 , 97.79571 , 108.22504 , 100.62078 , 103.762665 , 104.432076 , 92.33518 , 105.17891 , 95.011284 , 103.066826 , 103.16264 , 112.945496 , 110.187996 , 98.959305 , 98.58719 , 110.00155 , 95.25991 , 93.87503 , 106.66913 , 105.748344 , 97.48526 , 112.963196 , 114.70526 , 91.53459 , 99.126976 , 106.512634 , 103.13694 , 119.15614 , 115.62718 , 95.32979 , 95.06132 , 106.40125 , 96.319336 , 109.09128 , 94.643364 , 115.63422 , 93.7678 , 112.56883 , 95.436615 , 96.17037 , 91.65793 , 94.59645 , 100.13733 , 100.12902 , 91.340515 , 100.16204 , 110.545334 , 119.15614 , 93.859184 , 108.79216 , 92.91175 , 112.93869 , 92.24557 , 108.56803 , 93.29101 , 107.273125 , 104.85217 , 109.56748 , 91.38674 , 95.14443 , 93.16428 , 99.158775 , 93.14177 , 112.93869 , 91.72005 , 92.07587 , 112.847755 , 95.70358 , 95.070274 , 94.08239 , 90.39764 , 94.87291 , 116.655075 , 110.94972 , 94.6706 , 106.14525 , 109.20933 , 99.73455 , 108.72368 , 76.57883 , 108.36786 , 94.00107 , 110.020805 , 109.42011 , 108.890175 , 93.049576 , 113.56149 , 101.29331 , 95.27452 , 106.22382 , 114.66515 , 101.676704 , 93.41067 , 108.291534 , 94.28386 , 112.65063 , 96.46734 , 97.62646 , 118.19615 , 96.21051 , 104.84791 , 91.008385 , 94.80595 , 92.88434 , 76.3131 , 94.56945 , 103.239075 , 103.5668 , 118.17329 , 93.47357 , 104.20987 , 93.322464 , 110.75717 , 95.83042 , 106.709236 , 99.63944 , 97.84863 , 96.63467 , 102.04474 , 75.550125 , 96.439445 , 93.698814 , 95.941925 , 116.37619 , 95.06132 , 97.64269 , 96.11796 , 89.62669 , 110.646614 , 106.94558 , 92.64222 , 97.25403 , 98.56745 , 105.66399 , 108.43734 , 100.199715 , 116.37619 , 109.66276 , 93.15668 , 96.36788 , 108.70504 , 93.58137 , 127.62545 , 96.29497 , 94.4399 , 111.28324 , 96.62584 , 101.134575 , 89.43719 , 99.062126 , 101.59422 , 100.52921 , 105.86913 , 106.22416 , 104.616806 , 88.324425 , 115.295586 , 95.86625 , 111.14474 , 99.614265 , 96.6771 , 113.32763 , 95.11918 , 114.660995 , 89.248795 , 95.34986 , 97.903915 , 97.987305 , 97.025986 , 98.757545 , 106.279144 , 94.740524 , 95.98187 , 106.32686 , 109.56924 , 107.90003 , 92.718925 , 103.6963 , 92.060265 , 114.88794 , 86.896866 , 89.88601 , 104.112305 , 89.85222 , 97.21139 , 109.66276 , 100.814896 , 95.75575 , 101.94734 , 94.194855 , 102.35519 , 94.18863 , 78.810555 , 96.71622 , 101.80246 , 97.15925 , 111.3589 , 106.54315 , 117.74383 , 94.470215 , 83.288864 , 94.222786 , 100.078636 , 97.284744 , 110.726875 , 107.11689 , 110.90804 , 103.34897 , 101.87557 , 100.2094 , 94.13976 , 110.37436 , 103.250336 , 93.85647 , 108.6545 , 108.455025 , 109.589554 , 102.778725 , 104.367615 , 99.88513 , 99.51298 , 84.81311 , 107.05937 , 111.14474 , 93.58137 , 108.05751 , 111.119156 , 94.8895 , 101.5746 , 110.76564 , 80.532295 , 111.1997 , 111.37467 , 114.7025 , 93.301636 , 111.81826 , 118.38726 , 91.88003 , 113.85287 , 94.79259 , 78.00746 , 91.04592 , 101.93739 , 94.36064 , 90.964165 , 100.814896 , 106.39491 , 102.91019 , 92.94877 , 127.62545 , 101.6117 , 109.68372 , 96.23991 , 102.12126 , 91.45847 , 101.020096 , 110.99091 , 96.53058 , 99.196846 , 105.08648 , 95.86625 , 95.18838 , 99.96549 , 93.33196 , 95.023346 , 92.884926 , 108.78121 , 92.02405 , 109.057495 , 102.58957 , 103.66291 , 107.773445 , 123.59778 , 95.464714 , 95.98753 , 101.955826 , 89.88601 , 104.919685 , 112.113846 , 114.83487 , 94.09182 , 120.028366 , 85.996216 , 104.616806 , 109.00701 , 109.03003 , 109.636024 , 96.25191 , 94.041275 , 97.15125 , 90.55829 , 91.41597 , 109.53344 , 111.55308 , 98.524765 , 94.46804 , 100.048645 , 102.13339 , 93.909935 , 94.14877 , 109.552216 , 102.73829 , 128.0457 , 103.40062 , 104.69491 , 91.07775 , 101.65379 , 110.76516 , 79.06294 , 94.41344 , 117.39382 , 96.538704 , 103.33966 , 91.87289 , 107.43705 , 100.459625 , 109.205696 , 88.7684 , 92.80533 , 107.17696 , 98.30775 , 93.99688 , 94.45213 , 103.04939 , 109.37051 , 95.13766 , 91.46059 , 91.165825 , 116.57916 , 113.707695 , 105.05002 , 102.81854 , 101.94048 , 95.465775 , 108.94128 , 94.36591 , 94.150185 , 112.646835 , 90.464966 , 116.68012 , 96.28004 , 119.49087 , 94.36591 , 95.93062 , 113.56576 , 101.20172 , 90.20069 , 92.56342 , 93.1618 , 109.75798 , 90.50063 , 93.54972 , 93.69401 , 106.58981 , 110.87466 , 98.488884 , 97.81449 , 96.82733 , 88.787224 , 93.922005 , 104.870766 , 121.64802 , 79.385765 , 94.63763 , 107.50547 , 120.627464 , 93.43834 , 97.70828 , 120.562416 , 92.85517 , 94.152954 , 96.28004 , 98.4007 , 93.97973 , 102.588264 , 95.376816 , 100.80595 , 95.05623 , 114.38505 , 110.754974 , 92.94335 , 77.2403 , 96.14613 , 113.86142 , 100.37776 , 95.287506 , 91.16522 , 111.294 , 94.875885 , 111.03262 , 97.01429 , 114.38505 , 99.61974 , 95.66199 , 92.33479 , 97.151535 , 95.267044 , 92.7153 , 110.629715 , 92.48606 , 106.98606 , 98.11193 , 94.46804 , 94.12942 , 76.19312 , 94.43031 , 103.4473 , 108.8331 , 94.68437 , 103.79292 , 114.8784 , 98.936195 , 93.624 , 93.96747 , 97.51262 , 101.49334 , 115.21419 , 102.55804 , 102.796074 , 110.89348 , 98.11193 , 118.43467 , 93.269646 , 106.72092 , 94.09223 , 102.025604 , 95.418846 , 90.31028 , 111.03262 , 104.45186 , 97.980286 , 93.13986 , 77.65789 , 101.85547 , 98.84667 , 93.36158 , 97.97272 , 96.94946 , 101.60106 , 101.90427 , 96.08447 , 120.53295 , 93.03868 , 96.71772 , 92.94335 , 102.26548 , 97.603935 , 76.77489 , 109.14831 , 94.88905 , 97.43863 , 102.27427 , 101.14868 , 110.71163 , 114.334236 , 118.32772 , 97.88214 , 97.62767 , 95.22766 , 93.02949 , 109.14831 , 112.86494 , 96.56044 , 98.039604 , 104.870766 , 112.58608 , 91.375305 , 116.15028 , 78.81498 , 101.1628 , 96.157166 , 98.11193 , 100.681694 , 104.870766 , 113.44339 , 101.52775 , 99.19162 , 114.38505 , 88.43508 , 116.13542 , 92.83025 , 105.63489 , 115.24109 , 107.4212 , 92.42269 , 94.4521 , 111.89716 , 93.69875 , 92.33671 , 113.43381 , 105.42295 , 94.65206 , 102.394714 , 98.11193 , 108.30449 , 111.669266 , 92.56342 , 111.649956 , 95.50507 , 109.75798 , 96.92877 , 108.14977 , 115.24109 , 111.649956 , 93.149895 , 91.09844 , 106.70859 , 99.544174 , 93.66792 , 108.92562 , 91.71098 , 108.75049 , 95.970024 , 110.65896 , 99.50022 , 100.53692 , 105.091156 , 94.12417 , 91.46399 , 110.47135 , 97.126274 , 102.51679 , 93.6158 , 96.049255 , 90.303314 , 110.144356 , 87.6898 , 91.586105 , 116.38467 , 93.53569 , 94.01659 , 99.18946 , 76.27215 , 99.16416 , 97.03642 , 100.60563 , 110.56802 , 94.536354 , 98.273865 , 90.19129 , 108.455696 , 108.06001 , 87.832344 , 88.911385 , 111.58124 , 93.07439 , 104.320656 , 93.6158 , 110.65454 , 94.12243 , 110.060715 , 109.95796 , 98.1877 , 104.74018 , 96.484955 , 104.46196 , 98.637505 , 89.90148 , 105.40473 , 110.36144 , 109.112656 , 78.81296 , 96.85447 , 116.38467 , 97.751724 , 108.98496 , 93.656334 , 104.68486 , 105.348564 , 102.92676 , 92.879684 , 103.4605 , 117.20709 , 96.02787 , 89.62547 , 114.736115 , 102.996 , 92.28821 , 100.162254 , 117.955345 , 96.17188 , 97.751724 , 95.87412 , 108.490036 , 101.45111 , 99.26456 , 111.673004 , 111.673004 , 93.591736 , 104.08003 , 95.75293 , 97.91801 , 111.673004 , 92.06876 , 114.707245 , 102.840675 , 108.49276 , 103.549164 , 90.73369 , 107.190445 , 84.98913 , 92.749825 , 111.673004 , 95.484184 , 111.673004 , 95.74308 , 96.156715 , 93.85315 , 76.53281 , 111.15372 , 98.56471 , 103.490326 , 108.01172 , 80.60862 , 111.21808 , 97.523636 , 102.840675 , 98.31621 , 103.728546 , 96.17934 , 98.56166 , 92.01701 , 93.99187 , 102.44186 , 97.523636 , 104.17465 , 98.79475 , 92.11532 , 78.12389 , 108.66381 , 100.64495 , 109.70361 , 91.1142 , 108.27082 , 101.70849 , 89.60302 , 94.006996 , 94.99365 , 101.11862 , 95.134125 , 89.716194 , 112.02635 , 108.9861 , 95.23748 , 104.08003 , 93.79837 , 105.348564 , 98.44763 , 119.99551 , 88.244835 , 109.5862 , 99.55301 , 92.71976 , 90.73369 , 115.17463 , 96.37612 , 101.46743 , 110.56755 , 109.48734 , 92.74297 , 86.90904 , 93.309586 , 76.639755 , 94.24537 , 100.913284 , 104.08831 , 102.0148 , 97.49698 , 114.59077 , 110.63168 , 93.62093 , 106.29544 , 96.56508 , 94.88069 , 112.847755 , 101.45431 , 105.57201 , 110.78859 , 93.951 , 96.25966 , 115.00618 , 112.30979 , 98.928764 , 99.10857 , 70.85763 , 91.962364 , 95.6721 , 92.42924 , 100.36595 , 106.460434 , 106.95772 , 100.716034 , 110.893166 , 91.03758 , 111.673004 , 92.64096 , 101.98833 , 110.96115 , 90.67334 , 110.24532 , 107.2827 , 100.913284 , 97.270775 , 94.81683 , 103.41261 , 110.18685 , 94.10481 , 106.460434 , 76.79773 , 107.92236 , 92.19166 , 96.49191 , 102.12089 , 106.941414 , 111.089554 , 93.58273 , 108.2782 , 89.13137 , 107.49785 , 106.56436 , 92.60781 , 91.24054 , 76.08737 , 114.34603 , 108.77894 , 112.625755 , 98.446884 , 97.48716 , 96.26898 , 100.506386 , 76.23653 , 104.647064 , 111.40463 , 107.04763 , 95.476 , 111.74314 , 102.56622 , 93.72892 , 107.102135 , 103.58568 , 90.23812 , 93.07045 , 116.06518 , 111.90104 , 95.899536 , 107.38856 , 92.59222 , 111.40463 , 95.70694 , 93.310974 , 110.397194 , 96.11648 , 101.2595 , 93.52888 , 94.76033 , 107.29096 , 95.94803 , 94.63519 , 112.36047 , 115.62144 , 98.37973 , 95.31615 , 91.780556 , 100.865654 , 94.7373 , 110.465645 , 89.88827 , 92.08167 , 81.53723 , 98.283905 , 100.5454 , 89.13173 , 94.7373 , 95.78479 , 108.63931 , 92.68356 , 111.22925 , 98.364784 , 91.91352 , 101.0711 , 95.59242 , 106.21304 , 99.75282 , 94.02212 , 109.80853 , 97.92863 , 99.03717 , 94.465935 , 77.48814 , 114.644104 , 92.13403 , 92.85734 , 98.391754 , 106.57575 , 103.31671 , 93.0915 , 109.20337 , 96.1972 , 110.48709 , 92.37902 , 114.34603 , 91.04319 , 97.77036 , 115.10608 , 94.496284 , 109.91566 , 95.996284 , 75.7597 , 91.49629 , 109.20337 , 92.238075 , 107.29096 , 88.39861 , 93.12752 , 113.26531 , 112.3822 , 93.29171 , 110.21501 , 92.737114 , 90.045105 , 100.13135 , 76.45034 , 120.74592 , 103.427666 , 90.00589 , 92.40819 , 92.70019 , 94.91847 , 92.59142 , 112.36047 , 90.537964 , 107.94913 , 102.07083 , 91.92104 , 92.07954 , 107.29096 , 98.90937 , 95.27594 , 107.29096 , 98.40297 , 97.87295 , 109.91566 , 108.15377 , 106.25672 , 77.89373 , 92.92634 , 93.85215 , 92.238075 , 107.29096 , 111.24625 , 94.81041 , 114.732864 , 87.16607 , 95.19624 , 93.90621 , 92.835976 , 91.56076 , 94.02212 , 113.49752 , 95.44449 , 102.95057 , 96.68357 , 87.91186 , 76.08737 , 92.55049 , 104.02782 , 118.04259 , 106.21304 , 101.6904 , 95.95328 , 90.00589 , 97.525536 , 107.29096 , 90.11302 , 98.65594 , 117.92025 , 94.68403 , 111.54376 , 91.780556 , 111.68177 , 90.00589 , 101.76009 , 112.0365 , 94.84794 , 98.80906 , 109.385 , 94.43582 , 112.4759 , 101.30115 , 117.6508 , 110.77011 , 93.436745 , 97.61196 , 105.88285 , 96.764084 , 98.25957 , 98.684326 , 97.20178 , 94.02212 , 110.44149 , 90.77003 , 107.68698 , 108.08135 , 97.74095 , 107.29096 , 104.065506 , 93.34217 , 108.99718 , 112.266365 , 92.19986 , 98.283905 , 113.90009 , 109.06751 , 111.19321 , 110.891205 , 90.00589 , 98.90076 , 89.29087 , 106.510994 , 97.0633 , 104.13783 , 91.70804 , 101.36999 , 101.330605 , 93.7411 , 107.957146 , 110.532646 , 109.32136 , 89.86266 , 92.88275 , 92.67654 , 106.02005 , 92.33207 , 98.88901 , 94.782845 , 104.58224 , 96.026924 , 95.49641 , 116.689644 , 112.473854 , 95.46431 , 77.779434 , 102.26669 , 109.56174 , 100.295334 , 114.78643 , 97.04796 , 109.58955 , 110.77059 , 89.256584 , 101.390564 , 90.471695 , 89.8667 , 92.71581 , 111.1718 , 106.160515 , 101.59094 , 99.53155 , 103.16819 , 115.104805 , 102.121574 , 77.19252 , 96.02562 , 110.0019 , 94.29165 , 94.72861 , 92.115166 , 112.473854 , 107.3842 , 92.01267 , 108.280754 , 94.45026 , 113.922104 , 108.3757 , 95.77063 , 93.45439 , 94.73096 , 109.717476 , 95.77668 , 108.280754 , 91.7209 , 96.074234 , 102.48107 , 98.42301 , 91.61117 , 101.46661 , 107.661575 , 95.20071 , 96.215996 , 110.532646 , 95.281395 , 110.604454 , 93.144775 , 118.98826 , 95.22062 , 89.95137 , 109.43993 , 96.6223 , 102.59378 , 114.075645 , 92.17099 , 101.02107 , 91.41832 , 102.625656 , 115.78685 , 105.29627 , 103.40669 , 93.44149 , 99.30724 , 110.311844 , 110.43433 , 93.678185 , 100.962685 , 91.70882 , 99.11318 , 108.290955 , 108.814804 , 110.0019 , 94.62733 , 109.56534 , 93.15744 , 107.669815 , 116.70454 , 116.689644 , 100.41484 , 99.78841 , 111.54143 , 95.73382 , 110.6995 , 98.18294 , 108.64954 , 109.65014 , 96.02604 , 95.51457 , 88.79667 , 92.04705 , 97.24147 , 91.47911 , 105.478455 , 96.601814 , 96.07368 , 90.03746 , 93.75757 , 99.89575 , 88.83702 , 111.632095 , 102.225716 , 102.84206 , 110.532646 , 103.563545 , 106.05905 , 96.31312 , 96.603676 , 92.15926 , 95.44595 , 110.77059 , 100.820244 , 98.52235 , 90.4984 , 99.11318 , 109.48894 , 90.127914 , 93.93154 , 108.280754 , 101.75881 , 89.61353 , 109.7944 , 113.922104 , 100.7358 , 105.99305 , 96.15296 , 110.77059 , 89.03589 , 95.6402 , 100.70331 , 110.816765 , 101.44492 , 100.49491 , 104.58224 , 95.45934 , 94.59962 , 103.82826 , 110.0019 , 108.562485 , 101.75881 , 98.74419 , 107.40158 , 80.49272 , 94.55665 , 109.43993 , 95.44418 , 105.63388 , 100.189545 , 107.64035 , 102.128204 , 108.4125 , 94.27582 , 101.16746 , 101.00101 , 95.89494 , 105.22017 , 101.00101 , 94.782845 , 95.73484 , 113.937775 , 92.05564 , 109.14597 , 92.41984 , 96.549355 , 104.40109 , 111.38233 , 99.62913 , 97.2656 , 94.27582 , 90.6785 , 90.086136 , 92.92369 , 108.161575 , 117.23748 , 89.487144 , 101.30883 , 91.28819 , 75.14603 , 101.23591 , 96.024345 , 100.91678 , 101.52566 , 112.864655 , 112.695816 , 91.73188 , 108.681114 , 109.38046 , 95.01599 , 97.64873 , 111.51223 , 100.17251 , 114.026474 , 109.46956 , 107.99615 , 99.945465 , 109.63664 , 94.87539 , 93.89175 , 110.816765 , 92.05564 , 94.68354 , 109.28703 , 102.121574 , 92.52692 , 106.41529 , 110.50322 , 110.6995 , 110.6995 , 92.99436 , 110.26345 , 110.532646 , 94.44252 , 110.6995 , 102.25978 , 111.51223 , 105.776436 , 102.428055 , 104.36493 , 109.93003 , 108.55115 , 94.706375 , 101.86188 , 93.6017 , 116.4609 , 101.697975 , 94.28771 , 107.91825 , 78.26151 , 88.21541 , 98.18796 , 109.85474 , 94.73331 , 103.9844 , 91.10497 , 104.797 , 93.69386 , 113.28239 , 96.5457 , 104.82584 , 114.61852 , 91.28735 , 92.14806 , 88.54304 , 113.30006 , 88.05497 , 108.25781 , 94.52298 , 120.067245 , 102.07577 , 108.93996 , 102.91265 , 92.14806 , 93.520195 , 93.828766 , 78.26151 , 97.724525 , 97.72436 , 109.42602 , 100.79452 , 91.12814 , 100.640366 , 92.287025 , 98.83574 , 74.07743 , 92.287025 , 111.927605 , 97.43123 , 92.203125 , 87.94105 , 111.927605 , 101.35639 , 100.82952 , 104.7236 , 113.28239 , 97.68607 , 102.16863 , 101.67174 , 95.86487 , 128.8245 , 92.90805 , 101.47737 , 96.08209 , 89.35143 , 94.87141 , 93.01873 , 106.14795 , 103.13054 , 93.281006 , 105.383606 , 92.46543 , 91.969574 , 95.52989 , 114.12197 , 94.73238 , 92.92001 , 100.44032 , 98.55847 , 93.53956 , 106.272896 , 101.697975 , 90.700775 , 91.969574 , 103.555405 , 76.19073 , 110.746635 , 98.35178 , 97.84878 , 108.218605 , 100.43358 , 95.98103 , 93.31646 , 87.50237 , 91.19308 , 87.85098 , 77.61238 , 99.50422 , 96.877716 , 96.957344 , 106.11413 , 111.20161 , 90.038605 , 108.37778 , 99.83788 , 93.53644 , 104.15569 , 92.076775 , 98.80068 , 110.76316 , 94.81398 , 94.294716 , 114.57526 , 92.78299 , 104.68562 , 97.21277 , 93.12374 , 94.294716 , 93.28862 , 93.73311 , 107.00338 , 103.83259 , 97.15819 , 106.77194 , 92.287025 , 102.00226 , 99.91032 , 94.624855 , 96.42902 , 94.832664 , 98.710266 , 89.66953 , 105.13044 , 89.616714 , 111.73311 , 88.90425 , 78.26151 , 111.856316 , 95.67427 , 102.42917 , 90.065765 , 86.428116 , 88.51397 , 96.877716 , 95.72081 , 105.00843 , 100.48352 , 93.764114 , 102.44866 , 91.6621 , 108.61382 , 105.224266 , 100.67972 , 97.71011 , 113.02679 , 126.1322 , 106.44729 , 92.94191 , 108.55796 , 101.44041 , 109.59922 , 104.580055 , 93.565926 , 99.83788 , 94.059586 , 89.56203 , 102.27258 , 94.73225 , 112.36621 , 97.77773 , 106.13149 , 112.95438 , 93.490974 , 94.11347 , 102.42812 , 90.67324 , 106.77194 , 99.71287 , 94.059586 , 93.32243 , 95.40677 , 93.38239 , 107.519844 , 91.82756 , 104.78969 , 103.226395 , 76.817665 , 106.83413 , 111.45288 , 110.050606 , 93.764114 , 103.68491 , 96.26368 , 101.10509 , 92.809044 , 99.07843 , 92.86041 , 107.147995 , 80.27159 , 109.065025 , 103.75717 , 98.03467 , 104.21206 , 97.10493 , 111.927605 , 111.927605 , 92.125465 , 76.49575 , 115.15063 , 88.9256 , 105.021454 , 106.86945 , 118.17538 , 93.28862 , 90.81961 , 95.347374 , 114.058624 , 97.16478 , 102.17467 , 97.8964 , 100.015976 , 109.40997 , 90.78532 , 93.84903 , 105.1327 , 91.01275 , 92.32108 , 103.25706 , 98.593285 , 114.61852 , 92.469284 , 108.33221 , 88.88919 , 93.14499 , 111.927605 , 91.401245 , 93.92577 , 108.57808 , 90.160805 , 111.927605 , 108.42919 , 111.856316 , 80.37904 , 108.47393 , 108.29416 , 90.31308 , 104.31179 , 101.12221 , 101.01748 , 99.880066 , 100.83254 , 93.74509 , 113.28774 , 97.62458 , 112.940346 , 102.97136 , 90.95426 , 95.51718 , 94.62231 , 79.47468 , 111.09692 , 117.787056 , 107.10389 , 102.64559 , 102.53028 , 103.75314 , 89.12904 , 89.27669 , 92.58835 , 112.940346 , 95.615265 , 96.24933 , 87.3117 , 103.06914 , 93.18783 , 95.84248 , 87.67826 , 102.58046 , 94.7066 , 89.992 , 91.26557 , 102.75204 , 94.150635 , 88.57227 , 77.10385 , 93.89702 , 95.92319 , 90.721565 , 102.08707 , 89.48498 , 102.542015 , 108.25287 , 103.36871 , 93.38419 , 88.15433 , 111.99367 , 107.77638 , 97.80235 , 97.0224 , 76.462944 , 100.51413 , 98.33789 , 89.21307 , 92.50512 , 96.912674 , 102.13563 , 89.34484 , 89.12904 , 95.74522 , 110.52992 , 108.897675 , 106.527794 , 109.82407 , 111.54977 , 95.09109 , 103.81609 , 110.68333 , 73.986206 , 77.94153 , 104.89907 , 108.564156 , 89.95668 , 109.484055 , 90.42736 , 96.15287 , 101.50881 , 93.96519 , 104.976746 , 95.43768 , 102.215164 , 90.42602 , 104.24751 , 112.92161 , 98.2652 , 94.62231 , 107.37119 , 95.75828 , 92.90777 , 100.51017 , 95.77726 , 101.473854 , 87.65082 , 110.653786 , 89.66215 , 87.6972 , 90.82808 , 88.98355 , 95.2348 , 90.080696 , 92.57795 , 92.78072 , 87.83472 , 93.377365 , 99.59374 , 108.43585 , 95.59237 , 96.80801 , 107.52509 , 91.22629 , 112.940346 , 97.8412 , 89.81108 , 112.940346 , 99.94619 , 107.35586 , 107.31472 , 90.95716 , 113.819336 , 105.063675 , 92.347565 , 105.13541 , 89.66215 , 102.598335 , 105.44597 , 112.940346 , 94.68981 , 101.620316 , 91.75361 , 107.52509 , 107.37119 , 97.42598 , 88.65934 , 114.662025 , 97.0224 , 95.375534 , 101.620316 , 108.25287 , 93.34705 , 93.84017 , 93.03081 , 91.67687 , 105.31944 , 103.34114 , 108.05125 , 114.17168 , 91.111786 , 112.38725 , 107.19581 , 100.18802 , 90.65599 , 100.504364 , 90.659325 , 116.005844 , 94.630226 , 85.80627 , 107.27722 , 91.28089 , 97.60232 , 90.65999 , 108.407394 , 92.90777 , 98.91505 , 93.37307 , 94.33327 , 91.45393 , 91.31676 , 103.10725 , 100.91796 , 104.9485 , 89.76049 , 93.35008 , 96.55388 , 113.04072 , 89.69942 , 109.213684 , 96.31821 , 109.189705 , 100.8497 , 94.18565 , 90.08005 , 113.00669 , 100.01419 , 112.15145 , 89.15838 , 90.16409 , 90.14978 , 107.37119 , 103.642105 , 108.58046 , 98.78618 , 100.91796 , 113.94611 , 107.10014 , 108.2648 , 112.17743 , 105.5751 , 98.57113 , 97.80029 , 100.7417 , 90.405556 , 87.3117 , 123.41202 , 107.17851 , 107.19581 , 97.14195 , 93.78586 , 109.71981 , 86.55422 , 106.89044 , 95.22289 , 103.57301 , 88.72835 , 108.21949 , 113.87474 , 98.40978 , 104.38869 , 93.89764 , 105.27117 , 94.14592 , 93.28809 , 118.46488 , 109.764336 , 104.81839 , 90.93484 , 112.334785 , 102.87931 , 109.28236 , 114.74905 , 113.06116 , 89.75879 , 96.6585 , 108.24802 , 118.62878 , 112.089424 , 98.83514 , 99.21849 , 103.120384 , 107.87767 , 92.45249 , 89.41183 , 91.89745 , 106.37908 , 101.27609 , 97.397896 , 91.759094 , 89.681274 , 93.37914 , 78.19649 , 102.05498 , 92.71699 , 92.95295 , 105.0873 , 109.856674 , 94.16627 , 105.17532 , 90.58994 , 105.50318 , 108.24802 , 91.48137 , 104.466576 , 102.179924 , 120.14576 , 95.46788 , 102.63679 , 98.10629 , 102.05498 , 93.719894 , 99.01051 , 100.94151 , 91.09294 , 93.42254 , 110.707726 , 99.401985 , 107.66651 , 111.597786 , 93.35424 , 112.14359 , 104.30874 , 118.54223 , 87.29173 , 117.25995 , 97.51214 , 92.61834 , 109.527214 , 108.93487 , 99.886444 , 94.17905 , 108.29744 , 94.960976 , 95.92434 , 90.82415 , 89.82897 , 109.95569 , 101.42853 , 105.99668 , 98.5766 , 102.788185 , 110.57838 , 108.93487 , 112.99387 , 109.15111 , 113.505325 , 92.90326 , 103.509094 , 118.57117 , 96.13603 , 103.033485 , 100.360565 , 107.11303 , 103.01336 , 93.874214 , 96.25593 , 95.147285 , 103.61033 , 105.418655 , 97.37434 , 99.72328 , 93.95307 , 113.85181 , 93.37914 , 107.209885 , 83.91525 , 100.98646 , 97.53944 , 89.82897 , 95.15285 , 110.72433 , 105.06223 , 104.74005 , 89.99708 , 102.24431 , 104.366135 , 84.184845 , "
     ]
    }
   ],
   "source": [
    "for target in test_data_prediction:\n",
    "    print(target,end=' , ')"
   ]
  },
  {
   "cell_type": "code",
   "execution_count": null,
   "metadata": {},
   "outputs": [],
   "source": []
  },
  {
   "cell_type": "code",
   "execution_count": null,
   "metadata": {},
   "outputs": [],
   "source": []
  }
 ],
 "metadata": {
  "kernelspec": {
   "display_name": "Python 3",
   "language": "python",
   "name": "python3"
  },
  "language_info": {
   "codemirror_mode": {
    "name": "ipython",
    "version": 3
   },
   "file_extension": ".py",
   "mimetype": "text/x-python",
   "name": "python",
   "nbconvert_exporter": "python",
   "pygments_lexer": "ipython3",
   "version": "3.7.6"
  }
 },
 "nbformat": 4,
 "nbformat_minor": 4
}
