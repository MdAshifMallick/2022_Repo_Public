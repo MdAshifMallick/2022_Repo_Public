{
 "cells": [
  {
   "cell_type": "code",
   "execution_count": 1,
   "metadata": {},
   "outputs": [],
   "source": [
    "import numpy as np\n",
    "import pandas as pd\n",
    "import matplotlib\n",
    "import matplotlib.pyplot as plt\n",
    "import seaborn as sns\n",
    "import datetime\n",
    "import calendar\n",
    "import scipy.stats as stat"
   ]
  },
  {
   "cell_type": "code",
   "execution_count": 2,
   "metadata": {},
   "outputs": [
    {
     "name": "stderr",
     "output_type": "stream",
     "text": [
      "/usr/local/lib/python3.7/site-packages/IPython/core/interactiveshell.py:3063: DtypeWarning: Columns (48,49) have mixed types.Specify dtype option on import or set low_memory=False.\n",
      "  interactivity=interactivity, compiler=compiler, result=result)\n"
     ]
    }
   ],
   "source": [
    "#task1-Import a 311 NYC service request.\n",
    "nyc = pd.read_csv('311_Service_Requests_from_2010_to_Present.csv')"
   ]
  },
  {
   "cell_type": "code",
   "execution_count": 5,
   "metadata": {},
   "outputs": [
    {
     "data": {
      "text/plain": [
       "Index(['Unique Key', 'Created Date', 'Closed Date', 'Agency', 'Agency Name',\n",
       "       'Complaint Type', 'Descriptor', 'Location Type', 'Incident Zip',\n",
       "       'Incident Address', 'Street Name', 'Cross Street 1', 'Cross Street 2',\n",
       "       'Intersection Street 1', 'Intersection Street 2', 'Address Type',\n",
       "       'City', 'Landmark', 'Facility Type', 'Status', 'Due Date',\n",
       "       'Resolution Description', 'Resolution Action Updated Date',\n",
       "       'Community Board', 'Borough', 'X Coordinate (State Plane)',\n",
       "       'Y Coordinate (State Plane)', 'Park Facility Name', 'Park Borough',\n",
       "       'School Name', 'School Number', 'School Region', 'School Code',\n",
       "       'School Phone Number', 'School Address', 'School City', 'School State',\n",
       "       'School Zip', 'School Not Found', 'School or Citywide Complaint',\n",
       "       'Vehicle Type', 'Taxi Company Borough', 'Taxi Pick Up Location',\n",
       "       'Bridge Highway Name', 'Bridge Highway Direction', 'Road Ramp',\n",
       "       'Bridge Highway Segment', 'Garage Lot Name', 'Ferry Direction',\n",
       "       'Ferry Terminal Name', 'Latitude', 'Longitude', 'Location'],\n",
       "      dtype='object')"
      ]
     },
     "execution_count": 5,
     "metadata": {},
     "output_type": "execute_result"
    }
   ],
   "source": [
    "nyc.columns"
   ]
  },
  {
   "cell_type": "code",
   "execution_count": 6,
   "metadata": {},
   "outputs": [
    {
     "name": "stdout",
     "output_type": "stream",
     "text": [
      "<class 'pandas.core.frame.DataFrame'>\n",
      "RangeIndex: 300698 entries, 0 to 300697\n",
      "Data columns (total 53 columns):\n",
      " #   Column                          Non-Null Count   Dtype  \n",
      "---  ------                          --------------   -----  \n",
      " 0   Unique Key                      300698 non-null  int64  \n",
      " 1   Created Date                    300698 non-null  object \n",
      " 2   Closed Date                     298534 non-null  object \n",
      " 3   Agency                          300698 non-null  object \n",
      " 4   Agency Name                     300698 non-null  object \n",
      " 5   Complaint Type                  300698 non-null  object \n",
      " 6   Descriptor                      294784 non-null  object \n",
      " 7   Location Type                   300567 non-null  object \n",
      " 8   Incident Zip                    298083 non-null  float64\n",
      " 9   Incident Address                256288 non-null  object \n",
      " 10  Street Name                     256288 non-null  object \n",
      " 11  Cross Street 1                  251419 non-null  object \n",
      " 12  Cross Street 2                  250919 non-null  object \n",
      " 13  Intersection Street 1           43858 non-null   object \n",
      " 14  Intersection Street 2           43362 non-null   object \n",
      " 15  Address Type                    297883 non-null  object \n",
      " 16  City                            298084 non-null  object \n",
      " 17  Landmark                        349 non-null     object \n",
      " 18  Facility Type                   298527 non-null  object \n",
      " 19  Status                          300698 non-null  object \n",
      " 20  Due Date                        300695 non-null  object \n",
      " 21  Resolution Description          300698 non-null  object \n",
      " 22  Resolution Action Updated Date  298511 non-null  object \n",
      " 23  Community Board                 300698 non-null  object \n",
      " 24  Borough                         300698 non-null  object \n",
      " 25  X Coordinate (State Plane)      297158 non-null  float64\n",
      " 26  Y Coordinate (State Plane)      297158 non-null  float64\n",
      " 27  Park Facility Name              300698 non-null  object \n",
      " 28  Park Borough                    300698 non-null  object \n",
      " 29  School Name                     300698 non-null  object \n",
      " 30  School Number                   300698 non-null  object \n",
      " 31  School Region                   300697 non-null  object \n",
      " 32  School Code                     300697 non-null  object \n",
      " 33  School Phone Number             300698 non-null  object \n",
      " 34  School Address                  300698 non-null  object \n",
      " 35  School City                     300698 non-null  object \n",
      " 36  School State                    300698 non-null  object \n",
      " 37  School Zip                      300697 non-null  object \n",
      " 38  School Not Found                300698 non-null  object \n",
      " 39  School or Citywide Complaint    0 non-null       float64\n",
      " 40  Vehicle Type                    0 non-null       float64\n",
      " 41  Taxi Company Borough            0 non-null       float64\n",
      " 42  Taxi Pick Up Location           0 non-null       float64\n",
      " 43  Bridge Highway Name             243 non-null     object \n",
      " 44  Bridge Highway Direction        243 non-null     object \n",
      " 45  Road Ramp                       213 non-null     object \n",
      " 46  Bridge Highway Segment          213 non-null     object \n",
      " 47  Garage Lot Name                 0 non-null       float64\n",
      " 48  Ferry Direction                 1 non-null       object \n",
      " 49  Ferry Terminal Name             2 non-null       object \n",
      " 50  Latitude                        297158 non-null  float64\n",
      " 51  Longitude                       297158 non-null  float64\n",
      " 52  Location                        297158 non-null  object \n",
      "dtypes: float64(10), int64(1), object(42)\n",
      "memory usage: 121.6+ MB\n"
     ]
    }
   ],
   "source": [
    "nyc.info()"
   ]
  },
  {
   "cell_type": "code",
   "execution_count": 7,
   "metadata": {},
   "outputs": [],
   "source": [
    "#task2-Read or convert the columns ‘Created Date’ and Closed Date’ to datetime datatype and create a new column ‘Request_Closing_Time’ as the time elapsed between request creation and request closing. (Hint: Explore the package/module datetime)"
   ]
  },
  {
   "cell_type": "code",
   "execution_count": 6,
   "metadata": {},
   "outputs": [
    {
     "data": {
      "text/plain": [
       "Index(['Unique Key', 'Created Date', 'Closed Date', 'Agency', 'Agency Name',\n",
       "       'Complaint Type', 'Descriptor', 'Location Type', 'Incident Zip',\n",
       "       'Incident Address', 'Street Name', 'Cross Street 1', 'Cross Street 2',\n",
       "       'Intersection Street 1', 'Intersection Street 2', 'Address Type',\n",
       "       'City', 'Landmark', 'Facility Type', 'Status', 'Due Date',\n",
       "       'Resolution Description', 'Resolution Action Updated Date',\n",
       "       'Community Board', 'Borough', 'X Coordinate (State Plane)',\n",
       "       'Y Coordinate (State Plane)', 'Park Facility Name', 'Park Borough',\n",
       "       'School Name', 'School Number', 'School Region', 'School Code',\n",
       "       'School Phone Number', 'School Address', 'School City', 'School State',\n",
       "       'School Zip', 'School Not Found', 'School or Citywide Complaint',\n",
       "       'Vehicle Type', 'Taxi Company Borough', 'Taxi Pick Up Location',\n",
       "       'Bridge Highway Name', 'Bridge Highway Direction', 'Road Ramp',\n",
       "       'Bridge Highway Segment', 'Garage Lot Name', 'Ferry Direction',\n",
       "       'Ferry Terminal Name', 'Latitude', 'Longitude', 'Location',\n",
       "       'Closed_Date', 'Created_Date', 'Request_Closing_Time'],\n",
       "      dtype='object')"
      ]
     },
     "execution_count": 6,
     "metadata": {},
     "output_type": "execute_result"
    }
   ],
   "source": [
    "nyc['Closed_Date']=pd.to_datetime(nyc['Closed Date'])\n",
    "nyc['Created_Date']=pd.to_datetime(nyc['Created Date'])\n",
    "nyc['Request_Closing_Time']=nyc.Closed_Date - nyc.Created_Date\n",
    "nyc.columns"
   ]
  },
  {
   "cell_type": "code",
   "execution_count": 9,
   "metadata": {},
   "outputs": [
    {
     "data": {
      "text/html": [
       "<div>\n",
       "<style scoped>\n",
       "    .dataframe tbody tr th:only-of-type {\n",
       "        vertical-align: middle;\n",
       "    }\n",
       "\n",
       "    .dataframe tbody tr th {\n",
       "        vertical-align: top;\n",
       "    }\n",
       "\n",
       "    .dataframe thead th {\n",
       "        text-align: right;\n",
       "    }\n",
       "</style>\n",
       "<table border=\"1\" class=\"dataframe\">\n",
       "  <thead>\n",
       "    <tr style=\"text-align: right;\">\n",
       "      <th></th>\n",
       "      <th>Created_Date</th>\n",
       "      <th>Closed_Date</th>\n",
       "      <th>Request_Closing_Time</th>\n",
       "    </tr>\n",
       "  </thead>\n",
       "  <tbody>\n",
       "    <tr>\n",
       "      <th>0</th>\n",
       "      <td>2015-12-31 23:59:45</td>\n",
       "      <td>2016-01-01 00:55:00</td>\n",
       "      <td>0 days 00:55:15</td>\n",
       "    </tr>\n",
       "    <tr>\n",
       "      <th>1</th>\n",
       "      <td>2015-12-31 23:59:44</td>\n",
       "      <td>2016-01-01 01:26:00</td>\n",
       "      <td>0 days 01:26:16</td>\n",
       "    </tr>\n",
       "    <tr>\n",
       "      <th>2</th>\n",
       "      <td>2015-12-31 23:59:29</td>\n",
       "      <td>2016-01-01 04:51:00</td>\n",
       "      <td>0 days 04:51:31</td>\n",
       "    </tr>\n",
       "    <tr>\n",
       "      <th>3</th>\n",
       "      <td>2015-12-31 23:57:46</td>\n",
       "      <td>2016-01-01 07:43:00</td>\n",
       "      <td>0 days 07:45:14</td>\n",
       "    </tr>\n",
       "    <tr>\n",
       "      <th>4</th>\n",
       "      <td>2015-12-31 23:56:58</td>\n",
       "      <td>2016-01-01 03:24:00</td>\n",
       "      <td>0 days 03:27:02</td>\n",
       "    </tr>\n",
       "  </tbody>\n",
       "</table>\n",
       "</div>"
      ],
      "text/plain": [
       "         Created_Date         Closed_Date Request_Closing_Time\n",
       "0 2015-12-31 23:59:45 2016-01-01 00:55:00      0 days 00:55:15\n",
       "1 2015-12-31 23:59:44 2016-01-01 01:26:00      0 days 01:26:16\n",
       "2 2015-12-31 23:59:29 2016-01-01 04:51:00      0 days 04:51:31\n",
       "3 2015-12-31 23:57:46 2016-01-01 07:43:00      0 days 07:45:14\n",
       "4 2015-12-31 23:56:58 2016-01-01 03:24:00      0 days 03:27:02"
      ]
     },
     "execution_count": 9,
     "metadata": {},
     "output_type": "execute_result"
    }
   ],
   "source": [
    "nyc[['Created_Date','Closed_Date','Request_Closing_Time']].head()"
   ]
  },
  {
   "cell_type": "code",
   "execution_count": 10,
   "metadata": {},
   "outputs": [],
   "source": [
    "#task3-Provide major insights/patterns that you can offer in a visual format (graphs or tables); at least 4 major conclusions that you can come up with after generic data mining."
   ]
  },
  {
   "cell_type": "code",
   "execution_count": 11,
   "metadata": {},
   "outputs": [],
   "source": [
    "## to do this,some specific columns are selected which by observation may impact the complaint types, will be shown graphically and insights will be drawn if any specific inference found"
   ]
  },
  {
   "cell_type": "code",
   "execution_count": 12,
   "metadata": {},
   "outputs": [
    {
     "data": {
      "text/plain": [
       "array(['Noise - Street/Sidewalk', 'Blocked Driveway', 'Illegal Parking',\n",
       "       'Derelict Vehicle', 'Noise - Commercial',\n",
       "       'Noise - House of Worship', 'Posting Advertisement',\n",
       "       'Noise - Vehicle', 'Animal Abuse', 'Vending', 'Traffic',\n",
       "       'Drinking', 'Bike/Roller/Skate Chronic', 'Panhandling',\n",
       "       'Noise - Park', 'Homeless Encampment', 'Urinating in Public',\n",
       "       'Graffiti', 'Disorderly Youth', 'Illegal Fireworks',\n",
       "       'Ferry Complaint', 'Agency Issues', 'Squeegee', 'Animal in a Park'],\n",
       "      dtype=object)"
      ]
     },
     "execution_count": 12,
     "metadata": {},
     "output_type": "execute_result"
    }
   ],
   "source": [
    "#1 total values under feature 'Complaint Type'\n",
    "nyc['Complaint Type'].unique()"
   ]
  },
  {
   "cell_type": "code",
   "execution_count": 24,
   "metadata": {},
   "outputs": [
    {
     "data": {
      "text/html": [
       "<div>\n",
       "<style scoped>\n",
       "    .dataframe tbody tr th:only-of-type {\n",
       "        vertical-align: middle;\n",
       "    }\n",
       "\n",
       "    .dataframe tbody tr th {\n",
       "        vertical-align: top;\n",
       "    }\n",
       "\n",
       "    .dataframe thead th {\n",
       "        text-align: right;\n",
       "    }\n",
       "</style>\n",
       "<table border=\"1\" class=\"dataframe\">\n",
       "  <thead>\n",
       "    <tr style=\"text-align: right;\">\n",
       "      <th></th>\n",
       "      <th>Complaint_Type</th>\n",
       "      <th>Counts</th>\n",
       "      <th>Percent</th>\n",
       "    </tr>\n",
       "  </thead>\n",
       "  <tbody>\n",
       "    <tr>\n",
       "      <th>0</th>\n",
       "      <td>Blocked Driveway</td>\n",
       "      <td>77044</td>\n",
       "      <td>25.62</td>\n",
       "    </tr>\n",
       "    <tr>\n",
       "      <th>1</th>\n",
       "      <td>Illegal Parking</td>\n",
       "      <td>75361</td>\n",
       "      <td>25.06</td>\n",
       "    </tr>\n",
       "    <tr>\n",
       "      <th>2</th>\n",
       "      <td>Noise - Street/Sidewalk</td>\n",
       "      <td>48612</td>\n",
       "      <td>16.17</td>\n",
       "    </tr>\n",
       "    <tr>\n",
       "      <th>3</th>\n",
       "      <td>Noise - Commercial</td>\n",
       "      <td>35577</td>\n",
       "      <td>11.83</td>\n",
       "    </tr>\n",
       "    <tr>\n",
       "      <th>4</th>\n",
       "      <td>Derelict Vehicle</td>\n",
       "      <td>17718</td>\n",
       "      <td>5.89</td>\n",
       "    </tr>\n",
       "    <tr>\n",
       "      <th>5</th>\n",
       "      <td>Noise - Vehicle</td>\n",
       "      <td>17083</td>\n",
       "      <td>5.68</td>\n",
       "    </tr>\n",
       "    <tr>\n",
       "      <th>6</th>\n",
       "      <td>Animal Abuse</td>\n",
       "      <td>7778</td>\n",
       "      <td>2.59</td>\n",
       "    </tr>\n",
       "    <tr>\n",
       "      <th>7</th>\n",
       "      <td>Traffic</td>\n",
       "      <td>4498</td>\n",
       "      <td>1.50</td>\n",
       "    </tr>\n",
       "    <tr>\n",
       "      <th>8</th>\n",
       "      <td>Homeless Encampment</td>\n",
       "      <td>4416</td>\n",
       "      <td>1.47</td>\n",
       "    </tr>\n",
       "    <tr>\n",
       "      <th>9</th>\n",
       "      <td>Noise - Park</td>\n",
       "      <td>4042</td>\n",
       "      <td>1.34</td>\n",
       "    </tr>\n",
       "    <tr>\n",
       "      <th>10</th>\n",
       "      <td>Vending</td>\n",
       "      <td>3802</td>\n",
       "      <td>1.26</td>\n",
       "    </tr>\n",
       "  </tbody>\n",
       "</table>\n",
       "</div>"
      ],
      "text/plain": [
       "             Complaint_Type  Counts  Percent\n",
       "0          Blocked Driveway   77044    25.62\n",
       "1           Illegal Parking   75361    25.06\n",
       "2   Noise - Street/Sidewalk   48612    16.17\n",
       "3        Noise - Commercial   35577    11.83\n",
       "4          Derelict Vehicle   17718     5.89\n",
       "5           Noise - Vehicle   17083     5.68\n",
       "6              Animal Abuse    7778     2.59\n",
       "7                   Traffic    4498     1.50\n",
       "8       Homeless Encampment    4416     1.47\n",
       "9              Noise - Park    4042     1.34\n",
       "10                  Vending    3802     1.26"
      ]
     },
     "execution_count": 24,
     "metadata": {},
     "output_type": "execute_result"
    }
   ],
   "source": [
    "#1 measuring the frequency of differnt complaint types as % where %>1\n",
    "nyc_complaint=nyc['Complaint Type'].value_counts()\n",
    "nyc_complaint=nyc_complaint.to_frame()\n",
    "nyc_complaint=nyc_complaint.rename(columns={'Complaint Type':'Counts'})\n",
    "nyc_complaint['Percent']=np.around((nyc_complaint.Counts/nyc_complaint.Counts.sum())*100,decimals=2)\n",
    "nyc_complaint=nyc_complaint[nyc_complaint.Percent>1.00]\n",
    "nyc_complaint=nyc_complaint.reset_index()\n",
    "nyc_complaint=nyc_complaint.rename(columns={'index':'Complaint_Type'})\n",
    "nyc_complaint"
   ]
  },
  {
   "cell_type": "code",
   "execution_count": 38,
   "metadata": {},
   "outputs": [
    {
     "data": {
      "image/png": "[encoded data removed]",
      "text/plain": [
       "<Figure size 1008x576 with 1 Axes>"
      ]
     },
     "metadata": {
      "needs_background": "light"
     },
     "output_type": "display_data"
    },
    {
     "data": {
      "text/plain": [
       "<Figure size 432x288 with 0 Axes>"
      ]
     },
     "metadata": {},
     "output_type": "display_data"
    }
   ],
   "source": [
    "#1 graphical visualization of the above result\n",
    "plt.figure(figsize= (14,8))\n",
    "complaint_type=sns.barplot(x=nyc_complaint.Complaint_Type ,y=nyc_complaint.Percent,data=nyc_complaint)\n",
    "complaint_type.set_xticklabels(complaint_type.get_xticklabels(),rotation=35,ha='right')\n",
    "plt.title('percentage of major complaint types')\n",
    "plt.show()\n",
    "plt.tight_layout ()"
   ]
  },
  {
   "cell_type": "code",
   "execution_count": 46,
   "metadata": {},
   "outputs": [
    {
     "name": "stdout",
     "output_type": "stream",
     "text": [
      "insights are:\n",
      "the major complaint types are, 1. Blocked Driveaway 2. Illegal parking 3. Noise-Street/Sidewalk 4.Noise-Commercial\n",
      "the six major complaint types are related to roads/vehicles\n"
     ]
    }
   ],
   "source": [
    "print('insights are:')\n",
    "print('the major complaint types are, 1. Blocked Driveaway 2. Illegal parking 3. Noise-Street/Sidewalk 4.Noise-Commercial')\n",
    "print('the six major complaint types are related to roads/vehicles')"
   ]
  },
  {
   "cell_type": "code",
   "execution_count": 6,
   "metadata": {},
   "outputs": [
    {
     "data": {
      "text/plain": [
       "array(['Loud Music/Party', 'No Access', 'Commercial Overnight Parking',\n",
       "       'Blocked Sidewalk', 'Posted Parking Sign Violation',\n",
       "       'Blocked Hydrant', 'With License Plate', 'Partial Access',\n",
       "       'Unauthorized Bus Layover', 'Double Parked Blocking Vehicle',\n",
       "       'Double Parked Blocking Traffic', 'Vehicle', 'Loud Talking',\n",
       "       'Banging/Pounding', 'Car/Truck Music', 'Tortured',\n",
       "       'In Prohibited Area', 'Congestion/Gridlock', 'Neglected',\n",
       "       'Car/Truck Horn', 'In Public', 'Other (complaint details)', nan,\n",
       "       'No Shelter', 'Truck Route Violation', 'Unlicensed',\n",
       "       'Overnight Commercial Storage', 'Engine Idling',\n",
       "       'After Hours - Licensed Est', 'Detached Trailer',\n",
       "       'Underage - Licensed Est', 'Chronic Stoplight Violation',\n",
       "       'Loud Television', 'Chained', 'Building', 'In Car',\n",
       "       'Police Report Requested', 'Chronic Speeding',\n",
       "       'Playing in Unsuitable Place', 'Drag Racing',\n",
       "       'Police Report Not Requested', 'Nuisance/Truant', 'Homeless Issue',\n",
       "       'Language Access Complaint', 'Disruptive Passenger',\n",
       "       'Animal Waste'], dtype=object)"
      ]
     },
     "execution_count": 6,
     "metadata": {},
     "output_type": "execute_result"
    }
   ],
   "source": [
    "#2 total values under feature 'Descriptor'\n",
    "nyc['Descriptor'].unique()"
   ]
  },
  {
   "cell_type": "code",
   "execution_count": 41,
   "metadata": {},
   "outputs": [
    {
     "data": {
      "text/html": [
       "<div>\n",
       "<style scoped>\n",
       "    .dataframe tbody tr th:only-of-type {\n",
       "        vertical-align: middle;\n",
       "    }\n",
       "\n",
       "    .dataframe tbody tr th {\n",
       "        vertical-align: top;\n",
       "    }\n",
       "\n",
       "    .dataframe thead th {\n",
       "        text-align: right;\n",
       "    }\n",
       "</style>\n",
       "<table border=\"1\" class=\"dataframe\">\n",
       "  <thead>\n",
       "    <tr style=\"text-align: right;\">\n",
       "      <th></th>\n",
       "      <th>Descriptor</th>\n",
       "      <th>Counts</th>\n",
       "      <th>Percent</th>\n",
       "    </tr>\n",
       "  </thead>\n",
       "  <tbody>\n",
       "    <tr>\n",
       "      <th>0</th>\n",
       "      <td>Loud Music/Party</td>\n",
       "      <td>61430</td>\n",
       "      <td>20.84</td>\n",
       "    </tr>\n",
       "    <tr>\n",
       "      <th>1</th>\n",
       "      <td>No Access</td>\n",
       "      <td>56976</td>\n",
       "      <td>19.33</td>\n",
       "    </tr>\n",
       "    <tr>\n",
       "      <th>2</th>\n",
       "      <td>Posted Parking Sign Violation</td>\n",
       "      <td>22440</td>\n",
       "      <td>7.61</td>\n",
       "    </tr>\n",
       "    <tr>\n",
       "      <th>3</th>\n",
       "      <td>Loud Talking</td>\n",
       "      <td>21584</td>\n",
       "      <td>7.32</td>\n",
       "    </tr>\n",
       "    <tr>\n",
       "      <th>4</th>\n",
       "      <td>Partial Access</td>\n",
       "      <td>20068</td>\n",
       "      <td>6.81</td>\n",
       "    </tr>\n",
       "    <tr>\n",
       "      <th>5</th>\n",
       "      <td>With License Plate</td>\n",
       "      <td>17718</td>\n",
       "      <td>6.01</td>\n",
       "    </tr>\n",
       "    <tr>\n",
       "      <th>6</th>\n",
       "      <td>Blocked Hydrant</td>\n",
       "      <td>16081</td>\n",
       "      <td>5.46</td>\n",
       "    </tr>\n",
       "    <tr>\n",
       "      <th>7</th>\n",
       "      <td>Commercial Overnight Parking</td>\n",
       "      <td>12189</td>\n",
       "      <td>4.13</td>\n",
       "    </tr>\n",
       "    <tr>\n",
       "      <th>8</th>\n",
       "      <td>Car/Truck Music</td>\n",
       "      <td>11273</td>\n",
       "      <td>3.82</td>\n",
       "    </tr>\n",
       "    <tr>\n",
       "      <th>9</th>\n",
       "      <td>Blocked Sidewalk</td>\n",
       "      <td>11121</td>\n",
       "      <td>3.77</td>\n",
       "    </tr>\n",
       "    <tr>\n",
       "      <th>10</th>\n",
       "      <td>Double Parked Blocking Traffic</td>\n",
       "      <td>5731</td>\n",
       "      <td>1.94</td>\n",
       "    </tr>\n",
       "    <tr>\n",
       "      <th>11</th>\n",
       "      <td>Double Parked Blocking Vehicle</td>\n",
       "      <td>4211</td>\n",
       "      <td>1.43</td>\n",
       "    </tr>\n",
       "    <tr>\n",
       "      <th>12</th>\n",
       "      <td>Engine Idling</td>\n",
       "      <td>4189</td>\n",
       "      <td>1.42</td>\n",
       "    </tr>\n",
       "    <tr>\n",
       "      <th>13</th>\n",
       "      <td>Banging/Pounding</td>\n",
       "      <td>4165</td>\n",
       "      <td>1.41</td>\n",
       "    </tr>\n",
       "    <tr>\n",
       "      <th>14</th>\n",
       "      <td>Neglected</td>\n",
       "      <td>3787</td>\n",
       "      <td>1.28</td>\n",
       "    </tr>\n",
       "    <tr>\n",
       "      <th>15</th>\n",
       "      <td>Car/Truck Horn</td>\n",
       "      <td>3511</td>\n",
       "      <td>1.19</td>\n",
       "    </tr>\n",
       "  </tbody>\n",
       "</table>\n",
       "</div>"
      ],
      "text/plain": [
       "                        Descriptor  Counts  Percent\n",
       "0                 Loud Music/Party   61430    20.84\n",
       "1                        No Access   56976    19.33\n",
       "2    Posted Parking Sign Violation   22440     7.61\n",
       "3                     Loud Talking   21584     7.32\n",
       "4                   Partial Access   20068     6.81\n",
       "5               With License Plate   17718     6.01\n",
       "6                  Blocked Hydrant   16081     5.46\n",
       "7     Commercial Overnight Parking   12189     4.13\n",
       "8                  Car/Truck Music   11273     3.82\n",
       "9                 Blocked Sidewalk   11121     3.77\n",
       "10  Double Parked Blocking Traffic    5731     1.94\n",
       "11  Double Parked Blocking Vehicle    4211     1.43\n",
       "12                   Engine Idling    4189     1.42\n",
       "13                Banging/Pounding    4165     1.41\n",
       "14                       Neglected    3787     1.28\n",
       "15                  Car/Truck Horn    3511     1.19"
      ]
     },
     "execution_count": 41,
     "metadata": {},
     "output_type": "execute_result"
    }
   ],
   "source": [
    "#2 measuring the frequency of differnt descriptor as % where %>1\n",
    "nyc_descriptor=nyc['Descriptor'].value_counts()\n",
    "nyc_descriptor=nyc_descriptor.to_frame()\n",
    "nyc_descriptor=nyc_descriptor.rename(columns={'Descriptor':'Counts'})\n",
    "nyc_descriptor['Percent']=np.around((nyc_descriptor.Counts/nyc_descriptor.Counts.sum())*100,decimals=2)\n",
    "nyc_descriptor=nyc_descriptor[nyc_descriptor.Percent>1.00]\n",
    "nyc_descriptor=nyc_descriptor.reset_index()\n",
    "nyc_descriptor=nyc_descriptor.rename(columns={'index':'Descriptor'})\n",
    "nyc_descriptor"
   ]
  },
  {
   "cell_type": "code",
   "execution_count": 47,
   "metadata": {},
   "outputs": [
    {
     "data": {
      "image/png": "[encoded data removed]",
      "text/plain": [
       "<Figure size 1008x576 with 1 Axes>"
      ]
     },
     "metadata": {
      "needs_background": "light"
     },
     "output_type": "display_data"
    },
    {
     "data": {
      "text/plain": [
       "<Figure size 432x288 with 0 Axes>"
      ]
     },
     "metadata": {},
     "output_type": "display_data"
    }
   ],
   "source": [
    "#2 graphical visualization of the above result\n",
    "plt.figure(figsize= (14,8))\n",
    "desc_type=sns.barplot(x=nyc_descriptor.Descriptor ,y=nyc_descriptor.Percent,data=nyc_descriptor)\n",
    "desc_type.set_xticklabels(desc_type.get_xticklabels(),rotation=35,ha='right')\n",
    "plt.title('percentage of major descriptor')\n",
    "plt.show()\n",
    "plt.tight_layout ()"
   ]
  },
  {
   "cell_type": "code",
   "execution_count": 45,
   "metadata": {},
   "outputs": [
    {
     "name": "stdout",
     "output_type": "stream",
     "text": [
      "insights are:\n",
      "the two major descriptors are, 1. Loud Music/Party 2. No Access\n"
     ]
    }
   ],
   "source": [
    "print('insights are:')\n",
    "print('the major descriptors are, 1. Loud Music/Party 2. No Access')"
   ]
  },
  {
   "cell_type": "code",
   "execution_count": 7,
   "metadata": {},
   "outputs": [
    {
     "data": {
      "text/plain": [
       "array(['Street/Sidewalk', 'Club/Bar/Restaurant', 'Store/Commercial',\n",
       "       'House of Worship', 'Residential Building/House',\n",
       "       'Residential Building', 'Park/Playground', 'Vacant Lot',\n",
       "       'House and Store', 'Highway', 'Commercial', 'Roadway Tunnel',\n",
       "       'Subway Station', 'Parking Lot', 'Bridge', 'Terminal', nan,\n",
       "       'Ferry', 'Park'], dtype=object)"
      ]
     },
     "execution_count": 7,
     "metadata": {},
     "output_type": "execute_result"
    }
   ],
   "source": [
    "#3 total values under feature 'Location Type'\n",
    "nyc['Location Type'].unique()"
   ]
  },
  {
   "cell_type": "code",
   "execution_count": 49,
   "metadata": {},
   "outputs": [
    {
     "data": {
      "text/html": [
       "<div>\n",
       "<style scoped>\n",
       "    .dataframe tbody tr th:only-of-type {\n",
       "        vertical-align: middle;\n",
       "    }\n",
       "\n",
       "    .dataframe tbody tr th {\n",
       "        vertical-align: top;\n",
       "    }\n",
       "\n",
       "    .dataframe thead th {\n",
       "        text-align: right;\n",
       "    }\n",
       "</style>\n",
       "<table border=\"1\" class=\"dataframe\">\n",
       "  <thead>\n",
       "    <tr style=\"text-align: right;\">\n",
       "      <th></th>\n",
       "      <th>Location_Type</th>\n",
       "      <th>Counts</th>\n",
       "      <th>Percent</th>\n",
       "    </tr>\n",
       "  </thead>\n",
       "  <tbody>\n",
       "    <tr>\n",
       "      <th>0</th>\n",
       "      <td>Street/Sidewalk</td>\n",
       "      <td>249299</td>\n",
       "      <td>82.94</td>\n",
       "    </tr>\n",
       "    <tr>\n",
       "      <th>1</th>\n",
       "      <td>Store/Commercial</td>\n",
       "      <td>20381</td>\n",
       "      <td>6.78</td>\n",
       "    </tr>\n",
       "    <tr>\n",
       "      <th>2</th>\n",
       "      <td>Club/Bar/Restaurant</td>\n",
       "      <td>17360</td>\n",
       "      <td>5.78</td>\n",
       "    </tr>\n",
       "    <tr>\n",
       "      <th>3</th>\n",
       "      <td>Residential Building/House</td>\n",
       "      <td>6960</td>\n",
       "      <td>2.32</td>\n",
       "    </tr>\n",
       "    <tr>\n",
       "      <th>4</th>\n",
       "      <td>Park/Playground</td>\n",
       "      <td>4773</td>\n",
       "      <td>1.59</td>\n",
       "    </tr>\n",
       "  </tbody>\n",
       "</table>\n",
       "</div>"
      ],
      "text/plain": [
       "                Location_Type  Counts  Percent\n",
       "0             Street/Sidewalk  249299    82.94\n",
       "1            Store/Commercial   20381     6.78\n",
       "2         Club/Bar/Restaurant   17360     5.78\n",
       "3  Residential Building/House    6960     2.32\n",
       "4             Park/Playground    4773     1.59"
      ]
     },
     "execution_count": 49,
     "metadata": {},
     "output_type": "execute_result"
    }
   ],
   "source": [
    "#3 measuring the frequency of differnt location type as % where %>1\n",
    "nyc_loc=nyc['Location Type'].value_counts()\n",
    "nyc_loc=nyc_loc.to_frame()\n",
    "nyc_loc=nyc_loc.rename(columns={'Location Type':'Counts'})\n",
    "nyc_loc['Percent']=np.around((nyc_loc.Counts/nyc_loc.Counts.sum())*100,decimals=2)\n",
    "nyc_loc=nyc_loc[nyc_loc.Percent>1.00]\n",
    "nyc_loc=nyc_loc.reset_index()\n",
    "nyc_loc=nyc_loc.rename(columns={'index':'Location_Type'})\n",
    "nyc_loc"
   ]
  },
  {
   "cell_type": "code",
   "execution_count": 51,
   "metadata": {},
   "outputs": [
    {
     "data": {
      "image/png": "[encoded data removed]",
      "text/plain": [
       "<Figure size 720x288 with 1 Axes>"
      ]
     },
     "metadata": {
      "needs_background": "light"
     },
     "output_type": "display_data"
    },
    {
     "data": {
      "text/plain": [
       "<Figure size 432x288 with 0 Axes>"
      ]
     },
     "metadata": {},
     "output_type": "display_data"
    }
   ],
   "source": [
    "#3 graphical visualization of the above result\n",
    "plt.figure(figsize= (10,4))\n",
    "loc_type=sns.barplot(x=nyc_loc.Location_Type ,y=nyc_loc.Percent,data=nyc_loc)\n",
    "loc_type.set_xticklabels(loc_type.get_xticklabels(),rotation=35,ha='right')\n",
    "plt.title('percentage of major location type')\n",
    "plt.show()\n",
    "plt.tight_layout ()"
   ]
  },
  {
   "cell_type": "code",
   "execution_count": 52,
   "metadata": {},
   "outputs": [
    {
     "name": "stdout",
     "output_type": "stream",
     "text": [
      "insights are:\n",
      "the major location type is Street/Sidewalk which contributes 82.94 % of the complaints\n",
      "this observation is associated with the observation in major complaint types bar chart,where major complaints are related to roads/vehicles\n"
     ]
    }
   ],
   "source": [
    "print('insights are:')\n",
    "print('the major location type is Street/Sidewalk which contributes 82.94 % of the complaints')\n",
    "print('this observation is associated with the observation in major complaint types bar chart,where major complaints are related to roads/vehicles')"
   ]
  },
  {
   "cell_type": "code",
   "execution_count": 8,
   "metadata": {},
   "outputs": [
    {
     "data": {
      "text/plain": [
       "array(['NEW YORK', 'ASTORIA', 'BRONX', 'ELMHURST', 'BROOKLYN',\n",
       "       'KEW GARDENS', 'JACKSON HEIGHTS', 'MIDDLE VILLAGE', 'REGO PARK',\n",
       "       'SAINT ALBANS', 'JAMAICA', 'SOUTH RICHMOND HILL', nan, 'RIDGEWOOD',\n",
       "       'HOWARD BEACH', 'FOREST HILLS', 'STATEN ISLAND', 'OZONE PARK',\n",
       "       'RICHMOND HILL', 'WOODHAVEN', 'FLUSHING', 'CORONA',\n",
       "       'QUEENS VILLAGE', 'OAKLAND GARDENS', 'HOLLIS', 'MASPETH',\n",
       "       'EAST ELMHURST', 'SOUTH OZONE PARK', 'WOODSIDE', 'FRESH MEADOWS',\n",
       "       'LONG ISLAND CITY', 'ROCKAWAY PARK', 'SPRINGFIELD GARDENS',\n",
       "       'COLLEGE POINT', 'BAYSIDE', 'GLEN OAKS', 'FAR ROCKAWAY',\n",
       "       'BELLEROSE', 'LITTLE NECK', 'CAMBRIA HEIGHTS', 'ROSEDALE',\n",
       "       'SUNNYSIDE', 'WHITESTONE', 'ARVERNE', 'FLORAL PARK',\n",
       "       'NEW HYDE PARK', 'CENTRAL PARK', 'BREEZY POINT', 'QUEENS',\n",
       "       'Astoria', 'Long Island City', 'Woodside', 'East Elmhurst',\n",
       "       'Howard Beach'], dtype=object)"
      ]
     },
     "execution_count": 8,
     "metadata": {},
     "output_type": "execute_result"
    }
   ],
   "source": [
    "#4 total values under feature 'City'\n",
    "nyc.City.unique()"
   ]
  },
  {
   "cell_type": "code",
   "execution_count": 11,
   "metadata": {},
   "outputs": [
    {
     "data": {
      "text/html": [
       "<div>\n",
       "<style scoped>\n",
       "    .dataframe tbody tr th:only-of-type {\n",
       "        vertical-align: middle;\n",
       "    }\n",
       "\n",
       "    .dataframe tbody tr th {\n",
       "        vertical-align: top;\n",
       "    }\n",
       "\n",
       "    .dataframe thead th {\n",
       "        text-align: right;\n",
       "    }\n",
       "</style>\n",
       "<table border=\"1\" class=\"dataframe\">\n",
       "  <thead>\n",
       "    <tr style=\"text-align: right;\">\n",
       "      <th></th>\n",
       "      <th>City</th>\n",
       "      <th>Counts</th>\n",
       "      <th>Percent</th>\n",
       "    </tr>\n",
       "  </thead>\n",
       "  <tbody>\n",
       "    <tr>\n",
       "      <th>0</th>\n",
       "      <td>BROOKLYN</td>\n",
       "      <td>98307</td>\n",
       "      <td>32.98</td>\n",
       "    </tr>\n",
       "    <tr>\n",
       "      <th>1</th>\n",
       "      <td>NEW YORK</td>\n",
       "      <td>65994</td>\n",
       "      <td>22.14</td>\n",
       "    </tr>\n",
       "    <tr>\n",
       "      <th>2</th>\n",
       "      <td>BRONX</td>\n",
       "      <td>40702</td>\n",
       "      <td>13.65</td>\n",
       "    </tr>\n",
       "    <tr>\n",
       "      <th>3</th>\n",
       "      <td>STATEN ISLAND</td>\n",
       "      <td>12343</td>\n",
       "      <td>4.14</td>\n",
       "    </tr>\n",
       "    <tr>\n",
       "      <th>4</th>\n",
       "      <td>JAMAICA</td>\n",
       "      <td>7296</td>\n",
       "      <td>2.45</td>\n",
       "    </tr>\n",
       "    <tr>\n",
       "      <th>5</th>\n",
       "      <td>ASTORIA</td>\n",
       "      <td>6330</td>\n",
       "      <td>2.12</td>\n",
       "    </tr>\n",
       "    <tr>\n",
       "      <th>6</th>\n",
       "      <td>FLUSHING</td>\n",
       "      <td>5971</td>\n",
       "      <td>2.00</td>\n",
       "    </tr>\n",
       "    <tr>\n",
       "      <th>7</th>\n",
       "      <td>RIDGEWOOD</td>\n",
       "      <td>5163</td>\n",
       "      <td>1.73</td>\n",
       "    </tr>\n",
       "    <tr>\n",
       "      <th>8</th>\n",
       "      <td>CORONA</td>\n",
       "      <td>4295</td>\n",
       "      <td>1.44</td>\n",
       "    </tr>\n",
       "    <tr>\n",
       "      <th>9</th>\n",
       "      <td>WOODSIDE</td>\n",
       "      <td>3544</td>\n",
       "      <td>1.19</td>\n",
       "    </tr>\n",
       "  </tbody>\n",
       "</table>\n",
       "</div>"
      ],
      "text/plain": [
       "            City  Counts  Percent\n",
       "0       BROOKLYN   98307    32.98\n",
       "1       NEW YORK   65994    22.14\n",
       "2          BRONX   40702    13.65\n",
       "3  STATEN ISLAND   12343     4.14\n",
       "4        JAMAICA    7296     2.45\n",
       "5        ASTORIA    6330     2.12\n",
       "6       FLUSHING    5971     2.00\n",
       "7      RIDGEWOOD    5163     1.73\n",
       "8         CORONA    4295     1.44\n",
       "9       WOODSIDE    3544     1.19"
      ]
     },
     "execution_count": 11,
     "metadata": {},
     "output_type": "execute_result"
    }
   ],
   "source": [
    "#4 measuring the frequency of differnt cities as % where %>1\n",
    "nyc_city=nyc['City'].value_counts()\n",
    "nyc_city=nyc_city.to_frame()\n",
    "nyc_city=nyc_city.rename(columns={'City':'Counts'})\n",
    "nyc_city['Percent']=np.around((nyc_city.Counts/nyc_city.Counts.sum())*100,decimals=2)\n",
    "nyc_city=nyc_city[nyc_city.Percent>1.00]\n",
    "nyc_city=nyc_city.reset_index()\n",
    "nyc_city=nyc_city.rename(columns={'index':'City'})\n",
    "nyc_city"
   ]
  },
  {
   "cell_type": "code",
   "execution_count": 17,
   "metadata": {},
   "outputs": [
    {
     "data": {
      "image/png": "[encoded data removed]",
      "text/plain": [
       "<Figure size 1008x576 with 1 Axes>"
      ]
     },
     "metadata": {
      "needs_background": "light"
     },
     "output_type": "display_data"
    },
    {
     "data": {
      "text/plain": [
       "<Figure size 432x288 with 0 Axes>"
      ]
     },
     "metadata": {},
     "output_type": "display_data"
    }
   ],
   "source": [
    "#4 graphical visualization of the above result\n",
    "plt.figure(figsize= (14,8))\n",
    "city_type=sns.barplot(x=nyc_city.City ,y=nyc_city.Percent,data=nyc_city)\n",
    "city_type.set_xticklabels(city_type.get_xticklabels(),rotation=35,ha='right')\n",
    "plt.title('percentage of major cities')\n",
    "plt.show()\n",
    "plt.tight_layout ()"
   ]
  },
  {
   "cell_type": "code",
   "execution_count": 18,
   "metadata": {},
   "outputs": [
    {
     "name": "stdout",
     "output_type": "stream",
     "text": [
      "insights are:\n",
      "there are 3 cities which contributing about 69% of the complaints\n",
      "these cities are, 1. Brooklyn 2. New York 3. Bronx\n"
     ]
    }
   ],
   "source": [
    "print('insights are:')\n",
    "print('there are 3 cities which contributing about 69% of the complaints')\n",
    "print('these cities are, 1. Brooklyn 2. New York 3. Bronx')"
   ]
  },
  {
   "cell_type": "code",
   "execution_count": 19,
   "metadata": {},
   "outputs": [
    {
     "data": {
      "text/plain": [
       "array(['Closed', 'Open', 'Assigned', 'Draft'], dtype=object)"
      ]
     },
     "execution_count": 19,
     "metadata": {},
     "output_type": "execute_result"
    }
   ],
   "source": [
    "#5 total values under feature 'Status'\n",
    "nyc.Status.unique()"
   ]
  },
  {
   "cell_type": "code",
   "execution_count": 21,
   "metadata": {},
   "outputs": [
    {
     "data": {
      "text/html": [
       "<div>\n",
       "<style scoped>\n",
       "    .dataframe tbody tr th:only-of-type {\n",
       "        vertical-align: middle;\n",
       "    }\n",
       "\n",
       "    .dataframe tbody tr th {\n",
       "        vertical-align: top;\n",
       "    }\n",
       "\n",
       "    .dataframe thead th {\n",
       "        text-align: right;\n",
       "    }\n",
       "</style>\n",
       "<table border=\"1\" class=\"dataframe\">\n",
       "  <thead>\n",
       "    <tr style=\"text-align: right;\">\n",
       "      <th></th>\n",
       "      <th>Status</th>\n",
       "      <th>Counts</th>\n",
       "      <th>Percent</th>\n",
       "    </tr>\n",
       "  </thead>\n",
       "  <tbody>\n",
       "    <tr>\n",
       "      <th>0</th>\n",
       "      <td>Closed</td>\n",
       "      <td>298471</td>\n",
       "      <td>99.26</td>\n",
       "    </tr>\n",
       "  </tbody>\n",
       "</table>\n",
       "</div>"
      ],
      "text/plain": [
       "   Status  Counts  Percent\n",
       "0  Closed  298471    99.26"
      ]
     },
     "execution_count": 21,
     "metadata": {},
     "output_type": "execute_result"
    }
   ],
   "source": [
    "#5 measuring the frequency of differnt status as % where %>1\n",
    "nyc_stat=nyc['Status'].value_counts()\n",
    "nyc_stat=nyc_stat.to_frame()\n",
    "nyc_stat=nyc_stat.rename(columns={'Status':'Counts'})\n",
    "nyc_stat['Percent']=np.around((nyc_stat.Counts/nyc_stat.Counts.sum())*100,decimals=2)\n",
    "nyc_stat=nyc_stat[nyc_stat.Percent>1.00]\n",
    "nyc_stat=nyc_stat.reset_index()\n",
    "nyc_stat=nyc_stat.rename(columns={'index':'Status'})\n",
    "nyc_stat"
   ]
  },
  {
   "cell_type": "code",
   "execution_count": 3,
   "metadata": {},
   "outputs": [
    {
     "name": "stdout",
     "output_type": "stream",
     "text": [
      "insights are:\n",
      "99% of the complaint types are closed, it signifies a good and speedy customer service request resolution\n"
     ]
    }
   ],
   "source": [
    "print('insights are:')\n",
    "print('99% of the complaint types are closed, it signifies a good and speedy customer service request resolution')"
   ]
  },
  {
   "cell_type": "code",
   "execution_count": 4,
   "metadata": {},
   "outputs": [
    {
     "data": {
      "text/plain": [
       "array(['The Police Department responded and upon arrival those responsible for the condition were gone.',\n",
       "       'The Police Department responded to the complaint and with the information available observed no evidence of the violation at that time.',\n",
       "       'The Police Department responded to the complaint and took action to fix the condition.',\n",
       "       'The Police Department issued a summons in response to the complaint.',\n",
       "       'The Police Department responded to the complaint and determined that police action was not necessary.',\n",
       "       'The Police Department reviewed your complaint and provided additional information below.',\n",
       "       'Your request can not be processed at this time because of insufficient contact information. Please create a new Service Request on NYC.gov and provide more detailed contact information.',\n",
       "       \"This complaint does not fall under the Police Department's jurisdiction.\",\n",
       "       'Your complaint has been forwarded to the New York Police Department for a non-emergency response. 311 will have additional information in 8 hours. Please note your service request number for future reference.',\n",
       "       'The Police Department responded to the complaint and a report was prepared.',\n",
       "       'The Police Department responded to the complaint but officers were unable to gain entry into the premises.',\n",
       "       'The Police Department made an arrest in response to the complaint.',\n",
       "       \"Your complaint has been forwarded to the New York Police Department for a non-emergency response. If the police determine the vehicle is illegally parked, they will ticket the vehicle and then you may either contact a private towing company to remove the vehicle or ask your local precinct to contact 'rotation tow'. Any fees charged for towing will have to be paid by the vehicle owner. 311 will have additional information in 8 hours. Please note your service request number for future reference.\",\n",
       "       'Your complaint has been received by the Police Department and it has been determined that a long-term investigation may be necessary.  Additional information will be available at the conclusion of the investigation.',\n",
       "       'The Department of Transportation contacted the customer and resolved the Service Request or provided the information requested.',\n",
       "       'The New York City Police Department received your comments and forwarded them to the appropriate unit for resolution. You may follow up by calling (646) 610-6952 after 60 days from submitting your agency issue.',\n",
       "       'The Department of Transportation requires 30 days to respond to this type of complaint.  Please note your Service Request number for future reference.',\n",
       "       'The condition was determined to be an issue appropriate for handling by an alternate entity.  The Department of Parks and Recreation has notified the appropriate resource.'],\n",
       "      dtype=object)"
      ]
     },
     "execution_count": 4,
     "metadata": {},
     "output_type": "execute_result"
    }
   ],
   "source": [
    "#6 total values under feature 'Resolution Description'\n",
    "nyc['Resolution Description'].unique()"
   ]
  },
  {
   "cell_type": "code",
   "execution_count": 5,
   "metadata": {},
   "outputs": [
    {
     "data": {
      "text/html": [
       "<div>\n",
       "<style scoped>\n",
       "    .dataframe tbody tr th:only-of-type {\n",
       "        vertical-align: middle;\n",
       "    }\n",
       "\n",
       "    .dataframe tbody tr th {\n",
       "        vertical-align: top;\n",
       "    }\n",
       "\n",
       "    .dataframe thead th {\n",
       "        text-align: right;\n",
       "    }\n",
       "</style>\n",
       "<table border=\"1\" class=\"dataframe\">\n",
       "  <thead>\n",
       "    <tr style=\"text-align: right;\">\n",
       "      <th></th>\n",
       "      <th>Resolution_Description</th>\n",
       "      <th>Counts</th>\n",
       "      <th>Percent</th>\n",
       "    </tr>\n",
       "  </thead>\n",
       "  <tbody>\n",
       "    <tr>\n",
       "      <th>0</th>\n",
       "      <td>The Police Department responded to the complai...</td>\n",
       "      <td>90490</td>\n",
       "      <td>30.09</td>\n",
       "    </tr>\n",
       "    <tr>\n",
       "      <th>1</th>\n",
       "      <td>The Police Department responded to the complai...</td>\n",
       "      <td>61624</td>\n",
       "      <td>20.49</td>\n",
       "    </tr>\n",
       "    <tr>\n",
       "      <th>2</th>\n",
       "      <td>The Police Department responded and upon arriv...</td>\n",
       "      <td>58031</td>\n",
       "      <td>19.30</td>\n",
       "    </tr>\n",
       "    <tr>\n",
       "      <th>3</th>\n",
       "      <td>The Police Department responded to the complai...</td>\n",
       "      <td>38211</td>\n",
       "      <td>12.71</td>\n",
       "    </tr>\n",
       "    <tr>\n",
       "      <th>4</th>\n",
       "      <td>The Police Department issued a summons in resp...</td>\n",
       "      <td>28246</td>\n",
       "      <td>9.39</td>\n",
       "    </tr>\n",
       "    <tr>\n",
       "      <th>5</th>\n",
       "      <td>The Police Department reviewed your complaint ...</td>\n",
       "      <td>13821</td>\n",
       "      <td>4.60</td>\n",
       "    </tr>\n",
       "    <tr>\n",
       "      <th>6</th>\n",
       "      <td>Your request can not be processed at this time...</td>\n",
       "      <td>4310</td>\n",
       "      <td>1.43</td>\n",
       "    </tr>\n",
       "  </tbody>\n",
       "</table>\n",
       "</div>"
      ],
      "text/plain": [
       "                              Resolution_Description  Counts  Percent\n",
       "0  The Police Department responded to the complai...   90490    30.09\n",
       "1  The Police Department responded to the complai...   61624    20.49\n",
       "2  The Police Department responded and upon arriv...   58031    19.30\n",
       "3  The Police Department responded to the complai...   38211    12.71\n",
       "4  The Police Department issued a summons in resp...   28246     9.39\n",
       "5  The Police Department reviewed your complaint ...   13821     4.60\n",
       "6  Your request can not be processed at this time...    4310     1.43"
      ]
     },
     "execution_count": 5,
     "metadata": {},
     "output_type": "execute_result"
    }
   ],
   "source": [
    "#6 measuring the frequency of differnt resolution description as % where %>1\n",
    "nyc_rd=nyc['Resolution Description'].value_counts()\n",
    "nyc_rd=nyc_rd.to_frame()\n",
    "nyc_rd=nyc_rd.rename(columns={'Resolution Description':'Counts'})\n",
    "nyc_rd['Percent']=np.around((nyc_rd.Counts/nyc_rd.Counts.sum())*100,decimals=2)\n",
    "nyc_rd=nyc_rd[nyc_rd.Percent>1.00]\n",
    "nyc_rd=nyc_rd.reset_index()\n",
    "nyc_rd=nyc_rd.rename(columns={'index':'Resolution_Description'})\n",
    "nyc_rd"
   ]
  },
  {
   "cell_type": "code",
   "execution_count": 8,
   "metadata": {},
   "outputs": [
    {
     "data": {
      "image/png": "[encoded data removed]",
      "text/plain": [
       "<Figure size 720x288 with 1 Axes>"
      ]
     },
     "metadata": {
      "needs_background": "light"
     },
     "output_type": "display_data"
    },
    {
     "data": {
      "text/plain": [
       "<Figure size 432x288 with 0 Axes>"
      ]
     },
     "metadata": {},
     "output_type": "display_data"
    }
   ],
   "source": [
    "#6 graphical visualization of the above result\n",
    "plt.figure(figsize= (10,4))\n",
    "rd_type=sns.barplot(x=nyc_rd.Resolution_Description,y=nyc_rd.Percent,data=nyc_rd)\n",
    "rd_type.set_xticklabels(rd_type.get_xticklabels(),rotation=35,ha='right')\n",
    "plt.title('percentage of major Resolution_Description')\n",
    "plt.show()\n",
    "plt.tight_layout ()"
   ]
  },
  {
   "cell_type": "code",
   "execution_count": 9,
   "metadata": {},
   "outputs": [
    {
     "name": "stdout",
     "output_type": "stream",
     "text": [
      "insights are:\n",
      "four major bars above imdicates that the police department responded to the issue and found approx 50% of the issue either there was no violation or police action was neccessary\n",
      "it signifies that if properly scrutinised at the time of complaint registration,a siginificant proportion of police workload could be reduced\n"
     ]
    }
   ],
   "source": [
    "print('insights are:')\n",
    "print('four major bars above imdicates that the police department responded to the issue and found approx 50% of the issue either there was no violation or police action was neccessary')\n",
    "print('it signifies that if properly scrutinised at the time of complaint registration,a siginificant proportion of police workload could be reduced')"
   ]
  },
  {
   "cell_type": "code",
   "execution_count": 9,
   "metadata": {},
   "outputs": [
    {
     "name": "stderr",
     "output_type": "stream",
     "text": [
      "/usr/local/lib/python3.7/site-packages/ipykernel_launcher.py:4: SettingWithCopyWarning: \n",
      "A value is trying to be set on a copy of a slice from a DataFrame\n",
      "\n",
      "See the caveats in the documentation: https://pandas.pydata.org/pandas-docs/stable/user_guide/indexing.html#returning-a-view-versus-a-copy\n",
      "  after removing the cwd from sys.path.\n",
      "/usr/local/lib/python3.7/site-packages/ipykernel_launcher.py:5: SettingWithCopyWarning: \n",
      "A value is trying to be set on a copy of a slice from a DataFrame.\n",
      "Try using .loc[row_indexer,col_indexer] = value instead\n",
      "\n",
      "See the caveats in the documentation: https://pandas.pydata.org/pandas-docs/stable/user_guide/indexing.html#returning-a-view-versus-a-copy\n",
      "  \"\"\"\n"
     ]
    },
    {
     "data": {
      "text/html": [
       "<div>\n",
       "<style scoped>\n",
       "    .dataframe tbody tr th:only-of-type {\n",
       "        vertical-align: middle;\n",
       "    }\n",
       "\n",
       "    .dataframe tbody tr th {\n",
       "        vertical-align: top;\n",
       "    }\n",
       "\n",
       "    .dataframe thead th {\n",
       "        text-align: right;\n",
       "    }\n",
       "</style>\n",
       "<table border=\"1\" class=\"dataframe\">\n",
       "  <thead>\n",
       "    <tr style=\"text-align: right;\">\n",
       "      <th></th>\n",
       "      <th>City</th>\n",
       "      <th>Complaint Type</th>\n",
       "      <th>Request_Closing_Time</th>\n",
       "      <th>DeltaT(in_hr)</th>\n",
       "    </tr>\n",
       "  </thead>\n",
       "  <tbody>\n",
       "    <tr>\n",
       "      <th>0</th>\n",
       "      <td>NEW YORK</td>\n",
       "      <td>Noise - Street/Sidewalk</td>\n",
       "      <td>0 days 00:55:15</td>\n",
       "      <td>0.92</td>\n",
       "    </tr>\n",
       "    <tr>\n",
       "      <th>1</th>\n",
       "      <td>ASTORIA</td>\n",
       "      <td>Blocked Driveway</td>\n",
       "      <td>0 days 01:26:16</td>\n",
       "      <td>1.44</td>\n",
       "    </tr>\n",
       "    <tr>\n",
       "      <th>2</th>\n",
       "      <td>BRONX</td>\n",
       "      <td>Blocked Driveway</td>\n",
       "      <td>0 days 04:51:31</td>\n",
       "      <td>4.86</td>\n",
       "    </tr>\n",
       "    <tr>\n",
       "      <th>3</th>\n",
       "      <td>BRONX</td>\n",
       "      <td>Illegal Parking</td>\n",
       "      <td>0 days 07:45:14</td>\n",
       "      <td>7.75</td>\n",
       "    </tr>\n",
       "    <tr>\n",
       "      <th>4</th>\n",
       "      <td>ELMHURST</td>\n",
       "      <td>Illegal Parking</td>\n",
       "      <td>0 days 03:27:02</td>\n",
       "      <td>3.45</td>\n",
       "    </tr>\n",
       "  </tbody>\n",
       "</table>\n",
       "</div>"
      ],
      "text/plain": [
       "       City           Complaint Type Request_Closing_Time  DeltaT(in_hr)\n",
       "0  NEW YORK  Noise - Street/Sidewalk      0 days 00:55:15           0.92\n",
       "1   ASTORIA         Blocked Driveway      0 days 01:26:16           1.44\n",
       "2     BRONX         Blocked Driveway      0 days 04:51:31           4.86\n",
       "3     BRONX          Illegal Parking      0 days 07:45:14           7.75\n",
       "4  ELMHURST          Illegal Parking      0 days 03:27:02           3.45"
      ]
     },
     "execution_count": 9,
     "metadata": {},
     "output_type": "execute_result"
    }
   ],
   "source": [
    "#task4- Order the complaint types based on the average ‘Request_Closing_Time’, grouping them for different locations.\n",
    "## for calculation, a new feature DeltaT(in_hr) is created which holds Request_closing_Time in integer format\n",
    "nyc_place_com_cls=nyc[['City','Complaint Type','Request_Closing_Time']]\n",
    "nyc_place_com_cls.dropna(subset=['City','Complaint Type','Request_Closing_Time'],inplace=True)\n",
    "nyc_place_com_cls['DeltaT(in_hr)']=np.around((nyc_place_com_cls.Request_Closing_Time.astype(np.int64)/(pow(10,9)*3600)),decimals=2)\n",
    "nyc_place_com_cls.head()"
   ]
  },
  {
   "cell_type": "code",
   "execution_count": 42,
   "metadata": {},
   "outputs": [
    {
     "name": "stdout",
     "output_type": "stream",
     "text": [
      "avg TAT in complaint closure is 4.31 hour\n"
     ]
    }
   ],
   "source": [
    "## avg 'turn around time' in complaint closure\n",
    "avg_time=np.around((nyc_place_com_cls['DeltaT(in_hr)'].mean()),decimals=2)\n",
    "print('avg TAT in complaint closure is',avg_time,'hour')"
   ]
  },
  {
   "cell_type": "code",
   "execution_count": 66,
   "metadata": {},
   "outputs": [
    {
     "data": {
      "text/html": [
       "<div>\n",
       "<style scoped>\n",
       "    .dataframe tbody tr th:only-of-type {\n",
       "        vertical-align: middle;\n",
       "    }\n",
       "\n",
       "    .dataframe tbody tr th {\n",
       "        vertical-align: top;\n",
       "    }\n",
       "\n",
       "    .dataframe thead th {\n",
       "        text-align: right;\n",
       "    }\n",
       "</style>\n",
       "<table border=\"1\" class=\"dataframe\">\n",
       "  <thead>\n",
       "    <tr style=\"text-align: right;\">\n",
       "      <th></th>\n",
       "      <th></th>\n",
       "      <th>avg_time(given_city,complaint_type)</th>\n",
       "    </tr>\n",
       "    <tr>\n",
       "      <th>City</th>\n",
       "      <th>Complaint Type</th>\n",
       "      <th></th>\n",
       "    </tr>\n",
       "  </thead>\n",
       "  <tbody>\n",
       "    <tr>\n",
       "      <th rowspan=\"15\" valign=\"top\">ARVERNE</th>\n",
       "      <th>Drinking</th>\n",
       "      <td>0.240000</td>\n",
       "    </tr>\n",
       "    <tr>\n",
       "      <th>Vending</th>\n",
       "      <td>0.480000</td>\n",
       "    </tr>\n",
       "    <tr>\n",
       "      <th>Urinating in Public</th>\n",
       "      <td>0.690000</td>\n",
       "    </tr>\n",
       "    <tr>\n",
       "      <th>Panhandling</th>\n",
       "      <td>1.030000</td>\n",
       "    </tr>\n",
       "    <tr>\n",
       "      <th>Noise - Park</th>\n",
       "      <td>1.285000</td>\n",
       "    </tr>\n",
       "    <tr>\n",
       "      <th>Graffiti</th>\n",
       "      <td>1.530000</td>\n",
       "    </tr>\n",
       "    <tr>\n",
       "      <th>Noise - House of Worship</th>\n",
       "      <td>1.562727</td>\n",
       "    </tr>\n",
       "    <tr>\n",
       "      <th>Homeless Encampment</th>\n",
       "      <td>1.812500</td>\n",
       "    </tr>\n",
       "    <tr>\n",
       "      <th>Noise - Vehicle</th>\n",
       "      <td>1.860000</td>\n",
       "    </tr>\n",
       "    <tr>\n",
       "      <th>Noise - Street/Sidewalk</th>\n",
       "      <td>1.992759</td>\n",
       "    </tr>\n",
       "    <tr>\n",
       "      <th>Animal Abuse</th>\n",
       "      <td>2.153158</td>\n",
       "    </tr>\n",
       "    <tr>\n",
       "      <th>Noise - Commercial</th>\n",
       "      <td>2.285000</td>\n",
       "    </tr>\n",
       "    <tr>\n",
       "      <th>Illegal Parking</th>\n",
       "      <td>2.316207</td>\n",
       "    </tr>\n",
       "    <tr>\n",
       "      <th>Blocked Driveway</th>\n",
       "      <td>2.526286</td>\n",
       "    </tr>\n",
       "    <tr>\n",
       "      <th>Derelict Vehicle</th>\n",
       "      <td>2.968519</td>\n",
       "    </tr>\n",
       "  </tbody>\n",
       "</table>\n",
       "</div>"
      ],
      "text/plain": [
       "                                  avg_time(given_city,complaint_type)\n",
       "City    Complaint Type                                               \n",
       "ARVERNE Drinking                                             0.240000\n",
       "        Vending                                              0.480000\n",
       "        Urinating in Public                                  0.690000\n",
       "        Panhandling                                          1.030000\n",
       "        Noise - Park                                         1.285000\n",
       "        Graffiti                                             1.530000\n",
       "        Noise - House of Worship                             1.562727\n",
       "        Homeless Encampment                                  1.812500\n",
       "        Noise - Vehicle                                      1.860000\n",
       "        Noise - Street/Sidewalk                              1.992759\n",
       "        Animal Abuse                                         2.153158\n",
       "        Noise - Commercial                                   2.285000\n",
       "        Illegal Parking                                      2.316207\n",
       "        Blocked Driveway                                     2.526286\n",
       "        Derelict Vehicle                                     2.968519"
      ]
     },
     "execution_count": 66,
     "metadata": {},
     "output_type": "execute_result"
    }
   ],
   "source": [
    "com_cls_avgtime_grouped=nyc_place_com_cls.groupby(['City','Complaint Type']).agg({'DeltaT(in_hr)':'mean'})\n",
    "com_cls_avgtime_grouped=com_cls_avgtime_grouped.rename(columns={'DeltaT(in_hr)':'avg_time(given_city,complaint_type)'})\n",
    "com_cls_avgtime_grouped=com_cls_avgtime_grouped.transform('avg_time(given_city,complaint_type)')\n",
    "com_cls_avgtime_grouped=com_cls_avgtime_grouped.to_frame()\n",
    "com_cls_avgtime_grouped=com_cls_avgtime_grouped.sort_values(['City','avg_time(given_city,complaint_type)'])\n",
    "pd.set_option('display.max_rows',None)\n",
    "pd.set_option('display.max_columns',None)\n",
    "com_cls_avgtime_grouped.head(15)"
   ]
  },
  {
   "cell_type": "code",
   "execution_count": 68,
   "metadata": {},
   "outputs": [
    {
     "name": "stdout",
     "output_type": "stream",
     "text": [
      "the avove table represents the complaint types based on the average Request_Closing_Time, grouping them for different cities\n"
     ]
    }
   ],
   "source": [
    "print('the avove table represents the complaint types based on the average Request_Closing_Time, grouping them for different cities')"
   ]
  },
  {
   "cell_type": "code",
   "execution_count": 3,
   "metadata": {},
   "outputs": [],
   "source": [
    "#task5- Perform a statistical test for the following:\n",
    "#Please note: For the below statements you need to state the Null and Alternate and then provide a statistical test to accept or reject the Null Hypothesis along with the corresponding ‘p-value’.\n",
    "#Whether the average response time across complaint types is similar or not (overall)"
   ]
  },
  {
   "cell_type": "code",
   "execution_count": 55,
   "metadata": {},
   "outputs": [
    {
     "name": "stdout",
     "output_type": "stream",
     "text": [
      "Null Hypothesis: Avg. response time across complaint types is similar\n",
      "Alternate Hypothesis: Avg. response time across complaint types are different\n",
      "From the output of code line 24,  it is evident that 8 categories of complaint types are responsible for 90% of the distribution.\n",
      "these are ,Illegal parking,Noise-street/sidewalk,Noise-Commercial,Derelict vehicle,Noise-vehicle\n",
      "Rest of the data is clubbed together in one set termed as Rest\n",
      "For this kind of null hypothesis, will use the onw way ANNOVA test,since multiple sample means are to be compared\n"
     ]
    }
   ],
   "source": [
    "print('Null Hypothesis: Avg. response time across complaint types is similar')\n",
    "print('Alternate Hypothesis: Avg. response time across complaint types are different')\n",
    "print('From the output of code line 24,  it is evident that 8 categories of complaint types are responsible for 90% of the distribution.')\n",
    "print('these are ,Illegal parking,Noise-street/sidewalk,Noise-Commercial,Derelict vehicle,Noise-vehicle')\n",
    "print('Rest of the data is clubbed together in one set termed as Rest')\n",
    "print('For this kind of null hypothesis, will use the onw way ANNOVA test,since multiple sample means are to be compared')"
   ]
  },
  {
   "cell_type": "code",
   "execution_count": 12,
   "metadata": {},
   "outputs": [
    {
     "data": {
      "text/plain": [
       "Index(['City', 'Complaint Type', 'Request_Closing_Time', 'DeltaT(in_hr)',\n",
       "       'Animal Abuse', 'Animal in a Park', 'Bike/Roller/Skate Chronic',\n",
       "       'Blocked Driveway', 'Derelict Vehicle', 'Disorderly Youth', 'Drinking',\n",
       "       'Graffiti', 'Homeless Encampment', 'Illegal Fireworks',\n",
       "       'Illegal Parking', 'Noise - Commercial', 'Noise - House of Worship',\n",
       "       'Noise - Park', 'Noise - Street/Sidewalk', 'Noise - Vehicle',\n",
       "       'Panhandling', 'Posting Advertisement', 'Squeegee', 'Traffic',\n",
       "       'Urinating in Public', 'Vending'],\n",
       "      dtype='object')"
      ]
     },
     "execution_count": 12,
     "metadata": {},
     "output_type": "execute_result"
    }
   ],
   "source": [
    "# Create a dataframe by one hot encoding of categorical variable complaint type\n",
    "nyc2=pd.get_dummies(nyc_place_com_cls['Complaint Type'])\n",
    "nyc2_plc_com_cls=pd.concat([nyc_place_com_cls,nyc2],axis=1)\n",
    "nyc2_plc_com_cls.columns"
   ]
  },
  {
   "cell_type": "code",
   "execution_count": 17,
   "metadata": {},
   "outputs": [
    {
     "data": {
      "text/plain": [
       "(76752, 5)"
      ]
     },
     "execution_count": 17,
     "metadata": {},
     "output_type": "execute_result"
    }
   ],
   "source": [
    "# Create sample set of only non zero rows of 'Blocked Driveway'\n",
    "sample_BlkDrv=nyc2_plc_com_cls.drop(['Animal Abuse', 'Animal in a Park', 'Bike/Roller/Skate Chronic', 'Derelict Vehicle', 'Disorderly Youth', 'Drinking',\n",
    "                                     'Graffiti', 'Homeless Encampment', 'Illegal Fireworks','Illegal Parking', 'Noise - Commercial', 'Noise - House of Worship',\n",
    "                                     'Noise - Park', 'Noise - Street/Sidewalk', 'Noise - Vehicle','Panhandling', 'Posting Advertisement', 'Squeegee', 'Traffic','Urinating in Public', 'Vending'],axis=1)\n",
    "sample_BlkDrv1=sample_BlkDrv[(sample_BlkDrv[['Blocked Driveway']]!=0).all(axis=1)]\n",
    "sample_BlkDrv1.shape"
   ]
  },
  {
   "cell_type": "code",
   "execution_count": 23,
   "metadata": {},
   "outputs": [
    {
     "data": {
      "text/plain": [
       "(74311, 5)"
      ]
     },
     "execution_count": 23,
     "metadata": {},
     "output_type": "execute_result"
    }
   ],
   "source": [
    "# Create sample set of only non zero rows of 'Illegal Parking'\n",
    "sample_IllglPrk=nyc2_plc_com_cls.drop(['Animal Abuse', 'Animal in a Park', 'Bike/Roller/Skate Chronic', 'Derelict Vehicle', 'Disorderly Youth', 'Drinking',\n",
    "                                     'Graffiti', 'Homeless Encampment', 'Illegal Fireworks','Blocked Driveway', 'Noise - Commercial', 'Noise - House of Worship',\n",
    "                                     'Noise - Park', 'Noise - Street/Sidewalk', 'Noise - Vehicle','Panhandling', 'Posting Advertisement', 'Squeegee', 'Traffic','Urinating in Public', 'Vending'],axis=1)\n",
    "sample_IllglPrk1=sample_IllglPrk[(sample_IllglPrk[['Illegal Parking']]!=0).all(axis=1)]\n",
    "sample_IllglPrk1.shape"
   ]
  },
  {
   "cell_type": "code",
   "execution_count": 28,
   "metadata": {},
   "outputs": [
    {
     "data": {
      "text/plain": [
       "(47986, 5)"
      ]
     },
     "execution_count": 28,
     "metadata": {},
     "output_type": "execute_result"
    }
   ],
   "source": [
    "# Create sample set of only non zero rows of 'Noise - Street/Sidewalk'\n",
    "sample_NseSdewlk=nyc2_plc_com_cls.drop(['Animal Abuse', 'Animal in a Park', 'Bike/Roller/Skate Chronic', 'Derelict Vehicle', 'Disorderly Youth', 'Drinking',\n",
    "                                     'Graffiti', 'Homeless Encampment', 'Illegal Fireworks','Illegal Parking', 'Noise - Commercial', 'Noise - House of Worship',\n",
    "                                     'Noise - Park', 'Blocked Driveway', 'Noise - Vehicle','Panhandling', 'Posting Advertisement', 'Squeegee', 'Traffic','Urinating in Public', 'Vending'],axis=1)\n",
    "sample_NseSdewlk1=sample_NseSdewlk[(sample_NseSdewlk[['Noise - Street/Sidewalk']]!=0).all(axis=1)]\n",
    "sample_NseSdewlk1.shape"
   ]
  },
  {
   "cell_type": "code",
   "execution_count": 32,
   "metadata": {},
   "outputs": [
    {
     "data": {
      "text/plain": [
       "(35185, 5)"
      ]
     },
     "execution_count": 32,
     "metadata": {},
     "output_type": "execute_result"
    }
   ],
   "source": [
    "# Create sample set of only non zero rows of 'Noise - Commercial'\n",
    "sample_NseCom=nyc2_plc_com_cls.drop(['Animal Abuse', 'Animal in a Park', 'Bike/Roller/Skate Chronic', 'Derelict Vehicle', 'Disorderly Youth', 'Drinking',\n",
    "                                     'Graffiti', 'Homeless Encampment', 'Illegal Fireworks','Illegal Parking', 'Blocked Driveway', 'Noise - House of Worship',\n",
    "                                     'Noise - Park', 'Noise - Street/Sidewalk', 'Noise - Vehicle','Panhandling', 'Posting Advertisement', 'Squeegee', 'Traffic','Urinating in Public', 'Vending'],axis=1)\n",
    "sample_NseCom1=sample_NseCom[(sample_NseCom[['Noise - Commercial']]!=0).all(axis=1)]\n",
    "sample_NseCom1.shape"
   ]
  },
  {
   "cell_type": "code",
   "execution_count": 36,
   "metadata": {},
   "outputs": [
    {
     "data": {
      "text/plain": [
       "(17542, 5)"
      ]
     },
     "execution_count": 36,
     "metadata": {},
     "output_type": "execute_result"
    }
   ],
   "source": [
    "# Create sample set of only non zero rows of 'Derelict Vehicle'\n",
    "sample_DrlctVhcl=nyc2_plc_com_cls.drop(['Animal Abuse', 'Animal in a Park', 'Bike/Roller/Skate Chronic', 'Blocked Driveway', 'Disorderly Youth', 'Drinking',\n",
    "                                     'Graffiti', 'Homeless Encampment', 'Illegal Fireworks','Illegal Parking', 'Noise - Commercial', 'Noise - House of Worship',\n",
    "                                     'Noise - Park', 'Noise - Street/Sidewalk', 'Noise - Vehicle','Panhandling', 'Posting Advertisement', 'Squeegee', 'Traffic','Urinating in Public', 'Vending'],axis=1)\n",
    "sample_DrlctVhcl1=sample_DrlctVhcl[(sample_DrlctVhcl[['Derelict Vehicle']]!=0).all(axis=1)]\n",
    "sample_DrlctVhcl1.shape"
   ]
  },
  {
   "cell_type": "code",
   "execution_count": 40,
   "metadata": {},
   "outputs": [
    {
     "data": {
      "text/plain": [
       "(17027, 5)"
      ]
     },
     "execution_count": 40,
     "metadata": {},
     "output_type": "execute_result"
    }
   ],
   "source": [
    "# Create sample set of only non zero rows of 'Noise - Vehicle'\n",
    "sample_NseVhcl=nyc2_plc_com_cls.drop(['Animal Abuse', 'Animal in a Park', 'Bike/Roller/Skate Chronic', 'Derelict Vehicle', 'Disorderly Youth', 'Drinking',\n",
    "                                     'Graffiti', 'Homeless Encampment', 'Illegal Fireworks','Illegal Parking', 'Noise - Commercial', 'Noise - House of Worship',\n",
    "                                     'Noise - Park', 'Noise - Street/Sidewalk', 'Blocked Driveway','Panhandling', 'Posting Advertisement', 'Squeegee', 'Traffic','Urinating in Public', 'Vending'],axis=1)\n",
    "sample_NseVhcl1=sample_NseVhcl[(sample_NseVhcl[['Noise - Vehicle']]!=0).all(axis=1)]\n",
    "sample_NseVhcl1.shape"
   ]
  },
  {
   "cell_type": "code",
   "execution_count": 50,
   "metadata": {},
   "outputs": [
    {
     "data": {
      "text/plain": [
       "(29225, 5)"
      ]
     },
     "execution_count": 50,
     "metadata": {},
     "output_type": "execute_result"
    }
   ],
   "source": [
    "# Create sample set of remaining classes of the category complaint type in the set Rest\n",
    "sample_Rest=nyc2_plc_com_cls.drop(['Noise - Vehicle','Derelict Vehicle','Noise - Commercial','Noise - Street/Sidewalk','Illegal Parking','Blocked Driveway'],axis=1)\n",
    "sample_Rest['Rest TOT']=sample_Rest.iloc[ : ,-16:].sum(axis=1)\n",
    "sample_Rest1=sample_Rest.drop(['Animal Abuse', 'Animal in a Park', 'Bike/Roller/Skate Chronic', 'Disorderly Youth', 'Drinking',\n",
    "                                     'Graffiti', 'Homeless Encampment', 'Illegal Fireworks', 'Noise - House of Worship',\n",
    "                                     'Noise - Park','Panhandling', 'Posting Advertisement', 'Squeegee', 'Traffic','Urinating in Public', 'Vending'],axis=1)\n",
    "sample_Rest2=sample_Rest1[(sample_Rest1[['Rest TOT']]!=0).all(axis=1)]\n",
    "sample_Rest2.shape"
   ]
  },
  {
   "cell_type": "code",
   "execution_count": 51,
   "metadata": {},
   "outputs": [
    {
     "name": "stdout",
     "output_type": "stream",
     "text": [
      "F-statistic is = 1261.1348008835016\n",
      "p value is = 0.0\n"
     ]
    }
   ],
   "source": [
    "# One Way ANNOVA\n",
    "f_val,p_val=stat.f_oneway(sample_BlkDrv1['DeltaT(in_hr)'],sample_IllglPrk1['DeltaT(in_hr)'],sample_NseSdewlk1['DeltaT(in_hr)'],sample_NseCom1['DeltaT(in_hr)'],\n",
    "                          sample_DrlctVhcl1['DeltaT(in_hr)'],sample_NseVhcl1['DeltaT(in_hr)'],sample_Rest2['DeltaT(in_hr)'])\n",
    "print('F-statistic is =',f_val)\n",
    "print('p value is =',np.around(p_val,decimals=5))"
   ]
  },
  {
   "cell_type": "code",
   "execution_count": 52,
   "metadata": {},
   "outputs": [
    {
     "name": "stdout",
     "output_type": "stream",
     "text": [
      "Null hypothesis is rejected at 5% level of significance since p value(0.0) is less than 0.05\n"
     ]
    }
   ],
   "source": [
    "if (p_val<0.05):\n",
    "    print('Null hypothesis is rejected at 5% level of significance since p value({}) is less than 0.05'.format(np.around(p_val,decimals=2)))\n",
    "else:\n",
    "    print('Null hypothesis is accepted at 5% level of significance since p value({}) is greater than 0.05'.format(np.around(p_val,decimals=2)))"
   ]
  },
  {
   "cell_type": "code",
   "execution_count": 53,
   "metadata": {},
   "outputs": [
    {
     "name": "stdout",
     "output_type": "stream",
     "text": [
      "hence, we can conclude that average response time across multiple complaint types differ significantly!\n"
     ]
    }
   ],
   "source": [
    "print('hence, we can conclude that average response time across multiple complaint types differ significantly!')"
   ]
  },
  {
   "cell_type": "code",
   "execution_count": 54,
   "metadata": {},
   "outputs": [],
   "source": [
    "#task6- Perform a statistical test for the following:\n",
    "#Are the type of complaint or service requested and location related?"
   ]
  },
  {
   "cell_type": "code",
   "execution_count": 56,
   "metadata": {},
   "outputs": [
    {
     "name": "stdout",
     "output_type": "stream",
     "text": [
      "Null Hypothesis: there is no association b/w complaint types and location/cities values.\n",
      "Alternative Hypothesis: complaint types & location/cities related to each other.\n",
      "For this purpose, will use the Crosstab analysis and Chi-square test.\n"
     ]
    }
   ],
   "source": [
    "print('Null Hypothesis: there is no association b/w complaint types and location/cities values.')\n",
    "print('Alternative Hypothesis: complaint types & location/cities related to each other.')\n",
    "print('For this purpose, will use the Crosstab analysis and Chi-square test.')"
   ]
  },
  {
   "cell_type": "code",
   "execution_count": 57,
   "metadata": {},
   "outputs": [
    {
     "data": {
      "text/plain": [
       "(300698, 56)"
      ]
     },
     "execution_count": 57,
     "metadata": {},
     "output_type": "execute_result"
    }
   ],
   "source": [
    "nyc.shape"
   ]
  },
  {
   "cell_type": "code",
   "execution_count": 58,
   "metadata": {},
   "outputs": [
    {
     "name": "stdout",
     "output_type": "stream",
     "text": [
      "Null data in Complaint Type = 0\n",
      "Null data in City = 2614\n"
     ]
    }
   ],
   "source": [
    "# Checking null values in the two features of interest\n",
    "print('Null data in Complaint Type =',nyc['Complaint Type'].isnull().sum())\n",
    "print('Null data in City =',nyc['City'].isnull().sum())"
   ]
  },
  {
   "cell_type": "code",
   "execution_count": 62,
   "metadata": {},
   "outputs": [
    {
     "data": {
      "text/plain": [
       "(298084, 2)"
      ]
     },
     "execution_count": 62,
     "metadata": {},
     "output_type": "execute_result"
    }
   ],
   "source": [
    "nyc3=nyc[['Complaint Type','City']]\n",
    "nyc3=nyc3.dropna()\n",
    "nyc3.shape"
   ]
  },
  {
   "cell_type": "code",
   "execution_count": 65,
   "metadata": {},
   "outputs": [
    {
     "data": {
      "text/html": [
       "<div>\n",
       "<style scoped>\n",
       "    .dataframe tbody tr th:only-of-type {\n",
       "        vertical-align: middle;\n",
       "    }\n",
       "\n",
       "    .dataframe tbody tr th {\n",
       "        vertical-align: top;\n",
       "    }\n",
       "\n",
       "    .dataframe thead th {\n",
       "        text-align: right;\n",
       "    }\n",
       "</style>\n",
       "<table border=\"1\" class=\"dataframe\">\n",
       "  <thead>\n",
       "    <tr style=\"text-align: right;\">\n",
       "      <th>City</th>\n",
       "      <th>ARVERNE</th>\n",
       "      <th>ASTORIA</th>\n",
       "      <th>Astoria</th>\n",
       "      <th>BAYSIDE</th>\n",
       "      <th>BELLEROSE</th>\n",
       "      <th>BREEZY POINT</th>\n",
       "      <th>BRONX</th>\n",
       "      <th>BROOKLYN</th>\n",
       "      <th>CAMBRIA HEIGHTS</th>\n",
       "      <th>CENTRAL PARK</th>\n",
       "      <th>...</th>\n",
       "      <th>SOUTH OZONE PARK</th>\n",
       "      <th>SOUTH RICHMOND HILL</th>\n",
       "      <th>SPRINGFIELD GARDENS</th>\n",
       "      <th>STATEN ISLAND</th>\n",
       "      <th>SUNNYSIDE</th>\n",
       "      <th>WHITESTONE</th>\n",
       "      <th>WOODHAVEN</th>\n",
       "      <th>WOODSIDE</th>\n",
       "      <th>Woodside</th>\n",
       "      <th>Total</th>\n",
       "    </tr>\n",
       "    <tr>\n",
       "      <th>Complaint Type</th>\n",
       "      <th></th>\n",
       "      <th></th>\n",
       "      <th></th>\n",
       "      <th></th>\n",
       "      <th></th>\n",
       "      <th></th>\n",
       "      <th></th>\n",
       "      <th></th>\n",
       "      <th></th>\n",
       "      <th></th>\n",
       "      <th></th>\n",
       "      <th></th>\n",
       "      <th></th>\n",
       "      <th></th>\n",
       "      <th></th>\n",
       "      <th></th>\n",
       "      <th></th>\n",
       "      <th></th>\n",
       "      <th></th>\n",
       "      <th></th>\n",
       "      <th></th>\n",
       "    </tr>\n",
       "  </thead>\n",
       "  <tbody>\n",
       "    <tr>\n",
       "      <th>Animal Abuse</th>\n",
       "      <td>38</td>\n",
       "      <td>125</td>\n",
       "      <td>0</td>\n",
       "      <td>37</td>\n",
       "      <td>7</td>\n",
       "      <td>2</td>\n",
       "      <td>1415</td>\n",
       "      <td>2394</td>\n",
       "      <td>11</td>\n",
       "      <td>0</td>\n",
       "      <td>...</td>\n",
       "      <td>55</td>\n",
       "      <td>26</td>\n",
       "      <td>24</td>\n",
       "      <td>557</td>\n",
       "      <td>35</td>\n",
       "      <td>28</td>\n",
       "      <td>45</td>\n",
       "      <td>69</td>\n",
       "      <td>0</td>\n",
       "      <td>7767</td>\n",
       "    </tr>\n",
       "    <tr>\n",
       "      <th>Animal in a Park</th>\n",
       "      <td>0</td>\n",
       "      <td>0</td>\n",
       "      <td>0</td>\n",
       "      <td>0</td>\n",
       "      <td>0</td>\n",
       "      <td>0</td>\n",
       "      <td>0</td>\n",
       "      <td>0</td>\n",
       "      <td>0</td>\n",
       "      <td>0</td>\n",
       "      <td>...</td>\n",
       "      <td>0</td>\n",
       "      <td>0</td>\n",
       "      <td>0</td>\n",
       "      <td>0</td>\n",
       "      <td>0</td>\n",
       "      <td>0</td>\n",
       "      <td>0</td>\n",
       "      <td>0</td>\n",
       "      <td>0</td>\n",
       "      <td>1</td>\n",
       "    </tr>\n",
       "    <tr>\n",
       "      <th>Bike/Roller/Skate Chronic</th>\n",
       "      <td>0</td>\n",
       "      <td>15</td>\n",
       "      <td>0</td>\n",
       "      <td>0</td>\n",
       "      <td>1</td>\n",
       "      <td>0</td>\n",
       "      <td>20</td>\n",
       "      <td>111</td>\n",
       "      <td>0</td>\n",
       "      <td>0</td>\n",
       "      <td>...</td>\n",
       "      <td>1</td>\n",
       "      <td>1</td>\n",
       "      <td>0</td>\n",
       "      <td>7</td>\n",
       "      <td>2</td>\n",
       "      <td>4</td>\n",
       "      <td>2</td>\n",
       "      <td>4</td>\n",
       "      <td>0</td>\n",
       "      <td>422</td>\n",
       "    </tr>\n",
       "    <tr>\n",
       "      <th>Blocked Driveway</th>\n",
       "      <td>35</td>\n",
       "      <td>2618</td>\n",
       "      <td>116</td>\n",
       "      <td>377</td>\n",
       "      <td>95</td>\n",
       "      <td>3</td>\n",
       "      <td>12755</td>\n",
       "      <td>28148</td>\n",
       "      <td>147</td>\n",
       "      <td>0</td>\n",
       "      <td>...</td>\n",
       "      <td>942</td>\n",
       "      <td>1548</td>\n",
       "      <td>262</td>\n",
       "      <td>2142</td>\n",
       "      <td>206</td>\n",
       "      <td>208</td>\n",
       "      <td>1060</td>\n",
       "      <td>1613</td>\n",
       "      <td>11</td>\n",
       "      <td>76761</td>\n",
       "    </tr>\n",
       "    <tr>\n",
       "      <th>Derelict Vehicle</th>\n",
       "      <td>27</td>\n",
       "      <td>351</td>\n",
       "      <td>12</td>\n",
       "      <td>198</td>\n",
       "      <td>89</td>\n",
       "      <td>3</td>\n",
       "      <td>1953</td>\n",
       "      <td>5181</td>\n",
       "      <td>115</td>\n",
       "      <td>0</td>\n",
       "      <td>...</td>\n",
       "      <td>358</td>\n",
       "      <td>289</td>\n",
       "      <td>210</td>\n",
       "      <td>1766</td>\n",
       "      <td>10</td>\n",
       "      <td>227</td>\n",
       "      <td>308</td>\n",
       "      <td>247</td>\n",
       "      <td>2</td>\n",
       "      <td>17547</td>\n",
       "    </tr>\n",
       "  </tbody>\n",
       "</table>\n",
       "<p>5 rows × 54 columns</p>\n",
       "</div>"
      ],
      "text/plain": [
       "City                       ARVERNE  ASTORIA  Astoria  BAYSIDE  BELLEROSE  \\\n",
       "Complaint Type                                                             \n",
       "Animal Abuse                    38      125        0       37          7   \n",
       "Animal in a Park                 0        0        0        0          0   \n",
       "Bike/Roller/Skate Chronic        0       15        0        0          1   \n",
       "Blocked Driveway                35     2618      116      377         95   \n",
       "Derelict Vehicle                27      351       12      198         89   \n",
       "\n",
       "City                       BREEZY POINT  BRONX  BROOKLYN  CAMBRIA HEIGHTS  \\\n",
       "Complaint Type                                                              \n",
       "Animal Abuse                          2   1415      2394               11   \n",
       "Animal in a Park                      0      0         0                0   \n",
       "Bike/Roller/Skate Chronic             0     20       111                0   \n",
       "Blocked Driveway                      3  12755     28148              147   \n",
       "Derelict Vehicle                      3   1953      5181              115   \n",
       "\n",
       "City                       CENTRAL PARK  ...  SOUTH OZONE PARK  \\\n",
       "Complaint Type                           ...                     \n",
       "Animal Abuse                          0  ...                55   \n",
       "Animal in a Park                      0  ...                 0   \n",
       "Bike/Roller/Skate Chronic             0  ...                 1   \n",
       "Blocked Driveway                      0  ...               942   \n",
       "Derelict Vehicle                      0  ...               358   \n",
       "\n",
       "City                       SOUTH RICHMOND HILL  SPRINGFIELD GARDENS  \\\n",
       "Complaint Type                                                        \n",
       "Animal Abuse                                26                   24   \n",
       "Animal in a Park                             0                    0   \n",
       "Bike/Roller/Skate Chronic                    1                    0   \n",
       "Blocked Driveway                          1548                  262   \n",
       "Derelict Vehicle                           289                  210   \n",
       "\n",
       "City                       STATEN ISLAND  SUNNYSIDE  WHITESTONE  WOODHAVEN  \\\n",
       "Complaint Type                                                               \n",
       "Animal Abuse                         557         35          28         45   \n",
       "Animal in a Park                       0          0           0          0   \n",
       "Bike/Roller/Skate Chronic              7          2           4          2   \n",
       "Blocked Driveway                    2142        206         208       1060   \n",
       "Derelict Vehicle                    1766         10         227        308   \n",
       "\n",
       "City                       WOODSIDE  Woodside  Total  \n",
       "Complaint Type                                        \n",
       "Animal Abuse                     69         0   7767  \n",
       "Animal in a Park                  0         0      1  \n",
       "Bike/Roller/Skate Chronic         4         0    422  \n",
       "Blocked Driveway               1613        11  76761  \n",
       "Derelict Vehicle                247         2  17547  \n",
       "\n",
       "[5 rows x 54 columns]"
      ]
     },
     "execution_count": 65,
     "metadata": {},
     "output_type": "execute_result"
    }
   ],
   "source": [
    "CityAndComplaint=pd.crosstab(nyc3['Complaint Type'],nyc3['City'],margins=True,margins_name= 'Total')\n",
    "CityAndComplaint.head()"
   ]
  },
  {
   "cell_type": "code",
   "execution_count": 69,
   "metadata": {},
   "outputs": [
    {
     "name": "stdout",
     "output_type": "stream",
     "text": [
      "chi square value is 119769.34666374495\n",
      "p_value is 0.0\n"
     ]
    }
   ],
   "source": [
    "chai2,p_val,df,exp_freq=stat.chi2_contingency(CityAndComplaint)\n",
    "print('chi square value is',chai2)\n",
    "print('p_value is',p_val)"
   ]
  },
  {
   "cell_type": "code",
   "execution_count": 70,
   "metadata": {},
   "outputs": [
    {
     "name": "stdout",
     "output_type": "stream",
     "text": [
      "Null hypothesis is rejected at 5% level of significance since p value(0.0) is less than 0.05\n"
     ]
    }
   ],
   "source": [
    "if (p_val<0.05):\n",
    "    print('Null hypothesis is rejected at 5% level of significance since p value({}) is less than 0.05'.format(np.around(p_val,decimals=2)))\n",
    "else:\n",
    "    print('Null hypothesis is accepted at 5% level of significance since p value({}) is greater than 0.05'.format(np.around(p_val,decimals=2)))"
   ]
  },
  {
   "cell_type": "code",
   "execution_count": 71,
   "metadata": {},
   "outputs": [
    {
     "name": "stdout",
     "output_type": "stream",
     "text": [
      "hence, we can conclude that complaint types & location/cities are significantly related to each other\n"
     ]
    }
   ],
   "source": [
    "print('hence, we can conclude that complaint types & location/cities are significantly related to each other')"
   ]
  },
  {
   "cell_type": "code",
   "execution_count": null,
   "metadata": {},
   "outputs": [],
   "source": []
  }
 ],
 "metadata": {
  "kernelspec": {
   "display_name": "Python 3 (ipykernel)",
   "language": "python",
   "name": "python3"
  },
  "language_info": {
   "codemirror_mode": {
    "name": "ipython",
    "version": 3
   },
   "file_extension": ".py",
   "mimetype": "text/x-python",
   "name": "python",
   "nbconvert_exporter": "python",
   "pygments_lexer": "ipython3",
   "version": "3.10.5"
  }
 },
 "nbformat": 4,
 "nbformat_minor": 4
}
